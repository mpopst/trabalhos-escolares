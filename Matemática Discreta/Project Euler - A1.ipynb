{
 "cells": [
  {
   "cell_type": "markdown",
   "metadata": {},
   "source": [
    "# Matemática Discreta A1 - Projeto Euler"
   ]
  },
  {
   "cell_type": "markdown",
   "metadata": {},
   "source": [
    "Decidi aprender Julia para fazer o trabalho de Matemática Discreta. Essa linguagem é a queridinha do pessoal de otimização."
   ]
  },
  {
   "cell_type": "code",
   "execution_count": 1,
   "metadata": {},
   "outputs": [
    {
     "name": "stdout",
     "output_type": "stream",
     "text": [
      "Hello world\n"
     ]
    }
   ],
   "source": [
    "println(\"Hello world\")"
   ]
  },
  {
   "cell_type": "markdown",
   "metadata": {},
   "source": [
    "Eu assisti um vídeo na internet chamado [The quickest introduction to Julia for pythonistas](https://www.youtube.com/watch?v=EJ7PLSrfj9M). Acaso esteja lendo este texto significa que eu não desisti no meio e fiz não fiz o trabalho em Python."
   ]
  },
  {
   "cell_type": "code",
   "execution_count": 2,
   "metadata": {},
   "outputs": [
    {
     "data": {
      "text/plain": [
       "Fib (generic function with 1 method)"
      ]
     },
     "execution_count": 2,
     "metadata": {},
     "output_type": "execute_result"
    }
   ],
   "source": [
    "Fib(n) = if (n == 1 || n==0) 1 else Fib(n-1) + Fib(n-2) end"
   ]
  },
  {
   "cell_type": "code",
   "execution_count": 3,
   "metadata": {},
   "outputs": [
    {
     "name": "stdout",
     "output_type": "stream",
     "text": [
      "  0.128076 seconds (209.06 k allocations: 10.213 MiB)\n"
     ]
    },
    {
     "data": {
      "text/plain": [
       "15×2 Array{Int64,2}:\n",
       "  1    1\n",
       "  2    2\n",
       "  3    3\n",
       "  4    5\n",
       "  5    8\n",
       "  6   13\n",
       "  7   21\n",
       "  8   34\n",
       "  9   55\n",
       " 10   89\n",
       " 11  144\n",
       " 12  233\n",
       " 13  377\n",
       " 14  610\n",
       " 15  987"
      ]
     },
     "execution_count": 3,
     "metadata": {},
     "output_type": "execute_result"
    }
   ],
   "source": [
    "@time Φ = [if j==1 i else Fib(i) end for i in 1:15, j in 1:2]\n",
    "Φ"
   ]
  },
  {
   "cell_type": "markdown",
   "metadata": {},
   "source": [
    "# [Problema 1](https://projecteuler.net/problem=1) (aquecimento)\n",
    "\n",
    "If we list all the natural numbers below 10 that are multiples of 3 or 5, we get 3, 5, 6 and 9. The sum of these multiples is 23.\n",
    "\n",
    "Find the sum of all the multiples of 3 or 5 below 1000.\n"
   ]
  },
  {
   "cell_type": "code",
   "execution_count": 4,
   "metadata": {},
   "outputs": [
    {
     "data": {
      "text/plain": [
       "Mult_Or (generic function with 1 method)"
      ]
     },
     "execution_count": 4,
     "metadata": {},
     "output_type": "execute_result"
    }
   ],
   "source": [
    "Mult_Or(k,a,b) = if k % a == 0 || k % b == 0 k else 0 end"
   ]
  },
  {
   "cell_type": "code",
   "execution_count": 5,
   "metadata": {},
   "outputs": [
    {
     "data": {
      "text/plain": [
       "my_sum (generic function with 1 method)"
      ]
     },
     "execution_count": 5,
     "metadata": {},
     "output_type": "execute_result"
    }
   ],
   "source": [
    "sum_Helper(fun, max) = if max != 0 fun(max) + sum_Helper(fun,max-1) else 0 end\n",
    "my_sum(max, a, b) = sum_Helper(((candidate) -> Mult_Or(candidate,a,b)), max-1)"
   ]
  },
  {
   "cell_type": "code",
   "execution_count": 6,
   "metadata": {},
   "outputs": [
    {
     "data": {
      "text/plain": [
       "23"
      ]
     },
     "execution_count": 6,
     "metadata": {},
     "output_type": "execute_result"
    }
   ],
   "source": [
    "my_sum(10,3,5)"
   ]
  },
  {
   "cell_type": "code",
   "execution_count": 7,
   "metadata": {},
   "outputs": [
    {
     "name": "stdout",
     "output_type": "stream",
     "text": [
      "  0.000023 seconds (5 allocations: 176 bytes)\n"
     ]
    },
    {
     "data": {
      "text/plain": [
       "233168"
      ]
     },
     "execution_count": 7,
     "metadata": {},
     "output_type": "execute_result"
    }
   ],
   "source": [
    "@time my_sum(1000,3,5)"
   ]
  },
  {
   "cell_type": "code",
   "execution_count": 8,
   "metadata": {},
   "outputs": [
    {
     "name": "stdout",
     "output_type": "stream",
     "text": [
      "  0.108090 seconds (66.94 k allocations: 3.373 MiB)\n"
     ]
    },
    {
     "data": {
      "text/plain": [
       "233168"
      ]
     },
     "execution_count": 8,
     "metadata": {},
     "output_type": "execute_result"
    }
   ],
   "source": [
    "@time sum([k for k = 1:999 if k % 3 == 0 || k % 5 == 0]) #mais simples, mas menos genérico, menos rápido e menos legal"
   ]
  },
  {
   "cell_type": "code",
   "execution_count": 9,
   "metadata": {},
   "outputs": [
    {
     "data": {
      "text/plain": [
       "my_Func2 (generic function with 1 method)"
      ]
     },
     "execution_count": 9,
     "metadata": {},
     "output_type": "execute_result"
    }
   ],
   "source": [
    "function my_Func2(max)\n",
    "    resp = 0\n",
    "    for k = 1:(max-1)\n",
    "        if k % 3 == 0 || k% 5 == 0\n",
    "            resp += k\n",
    "        end\n",
    "    end\n",
    "    return resp\n",
    "end"
   ]
  },
  {
   "cell_type": "code",
   "execution_count": 10,
   "metadata": {},
   "outputs": [
    {
     "name": "stdout",
     "output_type": "stream",
     "text": [
      "  0.020095 seconds (16.64 k allocations: 887.530 KiB)\n"
     ]
    },
    {
     "data": {
      "text/plain": [
       "233168"
      ]
     },
     "execution_count": 10,
     "metadata": {},
     "output_type": "execute_result"
    }
   ],
   "source": [
    "@time my_Func2(1000) "
   ]
  },
  {
   "cell_type": "code",
   "execution_count": 11,
   "metadata": {},
   "outputs": [
    {
     "name": "stdout",
     "output_type": "stream",
     "text": [
      "  0.000009 seconds (5 allocations: 176 bytes)\n"
     ]
    },
    {
     "data": {
      "text/plain": [
       "233168"
      ]
     },
     "execution_count": 11,
     "metadata": {},
     "output_type": "execute_result"
    }
   ],
   "source": [
    "@time my_Func2(1000) #Aparentemente, o Julia tem um memoization rolando por debaixo dos panos"
   ]
  },
  {
   "cell_type": "markdown",
   "metadata": {},
   "source": [
    "# [Problema 2](https://projecteuler.net/problem=2)\n",
    "\n",
    "\n",
    "Each new term in the Fibonacci sequence is generated by adding the previous two terms. By starting with $1$ and $2$, the first 10 terms will be:\n",
    "\n",
    "$1, 2, 3, 5, 8, 13, 21, 34, 55, 89\\ldots$\n",
    "\n",
    "By considering the terms in the Fibonacci sequence whose values do not exceed four million, find the sum of the even-valued terms.\n"
   ]
  },
  {
   "cell_type": "markdown",
   "metadata": {},
   "source": [
    "**Lema:** $F_n\\ |\\ 2  \\Rightarrow n+1\\ |\\ 3$\n",
    "\n",
    "Se $F_n$ é par, existem duas possíbilidades. Ou $F_{n-1}$ e $F_{n-2}$ são ambos pares, ou são ambos ímpares. Suponha por absurdo que ambos são pares, logo isso implicaria que $F_n$ é par para todo $n$. Mas existe $F_n$ ímpar, portanto não podem $F_{n-1}$ e $F_{n-2}$ ambos pares. No caso de serem ambos ímpares, logo nota-se um padrão. Considere a sequência $(\\ldots,F_{n-3},F_{n-2},F_{n-1},F_{n},F_{n+1},F_{n+2},F_{n+3},\\ldots)$. Adicionemos as informações que temos. $(\\ldots,F_{n-3},F_{n-2}^i,F_{n-1}^i,F_{n}^p,F_{n+1},F_{n+2},F_{n+3},\\ldots)$. Ora, conseguimos preencher o resto da sequência. $(\\ldots,F_{n-3}^p,F_{n-2}^i,F_{n-1}^i,F_{n}^p,F_{n+1}^i,F_{n+2}^i,F_{n+3}^p,\\ldots)$. Portanto $F_n$ é par a cada $3$ números de Fibonacci. Mas sabemos que $F_2$ é par, isso implica que $n+1|3$ para todo $n$, por conta da periodicidade das aparições."
   ]
  },
  {
   "cell_type": "code",
   "execution_count": 12,
   "metadata": {},
   "outputs": [
    {
     "data": {
      "text/plain": [
       "Euler2 (generic function with 1 method)"
      ]
     },
     "execution_count": 12,
     "metadata": {},
     "output_type": "execute_result"
    }
   ],
   "source": [
    "function Euler2(max, this_Fib)\n",
    "    flag = true\n",
    "    index = 2\n",
    "    sum = 0\n",
    "    next_Fib = this_Fib(index)\n",
    "    while flag\n",
    "        sum += next_Fib\n",
    "        index += 3\n",
    "        next_Fib = this_Fib(index)\n",
    "        flag = next_Fib <= max  \n",
    "    end\n",
    "    return sum\n",
    "end"
   ]
  },
  {
   "cell_type": "code",
   "execution_count": 13,
   "metadata": {},
   "outputs": [
    {
     "name": "stdout",
     "output_type": "stream",
     "text": [
      "  0.125439 seconds (19.47 k allocations: 1002.483 KiB)\n"
     ]
    },
    {
     "data": {
      "text/plain": [
       "4613732"
      ]
     },
     "execution_count": 13,
     "metadata": {},
     "output_type": "execute_result"
    }
   ],
   "source": [
    "@time Euler2(4000000,Fib)"
   ]
  },
  {
   "cell_type": "markdown",
   "metadata": {},
   "source": [
    "Estamos Fibonacci definida por recursão (escrevi no começo do ipynb sem saber que iria acabar usando apenas para verificar se eu sabia escrever uma função em Julia). Vamos tentar fazer melhor, com algoritmo $O(n)$?\n",
    "\n",
    "Um professor de matemática discreta provou que:\n",
    "\n",
    "$F_n = \\dfrac{1}{\\sqrt{5}}\\left[\\left(\\frac{1+\\sqrt{5}}{2}\\right)^n-\\left(\\frac{1-\\sqrt{5}}{2}\\right)^n\\right]$"
   ]
  },
  {
   "cell_type": "code",
   "execution_count": 14,
   "metadata": {},
   "outputs": [
    {
     "data": {
      "text/plain": [
       "Smart_Fib (generic function with 1 method)"
      ]
     },
     "execution_count": 14,
     "metadata": {},
     "output_type": "execute_result"
    }
   ],
   "source": [
    "Smart_Fib(n) = (((1+sqrt(5))/2)^(n+1) - ((1-sqrt(5))/2)^(n+1))/sqrt(5)"
   ]
  },
  {
   "cell_type": "code",
   "execution_count": 15,
   "metadata": {},
   "outputs": [
    {
     "name": "stdout",
     "output_type": "stream",
     "text": [
      "  0.056239 seconds (57.60 k allocations: 3.066 MiB)\n"
     ]
    },
    {
     "data": {
      "text/plain": [
       "4613732"
      ]
     },
     "execution_count": 15,
     "metadata": {},
     "output_type": "execute_result"
    }
   ],
   "source": [
    "@time trunc(Int,Euler2(4000000,Smart_Fib))"
   ]
  },
  {
   "cell_type": "markdown",
   "metadata": {},
   "source": [
    "Como esperado, ao usar um algoritmo $O(n)$, conseguimos melhorar bastante o tempo de execução."
   ]
  },
  {
   "cell_type": "code",
   "execution_count": null,
   "metadata": {},
   "outputs": [],
   "source": []
  }
 ],
 "metadata": {
  "kernelspec": {
   "display_name": "Julia 1.0.3",
   "language": "julia",
   "name": "julia-1.0"
  },
  "language_info": {
   "file_extension": ".jl",
   "mimetype": "application/julia",
   "name": "julia",
   "version": "1.0.3"
  }
 },
 "nbformat": 4,
 "nbformat_minor": 2
}
