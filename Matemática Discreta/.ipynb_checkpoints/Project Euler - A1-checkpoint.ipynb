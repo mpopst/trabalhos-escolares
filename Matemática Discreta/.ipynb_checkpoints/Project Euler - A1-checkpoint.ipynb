{
 "cells": [
  {
   "cell_type": "markdown",
   "metadata": {},
   "source": [
    "# Matemática Discreta A1 - Projeto Euler"
   ]
  },
  {
   "cell_type": "markdown",
   "metadata": {},
   "source": [
    "Decidi aprender Julia para fazer o trabalho de Matemática Discreta. Essa linguagem é a queridinha do pessoal de otimização."
   ]
  },
  {
   "cell_type": "code",
   "execution_count": 1,
   "metadata": {},
   "outputs": [
    {
     "name": "stdout",
     "output_type": "stream",
     "text": [
      "Hello world\n"
     ]
    }
   ],
   "source": [
    "println(\"Hello world\")"
   ]
  },
  {
   "cell_type": "markdown",
   "metadata": {},
   "source": [
    "Eu assisti um vídeo na internet chamado [The quickest introduction to Julia for pythonistas](https://www.youtube.com/watch?v=EJ7PLSrfj9M). Acaso esteja lendo este texto significa que eu não desisti no meio e fiz não fiz o trabalho em Python."
   ]
  },
  {
   "cell_type": "code",
   "execution_count": 2,
   "metadata": {},
   "outputs": [
    {
     "data": {
      "text/plain": [
       "Fib (generic function with 1 method)"
      ]
     },
     "execution_count": 2,
     "metadata": {},
     "output_type": "execute_result"
    }
   ],
   "source": [
    "Fib(n) = if (n == 1 || n==0) 1 else Fib(n-1) + Fib(n-2) end"
   ]
  },
  {
   "cell_type": "code",
   "execution_count": 3,
   "metadata": {},
   "outputs": [
    {
     "name": "stdout",
     "output_type": "stream",
     "text": [
      "  0.114585 seconds (209.06 k allocations: 10.213 MiB)\n"
     ]
    },
    {
     "data": {
      "text/plain": [
       "15×2 Array{Int64,2}:\n",
       "  1    1\n",
       "  2    2\n",
       "  3    3\n",
       "  4    5\n",
       "  5    8\n",
       "  6   13\n",
       "  7   21\n",
       "  8   34\n",
       "  9   55\n",
       " 10   89\n",
       " 11  144\n",
       " 12  233\n",
       " 13  377\n",
       " 14  610\n",
       " 15  987"
      ]
     },
     "execution_count": 3,
     "metadata": {},
     "output_type": "execute_result"
    }
   ],
   "source": [
    "@time Φ = [if j==1 i else Fib(i) end for i in 1:15, j in 1:2]\n",
    "Φ"
   ]
  },
  {
   "cell_type": "markdown",
   "metadata": {},
   "source": [
    "# [Problema 1](https://projecteuler.net/problem=1) (aquecimento)\n",
    "\n",
    "If we list all the natural numbers below 10 that are multiples of 3 or 5, we get 3, 5, 6 and 9. The sum of these multiples is 23.\n",
    "\n",
    "Find the sum of all the multiples of 3 or 5 below 1000.\n"
   ]
  },
  {
   "cell_type": "code",
   "execution_count": 4,
   "metadata": {},
   "outputs": [
    {
     "data": {
      "text/plain": [
       "Mult_Or (generic function with 1 method)"
      ]
     },
     "execution_count": 4,
     "metadata": {},
     "output_type": "execute_result"
    }
   ],
   "source": [
    "Mult_Or(k,a,b) = if k % a == 0 || k % b == 0 k else 0 end"
   ]
  },
  {
   "cell_type": "code",
   "execution_count": 5,
   "metadata": {},
   "outputs": [
    {
     "data": {
      "text/plain": [
       "my_sum (generic function with 1 method)"
      ]
     },
     "execution_count": 5,
     "metadata": {},
     "output_type": "execute_result"
    }
   ],
   "source": [
    "sum_Helper(fun, max) = if max != 0 fun(max) + sum_Helper(fun,max-1) else 0 end\n",
    "my_sum(max, a, b) = sum_Helper(((candidate) -> Mult_Or(candidate,a,b)), max-1)"
   ]
  },
  {
   "cell_type": "code",
   "execution_count": 6,
   "metadata": {},
   "outputs": [
    {
     "name": "stdout",
     "output_type": "stream",
     "text": [
      "  0.016012 seconds (11.07 k allocations: 581.936 KiB)\n"
     ]
    },
    {
     "data": {
      "text/plain": [
       "233168"
      ]
     },
     "execution_count": 6,
     "metadata": {},
     "output_type": "execute_result"
    }
   ],
   "source": [
    "@time my_sum(1000,3,5)"
   ]
  },
  {
   "cell_type": "code",
   "execution_count": 7,
   "metadata": {},
   "outputs": [
    {
     "name": "stdout",
     "output_type": "stream",
     "text": [
      "  0.000004 seconds (4 allocations: 160 bytes)\n"
     ]
    },
    {
     "data": {
      "text/plain": [
       "23"
      ]
     },
     "execution_count": 7,
     "metadata": {},
     "output_type": "execute_result"
    }
   ],
   "source": [
    "@time my_sum(10,3,5)"
   ]
  },
  {
   "cell_type": "code",
   "execution_count": 8,
   "metadata": {},
   "outputs": [
    {
     "name": "stdout",
     "output_type": "stream",
     "text": [
      "  0.113356 seconds (66.94 k allocations: 3.373 MiB)\n"
     ]
    },
    {
     "data": {
      "text/plain": [
       "233168"
      ]
     },
     "execution_count": 8,
     "metadata": {},
     "output_type": "execute_result"
    }
   ],
   "source": [
    "@time sum([k for k = 1:999 if k % 3 == 0 || k % 5 == 0]) #mais simples, mas menos genérico, menos rápido e menos legal"
   ]
  },
  {
   "cell_type": "code",
   "execution_count": 9,
   "metadata": {},
   "outputs": [
    {
     "data": {
      "text/plain": [
       "my_sum1 (generic function with 1 method)"
      ]
     },
     "execution_count": 9,
     "metadata": {},
     "output_type": "execute_result"
    }
   ],
   "source": [
    "my_sum1(m) = sum([k for k = 1:m if k % 3 == 0 || k % 5 == 0])"
   ]
  },
  {
   "cell_type": "code",
   "execution_count": 10,
   "metadata": {},
   "outputs": [
    {
     "name": "stdout",
     "output_type": "stream",
     "text": [
      "  0.087142 seconds (81.84 k allocations: 4.128 MiB)\n"
     ]
    },
    {
     "data": {
      "text/plain": [
       "234168"
      ]
     },
     "execution_count": 10,
     "metadata": {},
     "output_type": "execute_result"
    }
   ],
   "source": [
    "@time my_sum1(1000)"
   ]
  },
  {
   "cell_type": "code",
   "execution_count": 11,
   "metadata": {},
   "outputs": [
    {
     "name": "stdout",
     "output_type": "stream",
     "text": [
      "  0.000030 seconds (15 allocations: 8.641 KiB)\n"
     ]
    },
    {
     "data": {
      "text/plain": [
       "234168"
      ]
     },
     "execution_count": 11,
     "metadata": {},
     "output_type": "execute_result"
    }
   ],
   "source": [
    "@time my_sum1(1000)"
   ]
  },
  {
   "cell_type": "code",
   "execution_count": 12,
   "metadata": {},
   "outputs": [
    {
     "data": {
      "text/plain": [
       "my_Func2 (generic function with 1 method)"
      ]
     },
     "execution_count": 12,
     "metadata": {},
     "output_type": "execute_result"
    }
   ],
   "source": [
    "function my_Func2(max)\n",
    "    resp = 0\n",
    "    for k = 1:(max-1)\n",
    "        \n",
    "        if k % 3 == 0 || k% 5 == 0\n",
    "            resp += k\n",
    "        end\n",
    "    end\n",
    "    return resp\n",
    "end"
   ]
  },
  {
   "cell_type": "code",
   "execution_count": 13,
   "metadata": {},
   "outputs": [
    {
     "name": "stdout",
     "output_type": "stream",
     "text": [
      "  0.017728 seconds (16.64 k allocations: 887.530 KiB)\n"
     ]
    },
    {
     "data": {
      "text/plain": [
       "233168"
      ]
     },
     "execution_count": 13,
     "metadata": {},
     "output_type": "execute_result"
    }
   ],
   "source": [
    "@time my_Func2(1000) "
   ]
  },
  {
   "cell_type": "code",
   "execution_count": 14,
   "metadata": {},
   "outputs": [
    {
     "name": "stdout",
     "output_type": "stream",
     "text": [
      "  0.000009 seconds (5 allocations: 176 bytes)\n"
     ]
    },
    {
     "data": {
      "text/plain": [
       "233168"
      ]
     },
     "execution_count": 14,
     "metadata": {},
     "output_type": "execute_result"
    }
   ],
   "source": [
    "@time my_Func2(1000) #Aparentemente, o Julia tem um memoization rolando por debaixo dos panos"
   ]
  },
  {
   "cell_type": "markdown",
   "metadata": {},
   "source": [
    "# [Problema 2](https://projecteuler.net/problem=2)\n",
    "\n",
    "\n",
    "Each new term in the Fibonacci sequence is generated by adding the previous two terms. By starting with $1$ and $2$, the first 10 terms will be:\n",
    "\n",
    "$1, 2, 3, 5, 8, 13, 21, 34, 55, 89\\ldots$\n",
    "\n",
    "By considering the terms in the Fibonacci sequence whose values do not exceed four million, find the sum of the even-valued terms.\n"
   ]
  },
  {
   "cell_type": "markdown",
   "metadata": {},
   "source": [
    "**Lema:** $F_n\\ |\\ 2  \\Rightarrow n+1\\ |\\ 3$\n",
    "\n",
    "Se $F_n$ é par, existem duas possíbilidades. Ou $F_{n-1}$ e $F_{n-2}$ são ambos pares, ou são ambos ímpares. Suponha por absurdo que ambos são pares, logo isso implicaria que $F_n$ é par para todo $n$. Mas existe $F_n$ ímpar, portanto não podem $F_{n-1}$ e $F_{n-2}$ ambos pares. No caso de serem ambos ímpares, logo nota-se um padrão. Considere a sequência $(\\ldots,F_{n-3},F_{n-2},F_{n-1},F_{n},F_{n+1},F_{n+2},F_{n+3},\\ldots)$. Adicionemos as informações que temos. $(\\ldots,F_{n-3},F_{n-2}^i,F_{n-1}^i,F_{n}^p,F_{n+1},F_{n+2},F_{n+3},\\ldots)$. Ora, conseguimos preencher o resto da sequência. $(\\ldots,F_{n-3}^p,F_{n-2}^i,F_{n-1}^i,F_{n}^p,F_{n+1}^i,F_{n+2}^i,F_{n+3}^p,\\ldots)$. Portanto $F_n$ é par a cada $3$ números de Fibonacci. Mas sabemos que $F_2$ é par, isso implica que $n+1|3$ para todo $n$, por conta da periodicidade das aparições."
   ]
  },
  {
   "cell_type": "code",
   "execution_count": 15,
   "metadata": {},
   "outputs": [
    {
     "data": {
      "text/plain": [
       "Euler2 (generic function with 1 method)"
      ]
     },
     "execution_count": 15,
     "metadata": {},
     "output_type": "execute_result"
    }
   ],
   "source": [
    "function Euler2(max, this_Fib)\n",
    "    flag = true\n",
    "    index = 2\n",
    "    sum = 0\n",
    "    next_Fib = this_Fib(index)\n",
    "    while flag\n",
    "        sum += next_Fib\n",
    "        index += 3\n",
    "        next_Fib = this_Fib(index)\n",
    "        flag = next_Fib <= max  \n",
    "    end\n",
    "    return sum\n",
    "end"
   ]
  },
  {
   "cell_type": "code",
   "execution_count": 16,
   "metadata": {},
   "outputs": [
    {
     "name": "stdout",
     "output_type": "stream",
     "text": [
      "  0.116314 seconds (19.47 k allocations: 1002.483 KiB)\n"
     ]
    },
    {
     "data": {
      "text/plain": [
       "4613732"
      ]
     },
     "execution_count": 16,
     "metadata": {},
     "output_type": "execute_result"
    }
   ],
   "source": [
    "@time Euler2(4000000,Fib)"
   ]
  },
  {
   "cell_type": "markdown",
   "metadata": {},
   "source": [
    "Estamos Fibonacci definida por recursão (escrevi no começo do ipynb sem saber que iria acabar usando apenas para verificar se eu sabia escrever uma função em Julia). Vamos tentar fazer melhor, com algoritmo $O(n)$?\n",
    "\n",
    "Um professor de matemática discreta provou que:\n",
    "\n",
    "$F_n = \\dfrac{1}{\\sqrt{5}}\\left[\\left(\\frac{1+\\sqrt{5}}{2}\\right)^n-\\left(\\frac{1-\\sqrt{5}}{2}\\right)^n\\right]$"
   ]
  },
  {
   "cell_type": "code",
   "execution_count": 17,
   "metadata": {},
   "outputs": [
    {
     "data": {
      "text/plain": [
       "Smart_Fib (generic function with 1 method)"
      ]
     },
     "execution_count": 17,
     "metadata": {},
     "output_type": "execute_result"
    }
   ],
   "source": [
    "Smart_Fib(n) = (((1+sqrt(5))/2)^(n+1) - ((1-sqrt(5))/2)^(n+1))/sqrt(5)"
   ]
  },
  {
   "cell_type": "code",
   "execution_count": 18,
   "metadata": {},
   "outputs": [
    {
     "name": "stdout",
     "output_type": "stream",
     "text": [
      "  0.044375 seconds (57.60 k allocations: 3.066 MiB)\n"
     ]
    },
    {
     "data": {
      "text/plain": [
       "4613732"
      ]
     },
     "execution_count": 18,
     "metadata": {},
     "output_type": "execute_result"
    }
   ],
   "source": [
    "@time trunc(Int,Euler2(4000000,Smart_Fib))"
   ]
  },
  {
   "cell_type": "markdown",
   "metadata": {},
   "source": [
    "Como esperado, ao usar um algoritmo $O(n)$, conseguimos melhorar bastante o tempo de execução."
   ]
  },
  {
   "cell_type": "markdown",
   "metadata": {},
   "source": [
    "# [Problema 12](https://projecteuler.net/problem=12)\n",
    "\n",
    "\n",
    "The sequence of triangle numbers is generated by adding the natural numbers. So the 7th triangle number would be 1 + 2 + 3 + 4 + 5 + 6 + 7 = 28. The first ten terms would be:\n",
    "\n",
    "1, 3, 6, 10, 15, 21, 28, 36, 45, 55, ...\n",
    "\n",
    "Let us list the factors of the first seven triangle numbers:\n",
    "\n",
    "     1: 1\n",
    "     3: 1,3\n",
    "     6: 1,2,3,6\n",
    "    10: 1,2,5,10\n",
    "    15: 1,3,5,15\n",
    "    21: 1,3,7,21\n",
    "    28: 1,2,4,7,14,28\n",
    "\n",
    "We can see that 28 is the first triangle number to have over five divisors.\n",
    "\n",
    "What is the value of the first triangle number to have over five hundred divisors?\n"
   ]
  },
  {
   "cell_type": "code",
   "execution_count": 19,
   "metadata": {},
   "outputs": [
    {
     "data": {
      "text/plain": [
       "is_Prime (generic function with 1 method)"
      ]
     },
     "execution_count": 19,
     "metadata": {},
     "output_type": "execute_result"
    }
   ],
   "source": [
    "function is_Prime_helper(candidate, primes) #é divísivel por alguém na lista de primos\n",
    "    for prime in primes\n",
    "        if candidate % prime == 0\n",
    "            return true\n",
    "        end\n",
    "    end\n",
    "    return false\n",
    "end\n",
    "\n",
    "function is_Prime(candidate, primes)\n",
    "    candidate = abs(candidate)\n",
    "    if candidate == 1\n",
    "        return (false, primes)\n",
    "    end\n",
    "    # se o candidato está na lista de primos\n",
    "    if candidate in primes\n",
    "        return (true, primes)\n",
    "    end\n",
    "    \n",
    "    #se o candidato é divisível por alguém na lista de primos\n",
    "    resp = is_Prime_helper(candidate, primes)\n",
    "    if resp \n",
    "        return (false, primes)\n",
    "    else\n",
    "    \n",
    "    #teste de primalidade clássico\n",
    "    index = 5\n",
    "    while index * index <= candidate\n",
    "        if candidate % index == 0 || candidate % (index + 2) == 0\n",
    "            return (false, primes)\n",
    "        else\n",
    "            index = index + 6\n",
    "        end\n",
    "    end\n",
    "    primes = vcat(primes, [candidate])\n",
    "    return (true,primes)\n",
    "    end\n",
    "end"
   ]
  },
  {
   "cell_type": "code",
   "execution_count": 20,
   "metadata": {},
   "outputs": [
    {
     "data": {
      "text/plain": [
       "qtd_of_divisors (generic function with 1 method)"
      ]
     },
     "execution_count": 20,
     "metadata": {},
     "output_type": "execute_result"
    }
   ],
   "source": [
    "function dict_of_divisors(div_Primos)\n",
    "    nums = Dict()\n",
    "    for elem in div_Primos\n",
    "        if elem in keys(nums)\n",
    "            nums[elem] = nums[elem] + 1\n",
    "        else\n",
    "            nums[elem] = 1\n",
    "        end\n",
    "    end\n",
    "    return nums\n",
    "end\n",
    "\n",
    "\n",
    "function qtd_of_divisors(candidate,primes, iterador)\n",
    "    if iterador == 1 iterador = iterador + 1 end\n",
    "    while iterador < candidate\n",
    "        bool, primes = is_Prime(iterador, primes)\n",
    "        iterador = iterador + 1\n",
    "    end\n",
    "    resto = candidate\n",
    "    div_Primos = []\n",
    "    index = 1\n",
    "    while resto != 1 || index <= size(primes)[1]\n",
    "        while resto % primes[index] == 0\n",
    "            x = primes[index]\n",
    "            div_Primos = vcat(div_Primos,[primes[index]])\n",
    "            resto = resto / primes[index]\n",
    "        end\n",
    "        index += 1\n",
    "    end\n",
    "    if size(div_Primos)[1] == 0\n",
    "        primes = vcat(primes,[candidate])\n",
    "        div_Primos = vcat(div_Primos,[candidate])\n",
    "    end\n",
    "    nums = dict_of_divisors(div_Primos)\n",
    "    resp = 1\n",
    "    for key in keys(nums)\n",
    "        resp = resp * (nums[key] + 1)\n",
    "    end\n",
    "    return (resp,primes, iterador)\n",
    "end\n"
   ]
  },
  {
   "cell_type": "code",
   "execution_count": 21,
   "metadata": {},
   "outputs": [
    {
     "data": {
      "text/plain": [
       "exercicio12 (generic function with 1 method)"
      ]
     },
     "execution_count": 21,
     "metadata": {},
     "output_type": "execute_result"
    }
   ],
   "source": [
    "function exercicio12()\n",
    "    triang = 3\n",
    "    n = 2\n",
    "    x, primes, iterador = qtd_of_divisors(triang, [2,3,5],1)\n",
    "    while x < 500\n",
    "        n = n + 1\n",
    "        triang = triang + n\n",
    "        x, primes, iterador = qtd_of_divisors(triang,primes,iterador)\n",
    "    end\n",
    "    return triang, x\n",
    "end"
   ]
  },
  {
   "cell_type": "code",
   "execution_count": 22,
   "metadata": {},
   "outputs": [],
   "source": [
    "#@time exercicio12()"
   ]
  },
  {
   "cell_type": "markdown",
   "metadata": {},
   "source": [
    "# Exercicio 20:\n",
    "\n",
    "\n",
    "\n",
    "n! means n × (n − 1) × ... × 3 × 2 × 1\n",
    "\n",
    "For example, 10! = 10 × 9 × ... × 3 × 2 × 1 = 3628800,\n",
    "and the sum of the digits in the number 10! is 3 + 6 + 2 + 8 + 8 + 0 + 0 = 27.\n",
    "\n",
    "Find the sum of the digits in the number 100!\n"
   ]
  },
  {
   "cell_type": "markdown",
   "metadata": {},
   "source": [
    "Esse problema é equivalente a resolver o problema de encontrar a soma dos dígitos de $\\frac{100!}{10^{10}}$"
   ]
  },
  {
   "cell_type": "code",
   "execution_count": 23,
   "metadata": {},
   "outputs": [
    {
     "data": {
      "text/plain": [
       "list_of_primes_divisors (generic function with 1 method)"
      ]
     },
     "execution_count": 23,
     "metadata": {},
     "output_type": "execute_result"
    }
   ],
   "source": [
    "function list_of_primes_divisors(candidate, primes)\n",
    "    bool, primes = is_Prime(candidate, primes)\n",
    "    if bool\n",
    "        return (primes, [candidate]) \n",
    "    end\n",
    "    resto = candidate\n",
    "    div_Primos = []\n",
    "    index = 1\n",
    "    while resto != 1 && index <= size(primes)[1]\n",
    "        while resto % primes[index] == 0\n",
    "            x = primes[index]\n",
    "            div_Primos = vcat(div_Primos,[x])\n",
    "            resto = resto / x\n",
    "        end\n",
    "        index += 1\n",
    "    end\n",
    "    if size(div_Primos)[1] == 0 \n",
    "        div_Primos = vcat(div_Primos,[candidate])\n",
    "    end\n",
    "    return primes, div_Primos\n",
    "end"
   ]
  },
  {
   "cell_type": "code",
   "execution_count": 45,
   "metadata": {},
   "outputs": [
    {
     "data": {
      "text/plain": [
       "cem_Primos (generic function with 1 method)"
      ]
     },
     "execution_count": 45,
     "metadata": {},
     "output_type": "execute_result"
    }
   ],
   "source": [
    "function primes_until(m)\n",
    "    crivo = [true for i = 1:m]\n",
    "    crivo[1] = false\n",
    "    for num = 2:m\n",
    "        if crivo[num] == true\n",
    "            iter = num + num\n",
    "            while iter <= m\n",
    "                crivo[iter] = false\n",
    "                iter = iter + num\n",
    "            end\n",
    "        end\n",
    "    end\n",
    "    return [iter for iter in 1:m if crivo[iter]]\n",
    "end\n",
    "\n",
    "function cem_Primos()\n",
    "    return primes_until(100)\n",
    "end"
   ]
  },
  {
   "cell_type": "code",
   "execution_count": 46,
   "metadata": {},
   "outputs": [
    {
     "data": {
      "text/plain": [
       "25-element Array{Int64,1}:\n",
       "  2\n",
       "  3\n",
       "  5\n",
       "  7\n",
       " 11\n",
       " 13\n",
       " 17\n",
       " 19\n",
       " 23\n",
       " 29\n",
       " 31\n",
       " 37\n",
       " 41\n",
       " 43\n",
       " 47\n",
       " 53\n",
       " 59\n",
       " 61\n",
       " 67\n",
       " 71\n",
       " 73\n",
       " 79\n",
       " 83\n",
       " 89\n",
       " 97"
      ]
     },
     "execution_count": 46,
     "metadata": {},
     "output_type": "execute_result"
    }
   ],
   "source": [
    "primes_until(100)"
   ]
  },
  {
   "cell_type": "code",
   "execution_count": 47,
   "metadata": {},
   "outputs": [
    {
     "data": {
      "text/plain": [
       "exercicio20 (generic function with 1 method)"
      ]
     },
     "execution_count": 47,
     "metadata": {},
     "output_type": "execute_result"
    }
   ],
   "source": [
    "function exercicio20()\n",
    "    primes = cem_Primos()\n",
    "    factorial = []\n",
    "    for n = 2:100\n",
    "        primes, list_of = list_of_primes_divisors(n,primes)\n",
    "        factorial = vcat(factorial, list_of)\n",
    "    end\n",
    "    dois, cinco = 0, 0\n",
    "    index = 1\n",
    "    while dois <= 19\n",
    "        if factorial[index] == 2\n",
    "            factorial[index] = 1\n",
    "            dois = dois + 1\n",
    "        end\n",
    "        index = index + 1\n",
    "    end\n",
    "    while cinco <= 19\n",
    "        if factorial[index] == 5\n",
    "            factorial[index] = 1\n",
    "            cinco = cinco + 1\n",
    "        end\n",
    "        index = index + 1\n",
    "    end\n",
    "    resp = BigInt(1)\n",
    "    for elem in factorial\n",
    "        resp = resp * BigInt(elem)\n",
    "    end\n",
    "    return sum(digits(resp))\n",
    "end"
   ]
  },
  {
   "cell_type": "code",
   "execution_count": 48,
   "metadata": {},
   "outputs": [
    {
     "name": "stdout",
     "output_type": "stream",
     "text": [
      "  0.292257 seconds (392.19 k allocations: 19.728 MiB, 2.42% gc time)\n"
     ]
    },
    {
     "data": {
      "text/plain": [
       "648"
      ]
     },
     "execution_count": 48,
     "metadata": {},
     "output_type": "execute_result"
    }
   ],
   "source": [
    "@time exercicio20()"
   ]
  },
  {
   "cell_type": "markdown",
   "metadata": {},
   "source": [
    "# Problema 27\n",
    "\n",
    "Euler discovered the remarkable quadratic formula:\n",
    "\n",
    "$n^2+n+41$\n",
    "\n",
    "It turns out that the formula will produce 40 primes for the consecutive integer values 0≤n≤39\n",
    ". However, when n=40,402+40+41=40(40+1)+41 is divisible by 41, and certainly when n=41,412+41+41\n",
    "\n",
    "is clearly divisible by 41.\n",
    "\n",
    "The incredible formula n2−79n+1601\n",
    "was discovered, which produces 80 primes for the consecutive values 0≤n≤79\n",
    "\n",
    ". The product of the coefficients, −79 and 1601, is −126479.\n",
    "\n",
    "Considering quadratics of the form:\n",
    "\n",
    "    n2+an+b\n",
    "\n",
    ", where |a|<1000 and |b|≤1000\n",
    "\n",
    "where |n|\n",
    "is the modulus/absolute value of n\n",
    "e.g. |11|=11 and |−4|=4\n",
    "\n",
    "Find the product of the coefficients, a\n",
    "and b, for the quadratic expression that produces the maximum number of primes for consecutive values of n, starting with n=0."
   ]
  },
  {
   "cell_type": "code",
   "execution_count": 49,
   "metadata": {},
   "outputs": [
    {
     "data": {
      "text/plain": [
       "problem27 (generic function with 1 method)"
      ]
     },
     "execution_count": 49,
     "metadata": {},
     "output_type": "execute_result"
    }
   ],
   "source": [
    "function quadratic(a,b, primes)\n",
    "    n = -1\n",
    "    bool = true\n",
    "    while bool\n",
    "        n = n+1\n",
    "        bool, primes = is_Prime(n^2 + a*n + b, primes)\n",
    "        if !bool\n",
    "        end\n",
    "    end\n",
    "    return n, primes\n",
    "end\n",
    "\n",
    "function problem27()\n",
    "    primes = cem_Primos()\n",
    "    champion = 0\n",
    "    prod = 1\n",
    "    for a=-999:999 \n",
    "        for b=-1000:1000\n",
    "            n, primes = quadratic(a,b,primes)\n",
    "            champion = max(champion, n)\n",
    "            if n == champion\n",
    "                prod = a * b\n",
    "            end\n",
    "        end\n",
    "    end\n",
    "    return prod\n",
    "end"
   ]
  },
  {
   "cell_type": "code",
   "execution_count": 50,
   "metadata": {},
   "outputs": [
    {
     "name": "stdout",
     "output_type": "stream",
     "text": [
      "  3.015984 seconds (56.13 k allocations: 6.848 MiB, 0.28% gc time)\n"
     ]
    },
    {
     "data": {
      "text/plain": [
       "-59231"
      ]
     },
     "execution_count": 50,
     "metadata": {},
     "output_type": "execute_result"
    }
   ],
   "source": [
    "@time problem27()"
   ]
  },
  {
   "cell_type": "markdown",
   "metadata": {},
   "source": [
    "# Problem 34\n",
    "\n",
    "\n",
    "\n",
    "145 is a curious number, as 1! + 4! + 5! = 1 + 24 + 120 = 145.\n",
    "\n",
    "Find the sum of all numbers which are equal to the sum of the factorial of their digits.\n",
    "\n",
    "Note: as 1! = 1 and 2! = 2 are not sums they are not included.\n"
   ]
  },
  {
   "cell_type": "markdown",
   "metadata": {},
   "source": [
    "Primeiramente, números curiosos devem ter um upper bound. Seja $n$ um número curioso com $m$ algarismos. Então $10^{m-1} \\leq n \\leq 9! m$. Isso deixa de ser verdade para $m\\geq 8$. Portanto um upper bound é $10^7 = 10 000 000$."
   ]
  },
  {
   "cell_type": "code",
   "execution_count": 51,
   "metadata": {},
   "outputs": [
    {
     "data": {
      "text/plain": [
       "problem34 (generic function with 1 method)"
      ]
     },
     "execution_count": 51,
     "metadata": {},
     "output_type": "execute_result"
    }
   ],
   "source": [
    "function is_curious(n, fac)\n",
    "    if n < 10\n",
    "        return false\n",
    "    end\n",
    "    this_sum = 0\n",
    "    algs = digits(n)\n",
    "    index = 0\n",
    "    this_size = size(algs)[1]\n",
    "    while this_sum <= n && index < this_size\n",
    "        index += 1\n",
    "        this_sum += fac[algs[index]]\n",
    "    end\n",
    "    if this_sum == n\n",
    "        return true\n",
    "    else\n",
    "        return false\n",
    "    end\n",
    "end\n",
    "\n",
    "function problem34()\n",
    "    fac = Dict()\n",
    "    fac[0] = 1\n",
    "    for num = 1:9\n",
    "        fac[num] = fac[num - 1]*num\n",
    "    end\n",
    "    sum = 0\n",
    "    for n = 1:10^7\n",
    "        if is_curious(n, fac)\n",
    "            sum += n\n",
    "        end\n",
    "    end\n",
    "    return sum\n",
    "end        "
   ]
  },
  {
   "cell_type": "code",
   "execution_count": 52,
   "metadata": {},
   "outputs": [
    {
     "name": "stdout",
     "output_type": "stream",
     "text": [
      " 11.233081 seconds (152.22 M allocations: 3.448 GiB, 1.72% gc time)\n"
     ]
    },
    {
     "data": {
      "text/plain": [
       "40730"
      ]
     },
     "execution_count": 52,
     "metadata": {},
     "output_type": "execute_result"
    }
   ],
   "source": [
    "@time problem34()"
   ]
  },
  {
   "cell_type": "markdown",
   "metadata": {},
   "source": [
    "# Problem 41\n",
    "\n",
    "\n",
    "We shall say that an n-digit number is pandigital if it makes use of all the digits 1 to n exactly once. For example, 2143 is a 4-digit pandigital and is also prime.\n",
    "\n",
    "What is the largest n-digit pandigital prime that exists?\n"
   ]
  },
  {
   "cell_type": "markdown",
   "metadata": {},
   "source": [
    "Consideremos que $n \\leq 9$."
   ]
  },
  {
   "cell_type": "code",
   "execution_count": 44,
   "metadata": {},
   "outputs": [
    {
     "data": {
      "text/plain": [
       "problem41 (generic function with 1 method)"
      ]
     },
     "execution_count": 44,
     "metadata": {},
     "output_type": "execute_result"
    }
   ],
   "source": [
    "using Combinatorics\n",
    "function problem41()\n",
    "    primes = cem_Primos()\n",
    "    resp = 7\n",
    "    for n = 2:9\n",
    "        model = reduce(*,[string(i) for i = 1:n])\n",
    "        elegibles = [parse(Int64,reduce(*,x)) for x in Combinatorics.permutations(model,n)]\n",
    "        for elem in elegibles\n",
    "            bool, primes = is_Prime(elem, primes)\n",
    "            if bool\n",
    "                resp = max(resp, elem)\n",
    "            end\n",
    "        end\n",
    "    end\n",
    "    return resp\n",
    "end"
   ]
  },
  {
   "cell_type": "code",
   "execution_count": 33,
   "metadata": {},
   "outputs": [
    {
     "name": "stdout",
     "output_type": "stream",
     "text": [
      "  0.726957 seconds (8.50 M allocations: 356.260 MiB, 7.43% gc time)\n"
     ]
    },
    {
     "data": {
      "text/plain": [
       "7"
      ]
     },
     "execution_count": 33,
     "metadata": {},
     "output_type": "execute_result"
    }
   ],
   "source": [
    "@time problem41()"
   ]
  },
  {
   "cell_type": "markdown",
   "metadata": {},
   "source": [
    "# Problem 48\n",
    "\n",
    "\n",
    "\n",
    "The series, $1^1 + 2^2 + 3^3 + ... + 10^{10} = 10405071317$.\n",
    "\n",
    "Find the last ten digits of the series, $1^1 + 2^2 + 3^3 + ... + 1000^{1000}.$\n"
   ]
  },
  {
   "cell_type": "markdown",
   "metadata": {},
   "source": [
    "Vamos usar congruência módulo $m$ e se lembrar que resolver este problema é a mesma coisa que resolver $x \\equiv 1^1 + 2^2 + \\cdots + 1000^{1000}\\ (\\mbox{mod}\\ 10^{10})$."
   ]
  },
  {
   "cell_type": "code",
   "execution_count": 53,
   "metadata": {},
   "outputs": [
    {
     "data": {
      "text/plain": [
       "problem48 (generic function with 1 method)"
      ]
     },
     "execution_count": 53,
     "metadata": {},
     "output_type": "execute_result"
    }
   ],
   "source": [
    "function potencia_mod(n, m)\n",
    "    resp = n\n",
    "    for i = 2:n\n",
    "        resp = (resp * n) % m\n",
    "    end\n",
    "    return resp\n",
    "end\n",
    "\n",
    "function problem48()\n",
    "    sum_10 = 0\n",
    "    for n = 1:1000\n",
    "        parcela = potencia_mod(n, 10^(10))\n",
    "        sum_10 = (sum_10 + parcela) % 10^(10)\n",
    "    end\n",
    "    return sum_10\n",
    "end"
   ]
  },
  {
   "cell_type": "code",
   "execution_count": 54,
   "metadata": {},
   "outputs": [
    {
     "name": "stdout",
     "output_type": "stream",
     "text": [
      "  0.039581 seconds (56.87 k allocations: 3.094 MiB, 6.58% gc time)\n"
     ]
    },
    {
     "data": {
      "text/plain": [
       "9110846700"
      ]
     },
     "execution_count": 54,
     "metadata": {},
     "output_type": "execute_result"
    }
   ],
   "source": [
    "@time problem48()"
   ]
  },
  {
   "cell_type": "markdown",
   "metadata": {},
   "source": [
    "# Problem 55\n",
    "\n",
    "\n",
    "\n",
    "If we take 47, reverse and add, 47 + 74 = 121, which is palindromic.\n",
    "\n",
    "Not all numbers produce palindromes so quickly. For example,\n",
    "\n",
    "349 + 943 = 1292,\n",
    "1292 + 2921 = 4213\n",
    "4213 + 3124 = 7337\n",
    "\n",
    "That is, 349 took three iterations to arrive at a palindrome.\n",
    "\n",
    "Although no one has proved it yet, it is thought that some numbers, like 196, never produce a palindrome. A number that never forms a palindrome through the reverse and add process is called a Lychrel number. Due to the theoretical nature of these numbers, and for the purpose of this problem, we shall assume that a number is Lychrel until proven otherwise. In addition you are given that for every number below ten-thousand, it will either (i) become a palindrome in less than fifty iterations, or, (ii) no one, with all the computing power that exists, has managed so far to map it to a palindrome. In fact, 10677 is the first number to be shown to require over fifty iterations before producing a palindrome: 4668731596684224866951378664 (53 iterations, 28-digits).\n",
    "\n",
    "Surprisingly, there are palindromic numbers that are themselves Lychrel numbers; the first example is 4994.\n",
    "\n",
    "How many Lychrel numbers are there below ten-thousand?\n",
    "\n",
    "NOTE: Wording was modified slightly on 24 April 2007 to emphasise the theoretical nature of Lychrel numbers.\n"
   ]
  },
  {
   "cell_type": "code",
   "execution_count": 55,
   "metadata": {},
   "outputs": [
    {
     "data": {
      "text/plain": [
       "problem55 (generic function with 1 method)"
      ]
     },
     "execution_count": 55,
     "metadata": {},
     "output_type": "execute_result"
    }
   ],
   "source": [
    "function is_Palindromic(n)\n",
    "    nstring = string(n)\n",
    "    len = length(nstring)\n",
    "    for i = 1:Int(ceil(len/2))\n",
    "        if nstring[i] != nstring[len-i+1]\n",
    "            return false\n",
    "        end\n",
    "    end\n",
    "    return true\n",
    "end\n",
    "\n",
    "function reverseInt(n)\n",
    "    return parse(BigInt,reverse(string(n)))\n",
    "end\n",
    "\n",
    "function is_Lychrel(n)\n",
    "    n = BigInt(n)\n",
    "    counter = 1\n",
    "    flag = true\n",
    "    while counter <= 50\n",
    "        n = n + reverseInt(n)\n",
    "        if is_Palindromic(n)\n",
    "            return false\n",
    "        end\n",
    "        counter += 1\n",
    "    end\n",
    "    return true\n",
    "end\n",
    "\n",
    "function problem55()\n",
    "    counter = 0\n",
    "    for n = 1:10000\n",
    "        if is_Lychrel(n)\n",
    "            counter += 1\n",
    "        end\n",
    "    end\n",
    "    return counter\n",
    "end"
   ]
  },
  {
   "cell_type": "code",
   "execution_count": 56,
   "metadata": {},
   "outputs": [
    {
     "name": "stdout",
     "output_type": "stream",
     "text": [
      "  0.192373 seconds (893.57 k allocations: 27.047 MiB, 4.98% gc time)\n"
     ]
    },
    {
     "data": {
      "text/plain": [
       "249"
      ]
     },
     "execution_count": 56,
     "metadata": {},
     "output_type": "execute_result"
    }
   ],
   "source": [
    "@time problem55()"
   ]
  },
  {
   "cell_type": "markdown",
   "metadata": {},
   "source": [
    "# Problem 63\n",
    "\n",
    "\n",
    "\n",
    "\n",
    "The 5-digit number, $16807=7^5$, is also a fifth power. Similarly, the 9-digit number, $134217728=8^9$, is a ninth power.\n",
    "\n",
    "How many n-digit positive integers exist which are also an nth power?\n"
   ]
  },
  {
   "cell_type": "code",
   "execution_count": 57,
   "metadata": {},
   "outputs": [
    {
     "data": {
      "text/plain": [
       "is_n_power (generic function with 1 method)"
      ]
     },
     "execution_count": 57,
     "metadata": {},
     "output_type": "execute_result"
    }
   ],
   "source": [
    "function is_n_power(num, n, primes)\n",
    "    if n == 1\n",
    "        return true\n",
    "    end\n",
    "    #anota quantos números primos cada número tem \n",
    "    list_of = list_of_primes_divisors(num, primes)[2]\n",
    "    dict_divisors = dict_of_divisors(list_of)\n",
    "    chaves = collect(keys(dict_divisors))\n",
    "    first = dict_divisors[chaves[1]]\n",
    "    if first % n != 0\n",
    "        return false\n",
    "    end\n",
    "    for key in chaves[2:end]\n",
    "        if dict_divisors[key] != first\n",
    "            return false\n",
    "        end\n",
    "    end\n",
    "    return true\n",
    "end\n",
    "#CRIADO MAS NÃO SERVIU"
   ]
  },
  {
   "cell_type": "code",
   "execution_count": 87,
   "metadata": {},
   "outputs": [
    {
     "data": {
      "text/plain": [
       "problem63 (generic function with 1 method)"
      ]
     },
     "execution_count": 87,
     "metadata": {},
     "output_type": "execute_result"
    }
   ],
   "source": [
    "function problem63()\n",
    "    powers = Dict()\n",
    "    counter = 4\n",
    "    for n = 1:9\n",
    "        next = 1\n",
    "        while next^n <= 10^n\n",
    "            if length(string(next^n)) == n\n",
    "                counter += 1\n",
    "            end\n",
    "            next = next + 1\n",
    "        end\n",
    "        counter += 1\n",
    "    end\n",
    "    return counter\n",
    "end"
   ]
  },
  {
   "cell_type": "code",
   "execution_count": 88,
   "metadata": {},
   "outputs": [
    {
     "name": "stdout",
     "output_type": "stream",
     "text": [
      "  0.017491 seconds (20.77 k allocations: 1.129 MiB)\n"
     ]
    },
    {
     "data": {
      "text/plain": [
       "49"
      ]
     },
     "execution_count": 88,
     "metadata": {},
     "output_type": "execute_result"
    }
   ],
   "source": [
    "@time problem63()"
   ]
  }
 ],
 "metadata": {
  "kernelspec": {
   "display_name": "Julia 1.0.3",
   "language": "julia",
   "name": "julia-1.0"
  },
  "language_info": {
   "file_extension": ".jl",
   "mimetype": "application/julia",
   "name": "julia",
   "version": "1.0.3"
  }
 },
 "nbformat": 4,
 "nbformat_minor": 2
}
