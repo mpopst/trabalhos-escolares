{
 "cells": [
  {
   "cell_type": "code",
   "execution_count": 1,
   "metadata": {},
   "outputs": [
    {
     "data": {
      "text/plain": [
       "2"
      ]
     },
     "execution_count": 1,
     "metadata": {},
     "output_type": "execute_result"
    }
   ],
   "source": [
    "1+1"
   ]
  },
  {
   "cell_type": "code",
   "execution_count": 2,
   "metadata": {},
   "outputs": [
    {
     "data": {
      "text/plain": [
       "3"
      ]
     },
     "execution_count": 2,
     "metadata": {},
     "output_type": "execute_result"
    }
   ],
   "source": [
    "1+1+1"
   ]
  },
  {
   "cell_type": "code",
   "execution_count": 4,
   "metadata": {},
   "outputs": [
    {
     "name": "stdout",
     "output_type": "stream",
     "text": [
      "The N of this iteration in 1\n"
     ]
    },
    {
     "data": {
      "text/plain": [
       "Task (runnable) @0x00007fa184a25f90"
      ]
     },
     "execution_count": 4,
     "metadata": {},
     "output_type": "execute_result"
    },
    {
     "name": "stdout",
     "output_type": "stream",
     "text": [
      "The N of this iteration in 2\n",
      "The N of this iteration in 3\n",
      "The N of this iteration in 4\n",
      "The N of this iteration in 5\n",
      "The N of this iteration in 6\n",
      "The N of this iteration in 7\n",
      "The N of this iteration in 8\n",
      "The N of this iteration in 9\n",
      "The N of this iteration in 10\n",
      "The N of this iteration in 11\n",
      "The N of this iteration in 12\n",
      "The N of this iteration in 13\n",
      "The N of this iteration in 14\n",
      "The N of this iteration in 15\n",
      "The N of this iteration in 16\n",
      "The N of this iteration in 17\n",
      "The N of this iteration in 18\n",
      "The N of this iteration in 19\n",
      "The N of this iteration in 20\n"
     ]
    }
   ],
   "source": [
    "using Distributed\n",
    "@distributed for N in 1:20\n",
    "    println(\"The N of this iteration in $N\")\n",
    "end"
   ]
  },
  {
   "cell_type": "code",
   "execution_count": 1,
   "metadata": {},
   "outputs": [
    {
     "data": {
      "text/plain": [
       "Channel{Any}(sz_max:32,sz_curr:0)"
      ]
     },
     "execution_count": 1,
     "metadata": {},
     "output_type": "execute_result"
    }
   ],
   "source": [
    "c1 = Channel(32)\n",
    "c2 = Channel(32)"
   ]
  },
  {
   "cell_type": "code",
   "execution_count": 3,
   "metadata": {},
   "outputs": [],
   "source": [
    "using Distributed\n",
    "numCore = 4\n",
    "addprocs(numCore - 1);"
   ]
  },
  {
   "cell_type": "code",
   "execution_count": 4,
   "metadata": {},
   "outputs": [
    {
     "ename": "LoadError",
     "evalue": "UndefVarError: @Distributed not defined",
     "output_type": "error",
     "traceback": [
      "UndefVarError: @Distributed not defined",
      ""
     ]
    }
   ],
   "source": [
    "@Distributed for x = 1:100\n",
    "    print(x)\n",
    "end"
   ]
  },
  {
   "cell_type": "code",
   "execution_count": 5,
   "metadata": {},
   "outputs": [],
   "source": [
    "@everywhere function logp1(x::Int64)::Float64 log(1.0+x); end"
   ]
  },
  {
   "cell_type": "code",
   "execution_count": 7,
   "metadata": {},
   "outputs": [
    {
     "data": {
      "text/plain": [
       "1"
      ]
     },
     "execution_count": 7,
     "metadata": {},
     "output_type": "execute_result"
    }
   ],
   "source": [
    "Threads.nthreads()"
   ]
  },
  {
   "cell_type": "code",
   "execution_count": null,
   "metadata": {},
   "outputs": [],
   "source": []
  }
 ],
 "metadata": {
  "kernelspec": {
   "display_name": "Julia 1.0.3",
   "language": "julia",
   "name": "julia-1.0"
  },
  "language_info": {
   "file_extension": ".jl",
   "mimetype": "application/julia",
   "name": "julia",
   "version": "1.0.3"
  }
 },
 "nbformat": 4,
 "nbformat_minor": 2
}
