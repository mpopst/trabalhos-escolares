{
 "cells": [
  {
   "cell_type": "code",
   "execution_count": 1,
   "metadata": {},
   "outputs": [
    {
     "name": "stdout",
     "output_type": "stream",
     "text": [
      "\u001b[32m\u001b[1m  Updating\u001b[22m\u001b[39m registry at `~/.julia/registries/General`\n",
      "\u001b[32m\u001b[1m  Updating\u001b[22m\u001b[39m git-repo `https://github.com/JuliaRegistries/General.git`\n",
      "\u001b[?25l\u001b[2K\u001b[?25h\u001b[32m\u001b[1m Resolving\u001b[22m\u001b[39m package versions...\n",
      "\u001b[32m\u001b[1m  Updating\u001b[22m\u001b[39m `~/.julia/environments/v1.0/Project.toml`\n",
      "\u001b[90m [no changes]\u001b[39m\n",
      "\u001b[32m\u001b[1m  Updating\u001b[22m\u001b[39m `~/.julia/environments/v1.0/Manifest.toml`\n",
      "\u001b[90m [no changes]\u001b[39m\n",
      "\u001b[32m\u001b[1m Resolving\u001b[22m\u001b[39m package versions...\n",
      "\u001b[32m\u001b[1m  Updating\u001b[22m\u001b[39m `~/.julia/environments/v1.0/Project.toml`\n",
      "\u001b[90m [no changes]\u001b[39m\n",
      "\u001b[32m\u001b[1m  Updating\u001b[22m\u001b[39m `~/.julia/environments/v1.0/Manifest.toml`\n",
      "\u001b[90m [no changes]\u001b[39m\n"
     ]
    },
    {
     "name": "stderr",
     "output_type": "stream",
     "text": [
      "┌ Info: Recompiling stale cache file /home/matheus/.julia/compiled/v1.0/DataFrames/AR9oZ.ji for DataFrames [a93c6f00-e57d-5684-b7b6-d8193f3e46c0]\n",
      "└ @ Base loading.jl:1190\n"
     ]
    }
   ],
   "source": [
    "using Pkg\n",
    "using Random\n",
    "Random.seed!(1234) ##settando a seed de números aleatórios\n",
    "Pkg.add(\"DataFrames\")\n",
    "Pkg.add(\"Combinatorics\")\n",
    "using DataFrames\n",
    "using Combinatorics\n",
    "using Distributed"
   ]
  },
  {
   "cell_type": "markdown",
   "metadata": {},
   "source": [
    "# Capítulo 1"
   ]
  },
  {
   "cell_type": "markdown",
   "metadata": {},
   "source": [
    "# Exercício 8\n",
    "\n",
    "Usando o método descrito no exercício anterior, escreva um programa para determinar uma solução inteira para a equação $ax + by = c$, tendo como entrada os coeficientes $a$, $b$ e $c$. A saída do programa deve ser, ou uma solução inteira da equação, ou uma mensagem indicando que tais soluções não existem. Portanto o programa consistirá, essencialmente, de uma implementação do algoritmo euclidiano extendido."
   ]
  },
  {
   "cell_type": "code",
   "execution_count": 2,
   "metadata": {},
   "outputs": [
    {
     "data": {
      "text/plain": [
       "div (generic function with 1 method)"
      ]
     },
     "execution_count": 2,
     "metadata": {},
     "output_type": "execute_result"
    }
   ],
   "source": [
    "function div(a,b) #sem usar a divisão e resto implementada pelo computador\n",
    "    if b == 0\n",
    "        throw(DivideError)\n",
    "    elseif a == 0\n",
    "        return 0\n",
    "    end\n",
    "    n = 1\n",
    "    while n * b < a\n",
    "        n = n * 2\n",
    "    end\n",
    "    while n * b > a\n",
    "        n -= 1\n",
    "    end\n",
    "    return n\n",
    "end"
   ]
  },
  {
   "cell_type": "code",
   "execution_count": 3,
   "metadata": {},
   "outputs": [
    {
     "data": {
      "text/plain": [
       "1"
      ]
     },
     "execution_count": 3,
     "metadata": {},
     "output_type": "execute_result"
    }
   ],
   "source": [
    "div(1234,1234)"
   ]
  },
  {
   "cell_type": "code",
   "execution_count": 4,
   "metadata": {},
   "outputs": [
    {
     "data": {
      "text/plain": [
       "0"
      ]
     },
     "execution_count": 4,
     "metadata": {},
     "output_type": "execute_result"
    }
   ],
   "source": [
    "div(1,12)"
   ]
  },
  {
   "cell_type": "code",
   "execution_count": 5,
   "metadata": {},
   "outputs": [
    {
     "ename": "DataType",
     "evalue": "DivideError",
     "output_type": "error",
     "traceback": [
      "DivideError",
      "",
      "Stacktrace:",
      " [1] div(::Int64, ::Int64) at ./In[2]:3",
      " [2] top-level scope at In[5]:1"
     ]
    }
   ],
   "source": [
    "div(10,0)"
   ]
  },
  {
   "cell_type": "code",
   "execution_count": 6,
   "metadata": {},
   "outputs": [
    {
     "data": {
      "text/plain": [
       "1"
      ]
     },
     "execution_count": 6,
     "metadata": {},
     "output_type": "execute_result"
    }
   ],
   "source": [
    "div(110,109)"
   ]
  },
  {
   "cell_type": "code",
   "execution_count": 7,
   "metadata": {},
   "outputs": [
    {
     "data": {
      "text/plain": [
       "mdc (generic function with 1 method)"
      ]
     },
     "execution_count": 7,
     "metadata": {},
     "output_type": "execute_result"
    }
   ],
   "source": [
    "function mdc(a,b)\n",
    "    if a == 1\n",
    "        return 1\n",
    "    elseif b == 1\n",
    "        return 1\n",
    "    elseif a == 0\n",
    "        return b\n",
    "    elseif b == 0\n",
    "        return a\n",
    "    else\n",
    "        A = max(a,b)\n",
    "        B = min(a,b)\n",
    "        Q = div(A,B) #quis implementar um algoritmo de divisão que não fosse preguiçoso\n",
    "        if Q == 0\n",
    "            return B\n",
    "        else\n",
    "            return mdc(B,A - B * Q)\n",
    "        end\n",
    "    end\n",
    "end"
   ]
  },
  {
   "cell_type": "code",
   "execution_count": 8,
   "metadata": {},
   "outputs": [
    {
     "name": "stdout",
     "output_type": "stream",
     "text": [
      "  0.021792 seconds (8.02 k allocations: 393.895 KiB, 47.03% gc time)\n"
     ]
    },
    {
     "data": {
      "text/plain": [
       "2"
      ]
     },
     "execution_count": 8,
     "metadata": {},
     "output_type": "execute_result"
    }
   ],
   "source": [
    "@time mdc(1234,54)"
   ]
  },
  {
   "cell_type": "code",
   "execution_count": 9,
   "metadata": {},
   "outputs": [
    {
     "data": {
      "text/plain": [
       "eext_aux (generic function with 1 method)"
      ]
     },
     "execution_count": 9,
     "metadata": {},
     "output_type": "execute_result"
    }
   ],
   "source": [
    "function eext_aux(r1,r2,x1, x2, y1, y2)\n",
    "    #queremos achar q e r tais que r= r2 + r1 q onde 0<=rj<r1\n",
    "    qj = div(r2,r1)\n",
    "    rj = r2 - r1 * qj\n",
    "    if rj == 0\n",
    "        return [x1,y1]\n",
    "    else\n",
    "        begin\n",
    "        xj = x2 - qj * x1\n",
    "        yj = y2 - qj * y1\n",
    "        return eext_aux(rj,r1,xj,x1,yj,y1)\n",
    "        end\n",
    "    end\n",
    "end"
   ]
  },
  {
   "cell_type": "code",
   "execution_count": 10,
   "metadata": {},
   "outputs": [
    {
     "data": {
      "text/plain": [
       "euclidiano_extendido (generic function with 1 method)"
      ]
     },
     "execution_count": 10,
     "metadata": {},
     "output_type": "execute_result"
    }
   ],
   "source": [
    "function euclidiano_extendido(a,b,c)\n",
    "    if c % mdc(a,b) != 0\n",
    "        return \"Não tem solução\"\n",
    "    elseif a > b\n",
    "        return eext_aux(a,b,0,1,1,0)\n",
    "    else\n",
    "        return eext_aux(b,a,0,1,1,0)\n",
    "    end\n",
    "end"
   ]
  },
  {
   "cell_type": "code",
   "execution_count": 11,
   "metadata": {},
   "outputs": [
    {
     "name": "stdout",
     "output_type": "stream",
     "text": [
      "  0.027565 seconds (33.99 k allocations: 1.759 MiB)\n"
     ]
    },
    {
     "data": {
      "text/plain": [
       "2-element Array{Int64,1}:\n",
       " 160\n",
       "  -7"
      ]
     },
     "execution_count": 11,
     "metadata": {},
     "output_type": "execute_result"
    }
   ],
   "source": [
    "@time euclidiano_extendido(1234,54,2)"
   ]
  },
  {
   "cell_type": "markdown",
   "metadata": {},
   "source": [
    "## Exercício 9\n",
    "\n",
    "Escreva um programa que, tendo como entrada dois inteiro $a$ e $b$, determina o máximo divisor comum de $a$ e $b$. Adapte seu programa para gerar aleatoriamente pares de inteiros $a$ e $b$ e calcular o $\\mbox{mdc}(a,b)$. O programa deve ter como entrada o número total de pares que você deseja testar e, como saída o quociente $$\\frac{\\mbox{total de pares cujo mdc é }1}{\\mbox{total de pares testados}}.$$\n",
    "\n",
    "Este quociente dá uma medida da probabilidae de que um par de inteiros escolhido aleatoriamente seja co-primo. Vai ser necessário deixar o programa testar um número muito grande de pares para obter uma boa aproximação da probabilidade. Faça uma tabela com esses valores, tendo como entrada $10$, $100$, $1000$, $10000$ e $1000000$ pelo menos. Usando algoritmos de teoria da probabilidade que, testando um grande número de pares, o quociente acima deve ficar próximo de $\\frac{6}{\\pi^2}$; veja \\[**Giblin 1993, p.16**\\]. Como é que esse valor se compara com os resultados experimentais que você obteve?"
   ]
  },
  {
   "cell_type": "markdown",
   "metadata": {},
   "source": [
    "Vamos utilizar a função de $\\mbox{mmdc}$ que já implementamos. O gerador de números aleatórios poderá selecionar qualquer número interio."
   ]
  },
  {
   "cell_type": "code",
   "execution_count": 12,
   "metadata": {},
   "outputs": [
    {
     "data": {
      "text/plain": [
       "1×2 Array{Int32,2}:\n",
       " -2113838868  -131651945"
      ]
     },
     "execution_count": 12,
     "metadata": {},
     "output_type": "execute_result"
    }
   ],
   "source": [
    "rand(Int32,1,2)"
   ]
  },
  {
   "cell_type": "code",
   "execution_count": 13,
   "metadata": {},
   "outputs": [
    {
     "data": {
      "text/plain": [
       "exercicio9 (generic function with 1 method)"
      ]
     },
     "execution_count": 13,
     "metadata": {},
     "output_type": "execute_result"
    }
   ],
   "source": [
    "function exercicio9(n)\n",
    "    A = rand(Int32,n)\n",
    "    B = rand(Int32,n)\n",
    "    return sum([1 for i = 1:n if mdc(max(A[i],-A[i]),max(-B[i],B[i])) == 1])/n\n",
    "end"
   ]
  },
  {
   "cell_type": "code",
   "execution_count": 14,
   "metadata": {},
   "outputs": [
    {
     "name": "stdout",
     "output_type": "stream",
     "text": [
      "10: 0.6\n",
      "100: 0.61\n",
      "1000: 0.598\n",
      "10000: 0.6066\n",
      "100000: 0.60604\n",
      "1000000: 0.608326\n",
      "inf: 0.6079271018540267\n",
      "  0.740350 seconds (276.16 k allocations: 32.456 MiB, 1.22% gc time)\n"
     ]
    }
   ],
   "source": [
    "function exercicio9()\n",
    "for i = 1:6\n",
    "    print(string(10^i) * \": \" * string(exercicio9(10^i)) * \"\\n\")\n",
    "end\n",
    "print(\"inf: \" * string(6/pi^2) *\"\\n\")\n",
    "end\n",
    "@time exercicio9()"
   ]
  },
  {
   "cell_type": "markdown",
   "metadata": {},
   "source": [
    "## Capítulo 2"
   ]
  },
  {
   "cell_type": "markdown",
   "metadata": {},
   "source": [
    " ## Exercício 11\n",
    " Seja $n$ um inteiro positivo e $d(n)$ o número de divisores positivos de $n$. Dizemos que $n$ é altamente composto se $d(m)<d(n)$ para todo $m<n$. Escreva um programa que, tendo como entrada um número inteiro $r$, determina todos os números altamente compostos menores que $r$. Use o programa para fazer uma lista dos números altamente compostos menores que $5000$. Observe as fatorações dos números altamente compostos da sua lista: que propriedades destes números você deduz da observação desta lista? Estes números foram estudados pelo matemático indiano autodidata Srinivasa Ramanujan."
   ]
  },
  {
   "cell_type": "code",
   "execution_count": 15,
   "metadata": {},
   "outputs": [
    {
     "data": {
      "text/plain": [
       "primos_aux (generic function with 1 method)"
      ]
     },
     "execution_count": 15,
     "metadata": {},
     "output_type": "execute_result"
    }
   ],
   "source": [
    "function primos_aux(n, lista, div)\n",
    "    n = Int(n)\n",
    "    if n == 1 \n",
    "        return lista\n",
    "    elseif div==n # n eh primo\n",
    "          return push!(lista,n)\n",
    "    elseif n % div == 0 # div divide n\n",
    "        return primos_aux(n/div,push!(lista,div), div)\n",
    "    elseif div^2>n\n",
    "        return lista\n",
    "    else\n",
    "        return primos_aux(n, lista, div + 2)\n",
    "    end\n",
    "end"
   ]
  },
  {
   "cell_type": "code",
   "execution_count": 16,
   "metadata": {},
   "outputs": [
    {
     "data": {
      "text/plain": [
       "primos (generic function with 1 method)"
      ]
     },
     "execution_count": 16,
     "metadata": {},
     "output_type": "execute_result"
    }
   ],
   "source": [
    "function primos(n)\n",
    "    lista = [] # sorry for not be trully functional D:\n",
    "    while n % 2 == 0 # it hurts more in me than in you\n",
    "        push!(lista, 2) # but, performance, right?\n",
    "        n = Int(n/2)\n",
    "    end\n",
    "    return if (x = primos_aux(n,lista,3)) != [] x else [n] end\n",
    "end"
   ]
  },
  {
   "cell_type": "code",
   "execution_count": 17,
   "metadata": {},
   "outputs": [
    {
     "data": {
      "text/plain": [
       "divisores (generic function with 1 method)"
      ]
     },
     "execution_count": 17,
     "metadata": {},
     "output_type": "execute_result"
    }
   ],
   "source": [
    "function divisores_aux(esperando, resp)\n",
    "    if size(esperando)[1] > 0\n",
    "        return divisores_aux(\n",
    "            esperando[1:end-1],\n",
    "                vcat(resp,\n",
    "                     filter(\n",
    "                        x -> !(x in resp),\n",
    "                        map(x -> x * esperando[end], resp)))) \n",
    "    else\n",
    "        return resp\n",
    "    end\n",
    "end\n",
    "    \n",
    "function divisores(n)\n",
    "    return sort(divisores_aux(primos(n), [1]))\n",
    "end"
   ]
  },
  {
   "cell_type": "code",
   "execution_count": 18,
   "metadata": {},
   "outputs": [
    {
     "data": {
      "text/plain": [
       "d (generic function with 1 method)"
      ]
     },
     "execution_count": 18,
     "metadata": {},
     "output_type": "execute_result"
    }
   ],
   "source": [
    "d(n) = size(divisores(n))[1]"
   ]
  },
  {
   "cell_type": "code",
   "execution_count": 19,
   "metadata": {},
   "outputs": [
    {
     "data": {
      "text/plain": [
       "eac_aux (generic function with 1 method)"
      ]
     },
     "execution_count": 19,
     "metadata": {},
     "output_type": "execute_result"
    }
   ],
   "source": [
    "e_altamente_composto(r) = eac_aux(r,r-1)\n",
    "\n",
    "function eac_aux(n,m)\n",
    "    if m == 1\n",
    "        true\n",
    "    elseif d(m) < d(n)\n",
    "        eac_aux(n,m-1)\n",
    "    else\n",
    "        false\n",
    "    end\n",
    "end"
   ]
  },
  {
   "cell_type": "code",
   "execution_count": 20,
   "metadata": {},
   "outputs": [
    {
     "data": {
      "text/plain": [
       "false"
      ]
     },
     "execution_count": 20,
     "metadata": {},
     "output_type": "execute_result"
    }
   ],
   "source": [
    "e_altamente_composto(20)"
   ]
  },
  {
   "cell_type": "code",
   "execution_count": 21,
   "metadata": {},
   "outputs": [
    {
     "data": {
      "text/plain": [
       "todos_altamente_compostos (generic function with 1 method)"
      ]
     },
     "execution_count": 21,
     "metadata": {},
     "output_type": "execute_result"
    }
   ],
   "source": [
    "todos_altamente_compostos(r) = [i for i = 2:r if e_altamente_composto(i)]"
   ]
  },
  {
   "cell_type": "code",
   "execution_count": 22,
   "metadata": {},
   "outputs": [
    {
     "name": "stdout",
     "output_type": "stream",
     "text": [
      "  0.559293 seconds (3.53 M allocations: 231.155 MiB, 12.57% gc time)\n"
     ]
    },
    {
     "data": {
      "text/plain": [
       "18-element Array{Int64,1}:\n",
       "    2\n",
       "    4\n",
       "    6\n",
       "   12\n",
       "   24\n",
       "   36\n",
       "   48\n",
       "   72\n",
       "  144\n",
       "  216\n",
       "  288\n",
       "  432\n",
       "  576\n",
       "  600\n",
       "  900\n",
       " 1200\n",
       " 1800\n",
       " 3600"
      ]
     },
     "execution_count": 22,
     "metadata": {},
     "output_type": "execute_result"
    }
   ],
   "source": [
    "@time todos_altamente_compostos(5000)"
   ]
  },
  {
   "cell_type": "markdown",
   "metadata": {},
   "source": [
    "##  Exercícico 12\n",
    "\n",
    "Escreva um programa que impelemente o algoritmo de Fermat para achar dois fatores de um número inteiro positivo que seja menor que $2^{32}$. Este exercício é o primeiro de uma sequência que termina com o exercício 8 do capítulo 1."
   ]
  },
  {
   "cell_type": "code",
   "execution_count": 23,
   "metadata": {},
   "outputs": [
    {
     "data": {
      "text/plain": [
       "fermat (generic function with 1 method)"
      ]
     },
     "execution_count": 23,
     "metadata": {},
     "output_type": "execute_result"
    }
   ],
   "source": [
    "function fermat(n)\n",
    "    x = floor(sqrt(n))\n",
    "    if x^2 == n\n",
    "        return (x,x)\n",
    "    else\n",
    "        x += 1\n",
    "        y = sqrt(x^2 - n)\n",
    "        while !isinteger(y)\n",
    "            x += 1\n",
    "            y = sqrt(x^2 - n)\n",
    "            if x == (n+1)/2\n",
    "                return string(n) * \" é primo\"\n",
    "            end\n",
    "        end\n",
    "        return (Int(x+y),Int(x-y))\n",
    "    end\n",
    "end"
   ]
  },
  {
   "cell_type": "code",
   "execution_count": 24,
   "metadata": {},
   "outputs": [
    {
     "name": "stdout",
     "output_type": "stream",
     "text": [
      "  0.032219 seconds (30.46 k allocations: 1.542 MiB)\n"
     ]
    },
    {
     "data": {
      "text/plain": [
       "(1277, 1051)"
      ]
     },
     "execution_count": 24,
     "metadata": {},
     "output_type": "execute_result"
    }
   ],
   "source": [
    "@time fermat(1342127)"
   ]
  },
  {
   "cell_type": "markdown",
   "metadata": {},
   "source": [
    " # Capítulo 3\n",
    " \n",
    " ## Exercício 10\n",
    " \n",
    " O objetivo deste exercício é a elaboração de um programa para determinar alguns valores (interios) de $x$ para os quais um polinômio quadrático $f(x)$ assume valores primos. O programa deve ter como entrada $f(x) = ax^2 + bx +c$. Estes números serão inteiros positivos ou negativos, mas podemos supor que $a>0$. O programa deve tabelar $f(n)$, para $n$ variando entre $0$ e $100$, e indicar quais destes valores são primos. Para fazer isso, será necessário executar o crivo de Erastótenes para achar os primos menores que $|f(0)|$ ou $|f(100|$ - dependendo de qual dos dois for maior. Observe que vai ser necessário limitar os valores de $a$, $b$ e $c$, e verificar se os valores de $f(x)$ não estão ultrapassando a precisão dos inteiros da linguagem de programação que está sendo utilizada. Se você não tomar estes cuidados o programa vai produzir resultados incorretos. Aplique seu programa para os polinômios \n",
    " 1. $f(x) = x^2 + 1$\n",
    " 2. $f(x) = x^2 - 69x + 1231$\n",
    " 3. $f(x) = 2x^2 - 199$\n",
    " 4. $f(x) = 8x^2 - 530x + 7631$\n",
    " \n",
    " O polinômio (2) é uma variação de um famoso exemplo que L. Euler obteve em 1772."
   ]
  },
  {
   "cell_type": "code",
   "execution_count": 25,
   "metadata": {},
   "outputs": [
    {
     "data": {
      "text/plain": [
       "erastotenes (generic function with 1 method)"
      ]
     },
     "execution_count": 25,
     "metadata": {},
     "output_type": "execute_result"
    }
   ],
   "source": [
    "function eras_aux(lista, iter)\n",
    "    len = size(lista)[1]\n",
    "    if  iter >= len\n",
    "        return lista\n",
    "    elseif lista[iter] == 0\n",
    "        return eras_aux(lista,iter+2)\n",
    "    else\n",
    "        step = iter\n",
    "        iter += step\n",
    "        while iter <= len\n",
    "            lista[iter] = 0\n",
    "            iter += step\n",
    "        end\n",
    "        return eras_aux(lista,step+2)\n",
    "    end\n",
    "end\n",
    "\n",
    "function erastotenes(n)\n",
    "    lista = [if i%2==0 0 else 1 end for i=1:n]\n",
    "    lista[1] = 0\n",
    "    return [x[1] for x in enumerate(eras_aux(lista,3)) if x[2] == 1 || x[1] == 2]\n",
    "end    "
   ]
  },
  {
   "cell_type": "code",
   "execution_count": 26,
   "metadata": {},
   "outputs": [
    {
     "data": {
      "text/plain": [
       "25-element Array{Int64,1}:\n",
       "  2\n",
       "  3\n",
       "  5\n",
       "  7\n",
       " 11\n",
       " 13\n",
       " 17\n",
       " 19\n",
       " 23\n",
       " 29\n",
       " 31\n",
       " 37\n",
       " 41\n",
       " 43\n",
       " 47\n",
       " 53\n",
       " 59\n",
       " 61\n",
       " 67\n",
       " 71\n",
       " 73\n",
       " 79\n",
       " 83\n",
       " 89\n",
       " 97"
      ]
     },
     "execution_count": 26,
     "metadata": {},
     "output_type": "execute_result"
    }
   ],
   "source": [
    "erastotenes(100)"
   ]
  },
  {
   "cell_type": "code",
   "execution_count": 27,
   "metadata": {},
   "outputs": [
    {
     "data": {
      "text/plain": [
       "exercicio10 (generic function with 1 method)"
      ]
     },
     "execution_count": 27,
     "metadata": {},
     "output_type": "execute_result"
    }
   ],
   "source": [
    "function exercicio10(a,b,c)\n",
    "    f(n) = a * n^2 + b * n + c\n",
    "    primos = erastotenes(max(abs(f(0)),abs(f(100))))\n",
    "    return [(n, f(n),if f(n) in primos \"é primo\" else \"não primo\" end) for n=1:100]\n",
    "end"
   ]
  },
  {
   "cell_type": "code",
   "execution_count": 28,
   "metadata": {},
   "outputs": [
    {
     "name": "stdout",
     "output_type": "stream",
     "text": [
      "  0.123347 seconds (118.28 k allocations: 5.881 MiB)\n"
     ]
    },
    {
     "data": {
      "text/plain": [
       "100-element Array{Tuple{Int64,Int64,String},1}:\n",
       " (1, 2, \"é primo\")        \n",
       " (2, 5, \"é primo\")        \n",
       " (3, 10, \"não primo\")     \n",
       " (4, 17, \"é primo\")       \n",
       " (5, 26, \"não primo\")     \n",
       " (6, 37, \"é primo\")       \n",
       " (7, 50, \"não primo\")     \n",
       " (8, 65, \"não primo\")     \n",
       " (9, 82, \"não primo\")     \n",
       " (10, 101, \"é primo\")     \n",
       " (11, 122, \"não primo\")   \n",
       " (12, 145, \"não primo\")   \n",
       " (13, 170, \"não primo\")   \n",
       " ⋮                        \n",
       " (89, 7922, \"não primo\")  \n",
       " (90, 8101, \"é primo\")    \n",
       " (91, 8282, \"não primo\")  \n",
       " (92, 8465, \"não primo\")  \n",
       " (93, 8650, \"não primo\")  \n",
       " (94, 8837, \"é primo\")    \n",
       " (95, 9026, \"não primo\")  \n",
       " (96, 9217, \"não primo\")  \n",
       " (97, 9410, \"não primo\")  \n",
       " (98, 9605, \"não primo\")  \n",
       " (99, 9802, \"não primo\")  \n",
       " (100, 10001, \"não primo\")"
      ]
     },
     "execution_count": 28,
     "metadata": {},
     "output_type": "execute_result"
    }
   ],
   "source": [
    "@time exercicio10(1,0,1)"
   ]
  },
  {
   "cell_type": "code",
   "execution_count": 29,
   "metadata": {},
   "outputs": [
    {
     "name": "stdout",
     "output_type": "stream",
     "text": [
      "  0.000112 seconds (123 allocations: 54.766 KiB)\n"
     ]
    },
    {
     "data": {
      "text/plain": [
       "100-element Array{Tuple{Int64,Int64,String},1}:\n",
       " (1, 1163, \"é primo\")    \n",
       " (2, 1097, \"é primo\")    \n",
       " (3, 1033, \"é primo\")    \n",
       " (4, 971, \"é primo\")     \n",
       " (5, 911, \"é primo\")     \n",
       " (6, 853, \"é primo\")     \n",
       " (7, 797, \"é primo\")     \n",
       " (8, 743, \"é primo\")     \n",
       " (9, 691, \"é primo\")     \n",
       " (10, 641, \"é primo\")    \n",
       " (11, 593, \"é primo\")    \n",
       " (12, 547, \"é primo\")    \n",
       " (13, 503, \"é primo\")    \n",
       " ⋮                       \n",
       " (89, 3011, \"é primo\")   \n",
       " (90, 3121, \"é primo\")   \n",
       " (91, 3233, \"não primo\") \n",
       " (92, 3347, \"é primo\")   \n",
       " (93, 3463, \"é primo\")   \n",
       " (94, 3581, \"é primo\")   \n",
       " (95, 3701, \"é primo\")   \n",
       " (96, 3823, \"é primo\")   \n",
       " (97, 3947, \"é primo\")   \n",
       " (98, 4073, \"é primo\")   \n",
       " (99, 4201, \"é primo\")   \n",
       " (100, 4331, \"não primo\")"
      ]
     },
     "execution_count": 29,
     "metadata": {},
     "output_type": "execute_result"
    }
   ],
   "source": [
    "@time exercicio10(1,-69,1231)"
   ]
  },
  {
   "cell_type": "code",
   "execution_count": 30,
   "metadata": {},
   "outputs": [
    {
     "name": "stdout",
     "output_type": "stream",
     "text": [
      "  0.000486 seconds (125 allocations: 223.766 KiB)\n"
     ]
    },
    {
     "data": {
      "text/plain": [
       "100-element Array{Tuple{Int64,Int64,String},1}:\n",
       " (1, -197, \"não primo\")  \n",
       " (2, -191, \"não primo\")  \n",
       " (3, -181, \"não primo\")  \n",
       " (4, -167, \"não primo\")  \n",
       " (5, -149, \"não primo\")  \n",
       " (6, -127, \"não primo\")  \n",
       " (7, -101, \"não primo\")  \n",
       " (8, -71, \"não primo\")   \n",
       " (9, -37, \"não primo\")   \n",
       " (10, 1, \"não primo\")    \n",
       " (11, 43, \"é primo\")     \n",
       " (12, 89, \"é primo\")     \n",
       " (13, 139, \"é primo\")    \n",
       " ⋮                       \n",
       " (89, 15643, \"é primo\")  \n",
       " (90, 16001, \"é primo\")  \n",
       " (91, 16363, \"é primo\")  \n",
       " (92, 16729, \"é primo\")  \n",
       " (93, 17099, \"é primo\")  \n",
       " (94, 17473, \"não primo\")\n",
       " (95, 17851, \"é primo\")  \n",
       " (96, 18233, \"é primo\")  \n",
       " (97, 18619, \"não primo\")\n",
       " (98, 19009, \"é primo\")  \n",
       " (99, 19403, \"é primo\")  \n",
       " (100, 19801, \"é primo\") "
      ]
     },
     "execution_count": 30,
     "metadata": {},
     "output_type": "execute_result"
    }
   ],
   "source": [
    "@time exercicio10(2,0,-199)"
   ]
  },
  {
   "cell_type": "code",
   "execution_count": 31,
   "metadata": {},
   "outputs": [
    {
     "name": "stdout",
     "output_type": "stream",
     "text": [
      "  0.000885 seconds (125 allocations: 340.016 KiB)\n"
     ]
    },
    {
     "data": {
      "text/plain": [
       "100-element Array{Tuple{Int64,Int64,String},1}:\n",
       " (1, 7159, \"é primo\")     \n",
       " (2, 6653, \"é primo\")     \n",
       " (3, 6163, \"é primo\")     \n",
       " (4, 5689, \"é primo\")     \n",
       " (5, 5231, \"é primo\")     \n",
       " (6, 4789, \"é primo\")     \n",
       " (7, 4363, \"é primo\")     \n",
       " (8, 3953, \"não primo\")   \n",
       " (9, 3559, \"é primo\")     \n",
       " (10, 3181, \"é primo\")    \n",
       " (11, 2819, \"é primo\")    \n",
       " (12, 2473, \"é primo\")    \n",
       " (13, 2143, \"é primo\")    \n",
       " ⋮                        \n",
       " (89, 23879, \"é primo\")   \n",
       " (90, 24781, \"é primo\")   \n",
       " (91, 25699, \"não primo\") \n",
       " (92, 26633, \"é primo\")   \n",
       " (93, 27583, \"é primo\")   \n",
       " (94, 28549, \"é primo\")   \n",
       " (95, 29531, \"é primo\")   \n",
       " (96, 30529, \"é primo\")   \n",
       " (97, 31543, \"é primo\")   \n",
       " (98, 32573, \"é primo\")   \n",
       " (99, 33619, \"é primo\")   \n",
       " (100, 34681, \"não primo\")"
      ]
     },
     "execution_count": 31,
     "metadata": {},
     "output_type": "execute_result"
    }
   ],
   "source": [
    "@time exercicio10(8,-530,7681)"
   ]
  },
  {
   "cell_type": "markdown",
   "metadata": {},
   "source": [
    " ## Exercício 11\n",
    " \n",
    " Vimos na seção 5 que existem várias formas que dão aproximações para $\\pi(x)$, o número de primos positivos menores ou iguais a $x$. A fórmula decorrente do teorema dos números primos é $\\frac{x}{\\log x}$ que não fornece uma boa aproximação a não ser que o valor de $x$ seja enorme. Neste exercício desejamos fazer o estudo experimental de uma outra forma que serve de aproximação para $\\pi(x)$. A fórmula é $$ S(x)=\\frac{x}{\\log x} \\left(1+\\left[\\sum_{k=0}^{12} a_k\\left(\\log \\log x\\right)^k\\right]^{-\\frac{1}{4}}\\right) $$\n",
    " onde $\\log$ denota o *logaritmo natural* e $$a_0 = 229168.50747390,\\ a_1 = -429449.7206839,\\ a_2=199330.41355048,\\ a_3=28226.22049280,\\\\ a_4 = 0,\\ a_5=0,\\ a_6 = -34712.81875914,\\ a_7=0,\\ a_8 = 33820.10886195,\\\\ a_9=-25379.82656589,\\ a_{10}=8386.14942934,\\ a_{11} = -1360.44512548,\\ a_{12}=89.14545378. $$\n",
    " \n",
    "Escreva um programa, baseado no *Crivo de Erastótenes* que, tendo como entrada o inteiro $x$, calcula $\\pi(x)$. Use este algoritmo para gerar uma tabela com os valores de $\\pi(x) - S(x)$ quando $x$ é igual a $11$, $100$, $1000$, $2000$, $3000$, $\\dots$, $9000$ e $10000$. Comare com os valores correspondentes de $\\pi(X) - \\frac{x}{\\log x}$. O que você conclui da análise destas tabelas?"
   ]
  },
  {
   "cell_type": "code",
   "execution_count": 32,
   "metadata": {},
   "outputs": [
    {
     "data": {
      "text/plain": [
       "S (generic function with 1 method)"
      ]
     },
     "execution_count": 32,
     "metadata": {},
     "output_type": "execute_result"
    }
   ],
   "source": [
    "function S(x) \n",
    "    a = [229168.50747390,\n",
    "        -429449.7206839,\n",
    "        199330.41355048,\n",
    "        28226.22049280,\n",
    "        0,\n",
    "        0,\n",
    "        -34712.81875914,\n",
    "        0,\n",
    "        33820.10886195,\n",
    "        -25379.82656589,\n",
    "        8386.14942934,\n",
    "        -1360.44512548,\n",
    "        89.14545378]\n",
    "    return (x/log(x)) * (1 + sum([a[k+1] * (log(log(x)))^k for k=0:12])^(-1/4))\n",
    "end"
   ]
  },
  {
   "cell_type": "code",
   "execution_count": 33,
   "metadata": {},
   "outputs": [
    {
     "data": {
      "text/plain": [
       "Π (generic function with 1 method)"
      ]
     },
     "execution_count": 33,
     "metadata": {},
     "output_type": "execute_result"
    }
   ],
   "source": [
    "Π(x) = size(erastotenes(x))[1]"
   ]
  },
  {
   "cell_type": "code",
   "execution_count": 34,
   "metadata": {},
   "outputs": [
    {
     "data": {
      "text/plain": [
       "defaultaprox (generic function with 1 method)"
      ]
     },
     "execution_count": 34,
     "metadata": {},
     "output_type": "execute_result"
    }
   ],
   "source": [
    "defaultaprox(x) = x\\log(x)"
   ]
  },
  {
   "cell_type": "code",
   "execution_count": 35,
   "metadata": {},
   "outputs": [
    {
     "name": "stdout",
     "output_type": "stream",
     "text": [
      "  1.482386 seconds (2.24 M allocations: 113.171 MiB, 4.77% gc time)\n"
     ]
    },
    {
     "data": {
      "text/html": [
       "<table class=\"data-frame\"><thead><tr><th></th><th>value</th><th>pi_minus_s</th><th>pi_minus_default</th></tr><tr><th></th><th>Int64</th><th>Float64</th><th>Float64</th></tr></thead><tbody><p>12 rows × 3 columns</p><tr><th>1</th><td>11</td><td>7.7153e-7</td><td>4.78201</td></tr><tr><th>2</th><td>100</td><td>-0.00139032</td><td>24.9539</td></tr><tr><th>3</th><td>1000</td><td>0.106508</td><td>167.993</td></tr><tr><th>4</th><td>2000</td><td>-1.10818</td><td>302.996</td></tr><tr><th>5</th><td>3000</td><td>-1.30125</td><td>429.997</td></tr><tr><th>6</th><td>4000</td><td>-3.18811</td><td>549.998</td></tr><tr><th>7</th><td>5000</td><td>-2.4107</td><td>668.998</td></tr><tr><th>8</th><td>6000</td><td>-3.87482</td><td>782.999</td></tr><tr><th>9</th><td>7000</td><td>-0.146994</td><td>899.999</td></tr><tr><th>10</th><td>8000</td><td>-4.61177</td><td>1007.0</td></tr><tr><th>11</th><td>9000</td><td>-4.54567</td><td>1117.0</td></tr><tr><th>12</th><td>10000</td><td>-1.15628</td><td>1229.0</td></tr></tbody></table>"
      ],
      "text/latex": [
       "\\begin{tabular}{r|ccc}\n",
       "\t& value & pi\\_minus\\_s & pi\\_minus\\_default\\\\\n",
       "\t\\hline\n",
       "\t& Int64 & Float64 & Float64\\\\\n",
       "\t\\hline\n",
       "\t1 & 11 & 7.7153e-7 & 4.78201 \\\\\n",
       "\t2 & 100 & -0.00139032 & 24.9539 \\\\\n",
       "\t3 & 1000 & 0.106508 & 167.993 \\\\\n",
       "\t4 & 2000 & -1.10818 & 302.996 \\\\\n",
       "\t5 & 3000 & -1.30125 & 429.997 \\\\\n",
       "\t6 & 4000 & -3.18811 & 549.998 \\\\\n",
       "\t7 & 5000 & -2.4107 & 668.998 \\\\\n",
       "\t8 & 6000 & -3.87482 & 782.999 \\\\\n",
       "\t9 & 7000 & -0.146994 & 899.999 \\\\\n",
       "\t10 & 8000 & -4.61177 & 1007.0 \\\\\n",
       "\t11 & 9000 & -4.54567 & 1117.0 \\\\\n",
       "\t12 & 10000 & -1.15628 & 1229.0 \\\\\n",
       "\\end{tabular}\n"
      ],
      "text/plain": [
       "12×3 DataFrame\n",
       "│ Row │ value │ pi_minus_s  │ pi_minus_default │\n",
       "│     │ \u001b[90mInt64\u001b[39m │ \u001b[90mFloat64\u001b[39m     │ \u001b[90mFloat64\u001b[39m          │\n",
       "├─────┼───────┼─────────────┼──────────────────┤\n",
       "│ 1   │ 11    │ 7.7153e-7   │ 4.78201          │\n",
       "│ 2   │ 100   │ -0.00139032 │ 24.9539          │\n",
       "│ 3   │ 1000  │ 0.106508    │ 167.993          │\n",
       "│ 4   │ 2000  │ -1.10818    │ 302.996          │\n",
       "│ 5   │ 3000  │ -1.30125    │ 429.997          │\n",
       "│ 6   │ 4000  │ -3.18811    │ 549.998          │\n",
       "│ 7   │ 5000  │ -2.4107     │ 668.998          │\n",
       "│ 8   │ 6000  │ -3.87482    │ 782.999          │\n",
       "│ 9   │ 7000  │ -0.146994   │ 899.999          │\n",
       "│ 10  │ 8000  │ -4.61177    │ 1007.0           │\n",
       "│ 11  │ 9000  │ -4.54567    │ 1117.0           │\n",
       "│ 12  │ 10000 │ -1.15628    │ 1229.0           │"
      ]
     },
     "execution_count": 35,
     "metadata": {},
     "output_type": "execute_result"
    }
   ],
   "source": [
    "function exercicio11()\n",
    "    values = [11, 100, 1000, 2000, 3000, 4000, 5000, 6000, 7000, 8000, 9000, 10000]\n",
    "    pilist = [Π(x) for x in values]\n",
    "    slist = [S(x) for x in values]\n",
    "    deflist = [defaultaprox(x) for x in values]\n",
    "    PiSMinus = [pilist[i[1]]-slist[i[1]] for i in enumerate(values)]\n",
    "    PiDefMinus = [pilist[i[1]]-deflist[i[1]] for i in enumerate(values)]\n",
    "    DataFrame(value=values, pi_minus_s=PiSMinus, pi_minus_default = PiDefMinus)\n",
    "end\n",
    "@time exercicio11()"
   ]
  },
  {
   "cell_type": "markdown",
   "metadata": {},
   "source": [
    "Eu concluo que a formula Default aumenta o erro conforme o valor aumenta, enquanto a fórmula $S$ mágica, mantem o erro estável."
   ]
  },
  {
   "cell_type": "markdown",
   "metadata": {},
   "source": [
    "## Exercício 12\n",
    "\n",
    "Já vimos que um primo ímpar ou é da forma $4n+1$ ou da forma $4n+3$. Além disso, sabemos pelo exercício 7 que há infinitos primos da forma $4n+3$. Também há infinitos primos da forma $4n+1$, mas a demonstração é mais difícil. O objetivo deste exercício é estudar experimentalmente a frequência relativa de cada um destes dois tipos de primos. Seja $x$ um número real positivo. Denotaremos por $\\pi_1(x)$ o número de primos positivos que são da forma $4n+1$; e por $\\pi_3(x)$ o número correspondente de primos da forma $4n+3$. Escreva um programa, baseado no *Crivo de Erastótenes*, que, tendo como entrada um inteiro positivo $x$, determina $\\pi_1(x)$ e $\\pi_3(x)$. Tabele $\\pi_1(x)$, $\\pi_3(x)$ e $\\frac{\\pi_1(x)}{\\pi_3(x)}$ para os valores de $100$ em $100$ entre $100$ e $10^5$. Sabe-se que $\\lim_{x\\rightarrow \\infty} \\frac{\\pi_1(x)}{\\pi_3(x)} = 1$. Os valores da sua tabela condizem com este resultado?"
   ]
  },
  {
   "cell_type": "code",
   "execution_count": 36,
   "metadata": {},
   "outputs": [
    {
     "data": {
      "text/plain": [
       "exercicio12 (generic function with 1 method)"
      ]
     },
     "execution_count": 36,
     "metadata": {},
     "output_type": "execute_result"
    }
   ],
   "source": [
    "function is_4n_mais_1(x)\n",
    "    return (x-1)%4 == 0\n",
    "end\n",
    "\n",
    "function exercicio12(x) \n",
    "    primos = erastotenes(x)[2:end]  #queremos descartar o 2, o primeiro primo\n",
    "    pi1 = [x for x in primos if is_4n_mais_1(x)]\n",
    "    return (size(pi1)[1], size(primos)[1] - size(pi1)[1]) #retorna o pi1 e total de primos menos o pi1, que é o pi3\n",
    "end"
   ]
  },
  {
   "cell_type": "code",
   "execution_count": 37,
   "metadata": {},
   "outputs": [
    {
     "data": {
      "text/plain": [
       "(11, 13)"
      ]
     },
     "execution_count": 37,
     "metadata": {},
     "output_type": "execute_result"
    }
   ],
   "source": [
    "exercicio12(100)"
   ]
  },
  {
   "cell_type": "code",
   "execution_count": 38,
   "metadata": {
    "scrolled": true
   },
   "outputs": [
    {
     "name": "stderr",
     "output_type": "stream",
     "text": [
      "┌ Warning: `showall(df::AbstractDataFrame, allcols::Bool=true)` is deprecated, use `show(df, allrows=true, allcols=allcols)` instead.\n",
      "│   caller = showall(::DataFrame) at deprecated.jl:54\n",
      "└ @ DataFrames ./deprecated.jl:54\n"
     ]
    },
    {
     "name": "stdout",
     "output_type": "stream",
     "text": [
      "1000×4 DataFrame\n",
      "│ Row  │ value  │ Π1   │ Π3   │ ΠDiv     │\n",
      "│      │ \u001b[90mAny\u001b[39m    │ \u001b[90mAny\u001b[39m  │ \u001b[90mAny\u001b[39m  │ \u001b[90mAny\u001b[39m      │\n",
      "├──────┼────────┼──────┼──────┼──────────┤\n",
      "│ 1    │ 100    │ 11   │ 13   │ 0.846154 │\n",
      "│ 2    │ 200    │ 21   │ 24   │ 0.875    │\n",
      "│ 3    │ 300    │ 29   │ 32   │ 0.90625  │\n",
      "│ 4    │ 400    │ 37   │ 40   │ 0.925    │\n",
      "│ 5    │ 500    │ 44   │ 50   │ 0.88     │\n",
      "│ 6    │ 600    │ 51   │ 57   │ 0.894737 │\n",
      "│ 7    │ 700    │ 59   │ 65   │ 0.907692 │\n",
      "│ 8    │ 800    │ 67   │ 71   │ 0.943662 │\n",
      "│ 9    │ 900    │ 74   │ 79   │ 0.936709 │\n",
      "│ 10   │ 1000   │ 80   │ 87   │ 0.91954  │\n",
      "│ 11   │ 1100   │ 89   │ 94   │ 0.946809 │\n",
      "│ 12   │ 1200   │ 95   │ 100  │ 0.95     │\n",
      "│ 13   │ 1300   │ 104  │ 106  │ 0.981132 │\n",
      "│ 14   │ 1400   │ 109  │ 112  │ 0.973214 │\n",
      "│ 15   │ 1500   │ 116  │ 122  │ 0.95082  │\n",
      "│ 16   │ 1600   │ 119  │ 131  │ 0.908397 │\n",
      "│ 17   │ 1700   │ 128  │ 137  │ 0.934307 │\n",
      "│ 18   │ 1800   │ 135  │ 142  │ 0.950704 │\n",
      "│ 19   │ 1900   │ 140  │ 149  │ 0.939597 │\n",
      "│ 20   │ 2000   │ 147  │ 155  │ 0.948387 │\n",
      "│ 21   │ 2100   │ 153  │ 163  │ 0.93865  │\n",
      "│ 22   │ 2200   │ 159  │ 167  │ 0.952096 │\n",
      "│ 23   │ 2300   │ 167  │ 174  │ 0.95977  │\n",
      "│ 24   │ 2400   │ 175  │ 181  │ 0.966851 │\n",
      "│ 25   │ 2500   │ 180  │ 186  │ 0.967742 │\n",
      "│ 26   │ 2600   │ 184  │ 193  │ 0.953368 │\n",
      "│ 27   │ 2700   │ 192  │ 200  │ 0.96     │\n",
      "│ 28   │ 2800   │ 200  │ 206  │ 0.970874 │\n",
      "│ 29   │ 2900   │ 206  │ 212  │ 0.971698 │\n",
      "│ 30   │ 3000   │ 211  │ 218  │ 0.96789  │\n",
      "│ 31   │ 3100   │ 217  │ 224  │ 0.96875  │\n",
      "│ 32   │ 3200   │ 222  │ 229  │ 0.969432 │\n",
      "│ 33   │ 3300   │ 228  │ 234  │ 0.974359 │\n",
      "│ 34   │ 3400   │ 234  │ 243  │ 0.962963 │\n",
      "│ 35   │ 3500   │ 240  │ 248  │ 0.967742 │\n",
      "│ 36   │ 3600   │ 247  │ 255  │ 0.968627 │\n",
      "│ 37   │ 3700   │ 253  │ 262  │ 0.965649 │\n",
      "│ 38   │ 3800   │ 260  │ 267  │ 0.973783 │\n",
      "│ 39   │ 3900   │ 266  │ 272  │ 0.977941 │\n",
      "│ 40   │ 4000   │ 269  │ 280  │ 0.960714 │\n",
      "│ 41   │ 4100   │ 276  │ 288  │ 0.958333 │\n",
      "│ 42   │ 4200   │ 281  │ 292  │ 0.962329 │\n",
      "│ 43   │ 4300   │ 290  │ 299  │ 0.9699   │\n",
      "│ 44   │ 4400   │ 295  │ 303  │ 0.973597 │\n",
      "│ 45   │ 4500   │ 301  │ 308  │ 0.977273 │\n",
      "│ 46   │ 4600   │ 306  │ 315  │ 0.971429 │\n",
      "│ 47   │ 4700   │ 311  │ 322  │ 0.965839 │\n",
      "│ 48   │ 4800   │ 316  │ 329  │ 0.960486 │\n",
      "│ 49   │ 4900   │ 322  │ 331  │ 0.97281  │\n",
      "│ 50   │ 5000   │ 329  │ 339  │ 0.970501 │\n",
      "│ 51   │ 5100   │ 333  │ 347  │ 0.959654 │\n",
      "│ 52   │ 5200   │ 338  │ 353  │ 0.957507 │\n",
      "│ 53   │ 5300   │ 345  │ 356  │ 0.969101 │\n",
      "│ 54   │ 5400   │ 349  │ 362  │ 0.964088 │\n",
      "│ 55   │ 5500   │ 355  │ 369  │ 0.96206  │\n",
      "│ 56   │ 5600   │ 361  │ 376  │ 0.960106 │\n",
      "│ 57   │ 5700   │ 367  │ 382  │ 0.960733 │\n",
      "│ 58   │ 5800   │ 372  │ 387  │ 0.96124  │\n",
      "│ 59   │ 5900   │ 381  │ 394  │ 0.967005 │\n",
      "│ 60   │ 6000   │ 383  │ 399  │ 0.9599   │\n",
      "│ 61   │ 6100   │ 388  │ 406  │ 0.955665 │\n",
      "│ 62   │ 6200   │ 394  │ 411  │ 0.958637 │\n",
      "│ 63   │ 6300   │ 400  │ 418  │ 0.956938 │\n",
      "│ 64   │ 6400   │ 409  │ 424  │ 0.964623 │\n",
      "│ 65   │ 6500   │ 414  │ 427  │ 0.969555 │\n",
      "│ 66   │ 6600   │ 420  │ 432  │ 0.972222 │\n",
      "│ 67   │ 6700   │ 425  │ 437  │ 0.97254  │\n",
      "│ 68   │ 6800   │ 432  │ 442  │ 0.977376 │\n",
      "│ 69   │ 6900   │ 437  │ 449  │ 0.973274 │\n",
      "│ 70   │ 7000   │ 442  │ 457  │ 0.967177 │\n",
      "│ 71   │ 7100   │ 446  │ 462  │ 0.965368 │\n",
      "│ 72   │ 7200   │ 451  │ 467  │ 0.965739 │\n",
      "│ 73   │ 7300   │ 456  │ 473  │ 0.964059 │\n",
      "│ 74   │ 7400   │ 462  │ 476  │ 0.970588 │\n",
      "│ 75   │ 7500   │ 468  │ 481  │ 0.972973 │\n",
      "│ 76   │ 7600   │ 477  │ 487  │ 0.979466 │\n",
      "│ 77   │ 7700   │ 482  │ 494  │ 0.975709 │\n",
      "│ 78   │ 7800   │ 488  │ 498  │ 0.97992  │\n",
      "│ 79   │ 7900   │ 494  │ 502  │ 0.984064 │\n",
      "│ 80   │ 8000   │ 499  │ 507  │ 0.984221 │\n",
      "│ 81   │ 8100   │ 506  │ 511  │ 0.990215 │\n",
      "│ 82   │ 8200   │ 509  │ 518  │ 0.982625 │\n",
      "│ 83   │ 8300   │ 517  │ 524  │ 0.986641 │\n",
      "│ 84   │ 8400   │ 523  │ 527  │ 0.99241  │\n",
      "│ 85   │ 8500   │ 525  │ 533  │ 0.984991 │\n",
      "│ 86   │ 8600   │ 532  │ 538  │ 0.988848 │\n",
      "│ 87   │ 8700   │ 540  │ 543  │ 0.994475 │\n",
      "│ 88   │ 8800   │ 545  │ 549  │ 0.992714 │\n",
      "│ 89   │ 8900   │ 550  │ 557  │ 0.987433 │\n",
      "│ 90   │ 9000   │ 554  │ 562  │ 0.985765 │\n",
      "│ 91   │ 9100   │ 559  │ 568  │ 0.984155 │\n",
      "│ 92   │ 9200   │ 566  │ 573  │ 0.987784 │\n",
      "│ 93   │ 9300   │ 573  │ 577  │ 0.993068 │\n",
      "│ 94   │ 9400   │ 578  │ 583  │ 0.991424 │\n",
      "│ 95   │ 9500   │ 585  │ 591  │ 0.989848 │\n",
      "│ 96   │ 9600   │ 587  │ 596  │ 0.984899 │\n",
      "│ 97   │ 9700   │ 595  │ 601  │ 0.990017 │\n",
      "│ 98   │ 9800   │ 600  │ 607  │ 0.988468 │\n",
      "│ 99   │ 9900   │ 604  │ 615  │ 0.982114 │\n",
      "│ 100  │ 10000  │ 609  │ 619  │ 0.983845 │\n",
      "│ 101  │ 10100  │ 614  │ 625  │ 0.9824   │\n",
      "│ 102  │ 10200  │ 620  │ 631  │ 0.982567 │\n",
      "│ 103  │ 10300  │ 623  │ 638  │ 0.976489 │\n",
      "│ 104  │ 10400  │ 630  │ 643  │ 0.979782 │\n",
      "│ 105  │ 10500  │ 635  │ 648  │ 0.979938 │\n",
      "│ 106  │ 10600  │ 640  │ 651  │ 0.983103 │\n",
      "│ 107  │ 10700  │ 643  │ 660  │ 0.974242 │\n",
      "│ 108  │ 10800  │ 649  │ 665  │ 0.97594  │\n",
      "│ 109  │ 10900  │ 653  │ 671  │ 0.973174 │\n",
      "│ 110  │ 11000  │ 659  │ 675  │ 0.976296 │\n",
      "│ 111  │ 11100  │ 662  │ 682  │ 0.970674 │\n",
      "│ 112  │ 11200  │ 669  │ 686  │ 0.975219 │\n",
      "│ 113  │ 11300  │ 673  │ 692  │ 0.972543 │\n",
      "│ 114  │ 11400  │ 679  │ 696  │ 0.975575 │\n",
      "│ 115  │ 11500  │ 682  │ 704  │ 0.96875  │\n",
      "│ 116  │ 11600  │ 685  │ 710  │ 0.964789 │\n",
      "│ 117  │ 11700  │ 692  │ 711  │ 0.973277 │\n",
      "│ 118  │ 11800  │ 696  │ 716  │ 0.972067 │\n",
      "│ 119  │ 11900  │ 701  │ 723  │ 0.969571 │\n",
      "│ 120  │ 12000  │ 707  │ 730  │ 0.968493 │\n",
      "│ 121  │ 12100  │ 712  │ 734  │ 0.970027 │\n",
      "│ 122  │ 12200  │ 719  │ 738  │ 0.974255 │\n",
      "│ 123  │ 12300  │ 725  │ 744  │ 0.974462 │\n",
      "│ 124  │ 12400  │ 729  │ 749  │ 0.973298 │\n",
      "│ 125  │ 12500  │ 738  │ 753  │ 0.98008  │\n",
      "│ 126  │ 12600  │ 744  │ 759  │ 0.980237 │\n",
      "│ 127  │ 12700  │ 751  │ 764  │ 0.982984 │\n",
      "│ 128  │ 12800  │ 755  │ 770  │ 0.980519 │\n",
      "│ 129  │ 12900  │ 762  │ 772  │ 0.987047 │\n",
      "│ 130  │ 13000  │ 766  │ 780  │ 0.982051 │\n",
      "│ 131  │ 13100  │ 772  │ 785  │ 0.983439 │\n",
      "│ 132  │ 13200  │ 775  │ 794  │ 0.976071 │\n",
      "│ 133  │ 13300  │ 780  │ 798  │ 0.977444 │\n",
      "│ 134  │ 13400  │ 785  │ 803  │ 0.977584 │\n",
      "│ 135  │ 13500  │ 791  │ 808  │ 0.97896  │\n",
      "│ 136  │ 13600  │ 796  │ 811  │ 0.981504 │\n",
      "│ 137  │ 13700  │ 803  │ 816  │ 0.984069 │\n",
      "│ 138  │ 13800  │ 809  │ 822  │ 0.984185 │\n",
      "│ 139  │ 13900  │ 813  │ 827  │ 0.983071 │\n",
      "│ 140  │ 14000  │ 818  │ 833  │ 0.981993 │\n",
      "│ 141  │ 14100  │ 823  │ 838  │ 0.9821   │\n",
      "│ 142  │ 14200  │ 828  │ 841  │ 0.984542 │\n",
      "│ 143  │ 14300  │ 832  │ 844  │ 0.985782 │\n",
      "│ 144  │ 14400  │ 836  │ 849  │ 0.984688 │\n",
      "│ 145  │ 14500  │ 841  │ 856  │ 0.982477 │\n",
      "│ 146  │ 14600  │ 847  │ 862  │ 0.982599 │\n",
      "│ 147  │ 14700  │ 853  │ 866  │ 0.984988 │\n",
      "│ 148  │ 14800  │ 859  │ 874  │ 0.982838 │\n",
      "│ 149  │ 14900  │ 863  │ 882  │ 0.978458 │\n",
      "│ 150  │ 15000  │ 866  │ 887  │ 0.976325 │\n",
      "│ 151  │ 15100  │ 872  │ 890  │ 0.979775 │\n",
      "│ 152  │ 15200  │ 879  │ 895  │ 0.982123 │\n",
      "│ 153  │ 15300  │ 885  │ 901  │ 0.982242 │\n",
      "│ 154  │ 15400  │ 891  │ 907  │ 0.982359 │\n",
      "│ 155  │ 15500  │ 897  │ 912  │ 0.983553 │\n",
      "│ 156  │ 15600  │ 900  │ 917  │ 0.981461 │\n",
      "│ 157  │ 15700  │ 905  │ 925  │ 0.978378 │\n",
      "│ 158  │ 15800  │ 911  │ 931  │ 0.978518 │\n",
      "│ 159  │ 15900  │ 916  │ 935  │ 0.979679 │\n",
      "│ 160  │ 16000  │ 920  │ 941  │ 0.977683 │\n",
      "│ 161  │ 16100  │ 927  │ 946  │ 0.979915 │\n",
      "│ 162  │ 16200  │ 930  │ 952  │ 0.976891 │\n",
      "│ 163  │ 16300  │ 935  │ 955  │ 0.979058 │\n",
      "│ 164  │ 16400  │ 941  │ 958  │ 0.982255 │\n",
      "│ 165  │ 16500  │ 948  │ 963  │ 0.984424 │\n",
      "│ 166  │ 16600  │ 952  │ 966  │ 0.985507 │\n",
      "│ 167  │ 16700  │ 958  │ 973  │ 0.984584 │\n",
      "│ 168  │ 16800  │ 960  │ 978  │ 0.981595 │\n",
      "│ 169  │ 16900  │ 962  │ 985  │ 0.97665  │\n",
      "│ 170  │ 17000  │ 967  │ 992  │ 0.974798 │\n",
      "│ 171  │ 17100  │ 974  │ 996  │ 0.977912 │\n",
      "│ 172  │ 17200  │ 977  │ 1002 │ 0.97505  │\n",
      "│ 173  │ 17300  │ 980  │ 1008 │ 0.972222 │\n",
      "│ 174  │ 17400  │ 987  │ 1013 │ 0.974334 │\n",
      "│ 175  │ 17500  │ 993  │ 1020 │ 0.973529 │\n",
      "│ 176  │ 17600  │ 998  │ 1025 │ 0.973659 │\n",
      "│ 177  │ 17700  │ 1002 │ 1029 │ 0.973761 │\n",
      "│ 178  │ 17800  │ 1008 │ 1033 │ 0.975799 │\n",
      "│ 179  │ 17900  │ 1010 │ 1039 │ 0.972089 │\n",
      "│ 180  │ 18000  │ 1017 │ 1046 │ 0.972275 │\n",
      "│ 181  │ 18100  │ 1024 │ 1049 │ 0.976168 │\n",
      "│ 182  │ 18200  │ 1029 │ 1055 │ 0.975355 │\n",
      "│ 183  │ 18300  │ 1036 │ 1059 │ 0.978281 │\n",
      "│ 184  │ 18400  │ 1042 │ 1064 │ 0.979323 │\n",
      "│ 185  │ 18500  │ 1049 │ 1068 │ 0.98221  │\n",
      "│ 186  │ 18600  │ 1054 │ 1073 │ 0.982293 │\n",
      "│ 187  │ 18700  │ 1057 │ 1076 │ 0.982342 │\n",
      "│ 188  │ 18800  │ 1064 │ 1080 │ 0.985185 │\n",
      "│ 189  │ 18900  │ 1065 │ 1084 │ 0.982472 │\n",
      "│ 190  │ 19000  │ 1068 │ 1089 │ 0.980716 │\n",
      "│ 191  │ 19100  │ 1075 │ 1093 │ 0.983532 │\n",
      "│ 192  │ 19200  │ 1079 │ 1096 │ 0.984489 │\n",
      "│ 193  │ 19300  │ 1084 │ 1102 │ 0.983666 │\n",
      "│ 194  │ 19400  │ 1089 │ 1106 │ 0.984629 │\n",
      "│ 195  │ 19500  │ 1098 │ 1113 │ 0.986523 │\n",
      "│ 196  │ 19600  │ 1103 │ 1119 │ 0.985702 │\n",
      "│ 197  │ 19700  │ 1107 │ 1122 │ 0.986631 │\n",
      "│ 198  │ 19800  │ 1112 │ 1127 │ 0.98669  │\n",
      "│ 199  │ 19900  │ 1118 │ 1131 │ 0.988506 │\n",
      "│ 200  │ 20000  │ 1125 │ 1136 │ 0.990317 │\n",
      "│ 201  │ 20100  │ 1128 │ 1142 │ 0.987741 │\n",
      "│ 202  │ 20200  │ 1136 │ 1147 │ 0.99041  │\n",
      "│ 203  │ 20300  │ 1142 │ 1150 │ 0.993043 │\n",
      "│ 204  │ 20400  │ 1149 │ 1155 │ 0.994805 │\n",
      "│ 205  │ 20500  │ 1151 │ 1161 │ 0.991387 │\n",
      "│ 206  │ 20600  │ 1156 │ 1166 │ 0.991424 │\n",
      "│ 207  │ 20700  │ 1159 │ 1170 │ 0.990598 │\n",
      "│ 208  │ 20800  │ 1164 │ 1177 │ 0.988955 │\n",
      "│ 209  │ 20900  │ 1169 │ 1181 │ 0.989839 │\n",
      "│ 210  │ 21000  │ 1172 │ 1187 │ 0.987363 │\n",
      "│ 211  │ 21100  │ 1177 │ 1193 │ 0.986588 │\n",
      "│ 212  │ 21200  │ 1183 │ 1200 │ 0.985833 │\n",
      "│ 213  │ 21300  │ 1186 │ 1204 │ 0.98505  │\n",
      "│ 214  │ 21400  │ 1191 │ 1210 │ 0.984298 │\n",
      "│ 215  │ 21500  │ 1195 │ 1216 │ 0.98273  │\n",
      "│ 216  │ 21600  │ 1202 │ 1222 │ 0.983633 │\n",
      "│ 217  │ 21700  │ 1208 │ 1225 │ 0.986122 │\n",
      "│ 218  │ 21800  │ 1213 │ 1231 │ 0.985378 │\n",
      "│ 219  │ 21900  │ 1218 │ 1237 │ 0.98464  │\n",
      "│ 220  │ 22000  │ 1223 │ 1240 │ 0.98629  │\n",
      "│ 221  │ 22100  │ 1227 │ 1249 │ 0.982386 │\n",
      "│ 222  │ 22200  │ 1234 │ 1254 │ 0.984051 │\n",
      "│ 223  │ 22300  │ 1237 │ 1260 │ 0.981746 │\n",
      "│ 224  │ 22400  │ 1241 │ 1265 │ 0.981028 │\n",
      "│ 225  │ 22500  │ 1247 │ 1267 │ 0.984215 │\n",
      "│ 226  │ 22600  │ 1251 │ 1272 │ 0.983491 │\n",
      "│ 227  │ 22700  │ 1256 │ 1279 │ 0.982017 │\n",
      "│ 228  │ 22800  │ 1262 │ 1284 │ 0.982866 │\n",
      "│ 229  │ 22900  │ 1266 │ 1288 │ 0.982919 │\n",
      "│ 230  │ 23000  │ 1272 │ 1291 │ 0.985283 │\n",
      "│ 231  │ 23100  │ 1279 │ 1300 │ 0.983846 │\n",
      "│ 232  │ 23200  │ 1283 │ 1304 │ 0.983896 │\n",
      "│ 233  │ 23300  │ 1288 │ 1309 │ 0.983957 │\n",
      "│ 234  │ 23400  │ 1292 │ 1314 │ 0.983257 │\n",
      "│ 235  │ 23500  │ 1295 │ 1317 │ 0.983295 │\n",
      "│ 236  │ 23600  │ 1302 │ 1322 │ 0.984871 │\n",
      "│ 237  │ 23700  │ 1308 │ 1328 │ 0.98494  │\n",
      "│ 238  │ 23800  │ 1313 │ 1332 │ 0.985736 │\n",
      "│ 239  │ 23900  │ 1320 │ 1338 │ 0.986547 │\n",
      "│ 240  │ 24000  │ 1327 │ 1340 │ 0.990299 │\n",
      "│ 241  │ 24100  │ 1333 │ 1347 │ 0.989607 │\n",
      "│ 242  │ 24200  │ 1341 │ 1351 │ 0.992598 │\n",
      "│ 243  │ 24300  │ 1343 │ 1356 │ 0.990413 │\n",
      "│ 244  │ 24400  │ 1347 │ 1360 │ 0.990441 │\n",
      "│ 245  │ 24500  │ 1352 │ 1365 │ 0.990476 │\n",
      "│ 246  │ 24600  │ 1356 │ 1369 │ 0.990504 │\n",
      "│ 247  │ 24700  │ 1358 │ 1376 │ 0.986919 │\n",
      "│ 248  │ 24800  │ 1363 │ 1379 │ 0.988397 │\n",
      "│ 249  │ 24900  │ 1368 │ 1382 │ 0.98987  │\n",
      "│ 250  │ 25000  │ 1372 │ 1389 │ 0.987761 │\n",
      "│ 251  │ 25100  │ 1378 │ 1391 │ 0.990654 │\n"
     ]
    },
    {
     "name": "stdout",
     "output_type": "stream",
     "text": [
      "│ 252  │ 25200  │ 1383 │ 1397 │ 0.989979 │\n",
      "│ 253  │ 25300  │ 1387 │ 1400 │ 0.990714 │\n",
      "│ 254  │ 25400  │ 1393 │ 1406 │ 0.990754 │\n",
      "│ 255  │ 25500  │ 1397 │ 1412 │ 0.989377 │\n",
      "│ 256  │ 25600  │ 1402 │ 1415 │ 0.990813 │\n",
      "│ 257  │ 25700  │ 1409 │ 1420 │ 0.992254 │\n",
      "│ 258  │ 25800  │ 1413 │ 1426 │ 0.990884 │\n",
      "│ 259  │ 25900  │ 1418 │ 1429 │ 0.992302 │\n",
      "│ 260  │ 26000  │ 1423 │ 1436 │ 0.990947 │\n",
      "│ 261  │ 26100  │ 1428 │ 1439 │ 0.992356 │\n",
      "│ 262  │ 26200  │ 1434 │ 1444 │ 0.993075 │\n",
      "│ 263  │ 26300  │ 1440 │ 1449 │ 0.993789 │\n",
      "│ 264  │ 26400  │ 1445 │ 1454 │ 0.99381  │\n",
      "│ 265  │ 26500  │ 1450 │ 1459 │ 0.993831 │\n",
      "│ 266  │ 26600  │ 1456 │ 1461 │ 0.996578 │\n",
      "│ 267  │ 26700  │ 1461 │ 1466 │ 0.996589 │\n",
      "│ 268  │ 26800  │ 1467 │ 1471 │ 0.997281 │\n",
      "│ 269  │ 26900  │ 1475 │ 1475 │ 1.0      │\n",
      "│ 270  │ 27000  │ 1479 │ 1481 │ 0.99865  │\n",
      "│ 271  │ 27100  │ 1483 │ 1487 │ 0.99731  │\n",
      "│ 272  │ 27200  │ 1485 │ 1493 │ 0.994642 │\n",
      "│ 273  │ 27300  │ 1489 │ 1499 │ 0.993329 │\n",
      "│ 274  │ 27400  │ 1493 │ 1500 │ 0.995333 │\n",
      "│ 275  │ 27500  │ 1498 │ 1505 │ 0.995349 │\n",
      "│ 276  │ 27600  │ 1502 │ 1509 │ 0.995361 │\n",
      "│ 277  │ 27700  │ 1507 │ 1513 │ 0.996034 │\n",
      "│ 278  │ 27800  │ 1513 │ 1521 │ 0.99474  │\n",
      "│ 279  │ 27900  │ 1516 │ 1527 │ 0.992796 │\n",
      "│ 280  │ 28000  │ 1522 │ 1532 │ 0.993473 │\n",
      "│ 281  │ 28100  │ 1527 │ 1538 │ 0.992848 │\n",
      "│ 282  │ 28200  │ 1529 │ 1543 │ 0.990927 │\n",
      "│ 283  │ 28300  │ 1534 │ 1547 │ 0.991597 │\n",
      "│ 284  │ 28400  │ 1537 │ 1551 │ 0.990974 │\n",
      "│ 285  │ 28500  │ 1542 │ 1557 │ 0.990366 │\n",
      "│ 286  │ 28600  │ 1549 │ 1562 │ 0.991677 │\n",
      "│ 287  │ 28700  │ 1555 │ 1570 │ 0.990446 │\n",
      "│ 288  │ 28800  │ 1559 │ 1576 │ 0.989213 │\n",
      "│ 289  │ 28900  │ 1562 │ 1582 │ 0.987358 │\n",
      "│ 290  │ 29000  │ 1568 │ 1584 │ 0.989899 │\n",
      "│ 291  │ 29100  │ 1573 │ 1588 │ 0.990554 │\n",
      "│ 292  │ 29200  │ 1578 │ 1594 │ 0.989962 │\n",
      "│ 293  │ 29300  │ 1583 │ 1599 │ 0.989994 │\n",
      "│ 294  │ 29400  │ 1585 │ 1608 │ 0.985697 │\n",
      "│ 295  │ 29500  │ 1590 │ 1612 │ 0.986352 │\n",
      "│ 296  │ 29600  │ 1595 │ 1617 │ 0.986395 │\n",
      "│ 297  │ 29700  │ 1599 │ 1621 │ 0.986428 │\n",
      "│ 298  │ 29800  │ 1604 │ 1623 │ 0.988293 │\n",
      "│ 299  │ 29900  │ 1608 │ 1629 │ 0.987109 │\n",
      "│ 300  │ 30000  │ 1611 │ 1633 │ 0.986528 │\n",
      "│ 301  │ 30100  │ 1615 │ 1638 │ 0.985958 │\n",
      "│ 302  │ 30200  │ 1623 │ 1642 │ 0.988429 │\n",
      "│ 303  │ 30300  │ 1627 │ 1647 │ 0.987857 │\n",
      "│ 304  │ 30400  │ 1630 │ 1653 │ 0.986086 │\n",
      "│ 305  │ 30500  │ 1634 │ 1658 │ 0.985525 │\n",
      "│ 306  │ 30600  │ 1641 │ 1660 │ 0.988554 │\n",
      "│ 307  │ 30700  │ 1647 │ 1663 │ 0.990379 │\n",
      "│ 308  │ 30800  │ 1651 │ 1667 │ 0.990402 │\n",
      "│ 309  │ 30900  │ 1659 │ 1672 │ 0.992225 │\n",
      "│ 310  │ 31000  │ 1663 │ 1676 │ 0.992243 │\n",
      "│ 311  │ 31100  │ 1667 │ 1682 │ 0.991082 │\n",
      "│ 312  │ 31200  │ 1673 │ 1688 │ 0.991114 │\n",
      "│ 313  │ 31300  │ 1677 │ 1695 │ 0.989381 │\n",
      "│ 314  │ 31400  │ 1683 │ 1701 │ 0.989418 │\n",
      "│ 315  │ 31500  │ 1687 │ 1701 │ 0.99177  │\n",
      "│ 316  │ 31600  │ 1691 │ 1707 │ 0.990627 │\n",
      "│ 317  │ 31700  │ 1694 │ 1714 │ 0.988331 │\n",
      "│ 318  │ 31800  │ 1699 │ 1719 │ 0.988365 │\n",
      "│ 319  │ 31900  │ 1702 │ 1723 │ 0.987812 │\n",
      "│ 320  │ 32000  │ 1705 │ 1726 │ 0.987833 │\n",
      "│ 321  │ 32100  │ 1711 │ 1733 │ 0.987305 │\n",
      "│ 322  │ 32200  │ 1715 │ 1738 │ 0.986766 │\n",
      "│ 323  │ 32300  │ 1721 │ 1741 │ 0.988512 │\n",
      "│ 324  │ 32400  │ 1728 │ 1747 │ 0.989124 │\n",
      "│ 325  │ 32500  │ 1733 │ 1753 │ 0.988591 │\n",
      "│ 326  │ 32600  │ 1738 │ 1759 │ 0.988061 │\n",
      "│ 327  │ 32700  │ 1743 │ 1763 │ 0.988656 │\n",
      "│ 328  │ 32800  │ 1748 │ 1768 │ 0.988688 │\n",
      "│ 329  │ 32900  │ 1751 │ 1773 │ 0.987592 │\n",
      "│ 330  │ 33000  │ 1758 │ 1779 │ 0.988196 │\n",
      "│ 331  │ 33100  │ 1764 │ 1783 │ 0.989344 │\n",
      "│ 332  │ 33200  │ 1768 │ 1789 │ 0.988262 │\n",
      "│ 333  │ 33300  │ 1769 │ 1794 │ 0.986065 │\n",
      "│ 334  │ 33400  │ 1775 │ 1800 │ 0.986111 │\n",
      "│ 335  │ 33500  │ 1781 │ 1804 │ 0.987251 │\n",
      "│ 336  │ 33600  │ 1788 │ 1809 │ 0.988391 │\n",
      "│ 337  │ 33700  │ 1794 │ 1813 │ 0.98952  │\n",
      "│ 338  │ 33800  │ 1801 │ 1818 │ 0.990649 │\n",
      "│ 339  │ 33900  │ 1806 │ 1823 │ 0.990675 │\n",
      "│ 340  │ 34000  │ 1810 │ 1827 │ 0.990695 │\n",
      "│ 341  │ 34100  │ 1813 │ 1830 │ 0.99071  │\n",
      "│ 342  │ 34200  │ 1816 │ 1836 │ 0.989107 │\n",
      "│ 343  │ 34300  │ 1822 │ 1841 │ 0.98968  │\n",
      "│ 344  │ 34400  │ 1828 │ 1846 │ 0.990249 │\n",
      "│ 345  │ 34500  │ 1832 │ 1852 │ 0.989201 │\n",
      "│ 346  │ 34600  │ 1837 │ 1857 │ 0.98923  │\n",
      "│ 347  │ 34700  │ 1841 │ 1864 │ 0.987661 │\n",
      "│ 348  │ 34800  │ 1845 │ 1869 │ 0.987159 │\n",
      "│ 349  │ 34900  │ 1849 │ 1875 │ 0.986133 │\n",
      "│ 350  │ 35000  │ 1853 │ 1878 │ 0.986688 │\n",
      "│ 351  │ 35100  │ 1857 │ 1884 │ 0.985669 │\n",
      "│ 352  │ 35200  │ 1862 │ 1888 │ 0.986229 │\n",
      "│ 353  │ 35300  │ 1866 │ 1893 │ 0.985737 │\n",
      "│ 354  │ 35400  │ 1870 │ 1898 │ 0.985248 │\n",
      "│ 355  │ 35500  │ 1874 │ 1903 │ 0.984761 │\n",
      "│ 356  │ 35600  │ 1882 │ 1908 │ 0.986373 │\n",
      "│ 357  │ 35700  │ 1884 │ 1910 │ 0.986387 │\n",
      "│ 358  │ 35800  │ 1887 │ 1914 │ 0.985893 │\n",
      "│ 359  │ 35900  │ 1892 │ 1921 │ 0.984904 │\n",
      "│ 360  │ 36000  │ 1896 │ 1927 │ 0.983913 │\n",
      "│ 361  │ 36100  │ 1902 │ 1931 │ 0.984982 │\n",
      "│ 362  │ 36200  │ 1905 │ 1936 │ 0.983988 │\n",
      "│ 363  │ 36300  │ 1912 │ 1939 │ 0.986075 │\n",
      "│ 364  │ 36400  │ 1917 │ 1943 │ 0.986619 │\n",
      "│ 365  │ 36500  │ 1923 │ 1946 │ 0.988181 │\n",
      "│ 366  │ 36600  │ 1925 │ 1955 │ 0.984655 │\n",
      "│ 367  │ 36700  │ 1930 │ 1960 │ 0.984694 │\n",
      "│ 368  │ 36800  │ 1937 │ 1965 │ 0.985751 │\n",
      "│ 369  │ 36900  │ 1942 │ 1969 │ 0.986287 │\n",
      "│ 370  │ 37000  │ 1947 │ 1975 │ 0.985823 │\n",
      "│ 371  │ 37100  │ 1953 │ 1979 │ 0.986862 │\n",
      "│ 372  │ 37200  │ 1956 │ 1984 │ 0.985887 │\n",
      "│ 373  │ 37300  │ 1961 │ 1986 │ 0.987412 │\n",
      "│ 374  │ 37400  │ 1969 │ 1990 │ 0.989447 │\n",
      "│ 375  │ 37500  │ 1973 │ 1994 │ 0.989468 │\n",
      "│ 376  │ 37600  │ 1981 │ 2001 │ 0.990005 │\n",
      "│ 377  │ 37700  │ 1985 │ 2007 │ 0.989038 │\n",
      "│ 378  │ 37800  │ 1987 │ 2010 │ 0.988557 │\n",
      "│ 379  │ 37900  │ 1992 │ 2015 │ 0.988586 │\n",
      "│ 380  │ 38000  │ 1995 │ 2021 │ 0.987135 │\n",
      "│ 381  │ 38100  │ 1997 │ 2025 │ 0.986173 │\n",
      "│ 382  │ 38200  │ 2003 │ 2028 │ 0.987673 │\n",
      "│ 383  │ 38300  │ 2008 │ 2033 │ 0.987703 │\n",
      "│ 384  │ 38400  │ 2014 │ 2037 │ 0.988709 │\n",
      "│ 385  │ 38500  │ 2017 │ 2040 │ 0.988725 │\n",
      "│ 386  │ 38600  │ 2022 │ 2042 │ 0.990206 │\n",
      "│ 387  │ 38700  │ 2028 │ 2048 │ 0.990234 │\n",
      "│ 388  │ 38800  │ 2032 │ 2055 │ 0.988808 │\n",
      "│ 389  │ 38900  │ 2036 │ 2060 │ 0.98835  │\n",
      "│ 390  │ 39000  │ 2042 │ 2064 │ 0.989341 │\n",
      "│ 391  │ 39100  │ 2045 │ 2069 │ 0.9884   │\n",
      "│ 392  │ 39200  │ 2050 │ 2076 │ 0.987476 │\n",
      "│ 393  │ 39300  │ 2056 │ 2079 │ 0.988937 │\n",
      "│ 394  │ 39400  │ 2062 │ 2085 │ 0.988969 │\n",
      "│ 395  │ 39500  │ 2064 │ 2090 │ 0.98756  │\n",
      "│ 396  │ 39600  │ 2069 │ 2094 │ 0.988061 │\n",
      "│ 397  │ 39700  │ 2069 │ 2102 │ 0.984301 │\n",
      "│ 398  │ 39800  │ 2074 │ 2108 │ 0.983871 │\n",
      "│ 399  │ 39900  │ 2080 │ 2114 │ 0.983917 │\n",
      "│ 400  │ 40000  │ 2085 │ 2117 │ 0.984884 │\n",
      "│ 401  │ 40100  │ 2089 │ 2122 │ 0.984449 │\n",
      "│ 402  │ 40200  │ 2095 │ 2127 │ 0.984955 │\n",
      "│ 403  │ 40300  │ 2101 │ 2129 │ 0.986848 │\n",
      "│ 404  │ 40400  │ 2103 │ 2132 │ 0.986398 │\n",
      "│ 405  │ 40500  │ 2106 │ 2139 │ 0.984572 │\n",
      "│ 406  │ 40600  │ 2109 │ 2146 │ 0.982759 │\n",
      "│ 407  │ 40700  │ 2113 │ 2149 │ 0.983248 │\n",
      "│ 408  │ 40800  │ 2114 │ 2155 │ 0.980974 │\n",
      "│ 409  │ 40900  │ 2121 │ 2161 │ 0.98149  │\n",
      "│ 410  │ 41000  │ 2126 │ 2164 │ 0.98244  │\n",
      "│ 411  │ 41100  │ 2130 │ 2169 │ 0.982019 │\n",
      "│ 412  │ 41200  │ 2137 │ 2173 │ 0.983433 │\n",
      "│ 413  │ 41300  │ 2144 │ 2179 │ 0.983938 │\n",
      "│ 414  │ 41400  │ 2149 │ 2182 │ 0.984876 │\n",
      "│ 415  │ 41500  │ 2151 │ 2187 │ 0.983539 │\n",
      "│ 416  │ 41600  │ 2156 │ 2192 │ 0.983577 │\n",
      "│ 417  │ 41700  │ 2162 │ 2199 │ 0.983174 │\n",
      "│ 418  │ 41800  │ 2166 │ 2202 │ 0.983651 │\n",
      "│ 419  │ 41900  │ 2172 │ 2207 │ 0.984141 │\n",
      "│ 420  │ 42000  │ 2177 │ 2214 │ 0.983288 │\n",
      "│ 421  │ 42100  │ 2182 │ 2219 │ 0.983326 │\n",
      "│ 422  │ 42200  │ 2188 │ 2223 │ 0.984256 │\n",
      "│ 423  │ 42300  │ 2193 │ 2228 │ 0.984291 │\n",
      "│ 424  │ 42400  │ 2197 │ 2234 │ 0.983438 │\n",
      "│ 425  │ 42500  │ 2203 │ 2243 │ 0.982167 │\n",
      "│ 426  │ 42600  │ 2209 │ 2244 │ 0.984403 │\n",
      "│ 427  │ 42700  │ 2214 │ 2248 │ 0.984875 │\n",
      "│ 428  │ 42800  │ 2220 │ 2255 │ 0.984479 │\n",
      "│ 429  │ 42900  │ 2224 │ 2259 │ 0.984506 │\n",
      "│ 430  │ 43000  │ 2230 │ 2263 │ 0.985418 │\n",
      "│ 431  │ 43100  │ 2234 │ 2268 │ 0.985009 │\n",
      "│ 432  │ 43200  │ 2238 │ 2271 │ 0.985469 │\n",
      "│ 433  │ 43300  │ 2241 │ 2276 │ 0.984622 │\n",
      "│ 434  │ 43400  │ 2244 │ 2280 │ 0.984211 │\n",
      "│ 435  │ 43500  │ 2247 │ 2286 │ 0.98294  │\n",
      "│ 436  │ 43600  │ 2252 │ 2289 │ 0.983836 │\n",
      "│ 437  │ 43700  │ 2258 │ 2293 │ 0.984736 │\n",
      "│ 438  │ 43800  │ 2265 │ 2297 │ 0.986069 │\n",
      "│ 439  │ 43900  │ 2268 │ 2299 │ 0.986516 │\n",
      "│ 440  │ 44000  │ 2274 │ 2304 │ 0.986979 │\n",
      "│ 441  │ 44100  │ 2280 │ 2308 │ 0.987868 │\n",
      "│ 442  │ 44200  │ 2283 │ 2315 │ 0.986177 │\n",
      "│ 443  │ 44300  │ 2291 │ 2320 │ 0.9875   │\n",
      "│ 444  │ 44400  │ 2294 │ 2323 │ 0.987516 │\n",
      "│ 445  │ 44500  │ 2298 │ 2325 │ 0.988387 │\n",
      "│ 446  │ 44600  │ 2302 │ 2332 │ 0.987136 │\n",
      "│ 447  │ 44700  │ 2307 │ 2338 │ 0.986741 │\n",
      "│ 448  │ 44800  │ 2315 │ 2340 │ 0.989316 │\n",
      "│ 449  │ 44900  │ 2317 │ 2347 │ 0.987218 │\n",
      "│ 450  │ 45000  │ 2320 │ 2354 │ 0.985556 │\n",
      "│ 451  │ 45100  │ 2324 │ 2356 │ 0.986418 │\n",
      "│ 452  │ 45200  │ 2329 │ 2362 │ 0.986029 │\n",
      "│ 453  │ 45300  │ 2333 │ 2365 │ 0.986469 │\n",
      "│ 454  │ 45400  │ 2340 │ 2368 │ 0.988176 │\n",
      "│ 455  │ 45500  │ 2344 │ 2372 │ 0.988196 │\n",
      "│ 456  │ 45600  │ 2350 │ 2376 │ 0.989057 │\n",
      "│ 457  │ 45700  │ 2355 │ 2380 │ 0.989496 │\n",
      "│ 458  │ 45800  │ 2357 │ 2385 │ 0.98826  │\n",
      "│ 459  │ 45900  │ 2364 │ 2389 │ 0.989535 │\n",
      "│ 460  │ 46000  │ 2367 │ 2393 │ 0.989135 │\n",
      "│ 461  │ 46100  │ 2372 │ 2397 │ 0.98957  │\n",
      "│ 462  │ 46200  │ 2376 │ 2403 │ 0.988764 │\n",
      "│ 463  │ 46300  │ 2380 │ 2406 │ 0.989194 │\n",
      "│ 464  │ 46400  │ 2385 │ 2410 │ 0.989627 │\n",
      "│ 465  │ 46500  │ 2389 │ 2416 │ 0.988825 │\n",
      "│ 466  │ 46600  │ 2392 │ 2422 │ 0.987614 │\n",
      "│ 467  │ 46700  │ 2396 │ 2429 │ 0.986414 │\n",
      "│ 468  │ 46800  │ 2398 │ 2435 │ 0.984805 │\n",
      "│ 469  │ 46900  │ 2404 │ 2440 │ 0.985246 │\n",
      "│ 470  │ 47000  │ 2409 │ 2441 │ 0.986891 │\n",
      "│ 471  │ 47100  │ 2413 │ 2444 │ 0.987316 │\n",
      "│ 472  │ 47200  │ 2418 │ 2449 │ 0.987342 │\n",
      "│ 473  │ 47300  │ 2423 │ 2453 │ 0.98777  │\n",
      "│ 474  │ 47400  │ 2428 │ 2458 │ 0.987795 │\n",
      "│ 475  │ 47500  │ 2431 │ 2463 │ 0.987008 │\n",
      "│ 476  │ 47600  │ 2437 │ 2469 │ 0.987039 │\n",
      "│ 477  │ 47700  │ 2442 │ 2473 │ 0.987465 │\n",
      "│ 478  │ 47800  │ 2449 │ 2477 │ 0.988696 │\n",
      "│ 479  │ 47900  │ 2454 │ 2480 │ 0.989516 │\n",
      "│ 480  │ 48000  │ 2459 │ 2486 │ 0.989139 │\n",
      "│ 481  │ 48100  │ 2463 │ 2489 │ 0.989554 │\n",
      "│ 482  │ 48200  │ 2468 │ 2494 │ 0.989575 │\n",
      "│ 483  │ 48300  │ 2470 │ 2499 │ 0.988395 │\n",
      "│ 484  │ 48400  │ 2475 │ 2502 │ 0.989209 │\n",
      "│ 485  │ 48500  │ 2482 │ 2507 │ 0.990028 │\n",
      "│ 486  │ 48600  │ 2486 │ 2512 │ 0.98965  │\n",
      "│ 487  │ 48700  │ 2490 │ 2517 │ 0.989273 │\n",
      "│ 488  │ 48800  │ 2494 │ 2523 │ 0.988506 │\n",
      "│ 489  │ 48900  │ 2500 │ 2528 │ 0.988924 │\n",
      "│ 490  │ 49000  │ 2503 │ 2531 │ 0.988937 │\n",
      "│ 491  │ 49100  │ 2509 │ 2535 │ 0.989744 │\n",
      "│ 492  │ 49200  │ 2516 │ 2540 │ 0.990551 │\n",
      "│ 493  │ 49300  │ 2521 │ 2544 │ 0.990959 │\n",
      "│ 494  │ 49400  │ 2524 │ 2550 │ 0.989804 │\n",
      "│ 495  │ 49500  │ 2530 │ 2555 │ 0.990215 │\n",
      "│ 496  │ 49600  │ 2534 │ 2559 │ 0.990231 │\n",
      "│ 497  │ 49700  │ 2539 │ 2564 │ 0.99025  │\n",
      "│ 498  │ 49800  │ 2542 │ 2570 │ 0.989105 │\n",
      "│ 499  │ 49900  │ 2545 │ 2577 │ 0.987582 │\n",
      "│ 500  │ 50000  │ 2549 │ 2583 │ 0.986837 │\n",
      "│ 501  │ 50100  │ 2555 │ 2587 │ 0.98763  │\n",
      "│ 502  │ 50200  │ 2559 │ 2593 │ 0.986888 │\n",
      "│ 503  │ 50300  │ 2562 │ 2599 │ 0.985764 │\n",
      "│ 504  │ 50400  │ 2567 │ 2604 │ 0.985791 │\n",
      "│ 505  │ 50500  │ 2571 │ 2607 │ 0.986191 │\n",
      "│ 506  │ 50600  │ 2575 │ 2615 │ 0.984704 │\n",
      "│ 507  │ 50700  │ 2575 │ 2620 │ 0.982824 │\n",
      "│ 508  │ 50800  │ 2580 │ 2623 │ 0.983607 │\n",
      "│ 509  │ 50900  │ 2586 │ 2626 │ 0.984768 │\n",
      "│ 510  │ 51000  │ 2592 │ 2629 │ 0.985926 │\n",
      "│ 511  │ 51100  │ 2594 │ 2634 │ 0.984814 │\n",
      "│ 512  │ 51200  │ 2601 │ 2637 │ 0.986348 │\n",
      "│ 513  │ 51300  │ 2605 │ 2642 │ 0.985995 │\n",
      "│ 514  │ 51400  │ 2609 │ 2646 │ 0.986017 │\n",
      "│ 515  │ 51500  │ 2616 │ 2653 │ 0.986054 │\n",
      "│ 516  │ 51600  │ 2621 │ 2659 │ 0.985709 │\n",
      "│ 517  │ 51700  │ 2624 │ 2666 │ 0.984246 │\n",
      "│ 518  │ 51800  │ 2629 │ 2669 │ 0.985013 │\n",
      "│ 519  │ 51900  │ 2634 │ 2675 │ 0.984673 │\n",
      "│ 520  │ 52000  │ 2640 │ 2678 │ 0.98581  │\n",
      "│ 521  │ 52100  │ 2645 │ 2681 │ 0.986572 │\n",
      "│ 522  │ 52200  │ 2650 │ 2686 │ 0.986597 │\n",
      "│ 523  │ 52300  │ 2655 │ 2690 │ 0.986989 │\n",
      "│ 524  │ 52400  │ 2660 │ 2694 │ 0.987379 │\n",
      "│ 525  │ 52500  │ 2664 │ 2694 │ 0.988864 │\n",
      "│ 526  │ 52600  │ 2670 │ 2700 │ 0.988889 │\n",
      "│ 527  │ 52700  │ 2673 │ 2705 │ 0.98817  │\n",
      "│ 528  │ 52800  │ 2678 │ 2709 │ 0.988557 │\n",
      "│ 529  │ 52900  │ 2683 │ 2713 │ 0.988942 │\n",
      "│ 530  │ 53000  │ 2688 │ 2719 │ 0.988599 │\n",
      "│ 531  │ 53100  │ 2693 │ 2723 │ 0.988983 │\n",
      "│ 532  │ 53200  │ 2702 │ 2725 │ 0.99156  │\n",
      "│ 533  │ 53300  │ 2706 │ 2730 │ 0.991209 │\n",
      "│ 534  │ 53400  │ 2710 │ 2733 │ 0.991584 │\n",
      "│ 535  │ 53500  │ 2714 │ 2737 │ 0.991597 │\n",
      "│ 536  │ 53600  │ 2718 │ 2742 │ 0.991247 │\n",
      "│ 537  │ 53700  │ 2726 │ 2746 │ 0.992717 │\n",
      "│ 538  │ 53800  │ 2729 │ 2751 │ 0.992003 │\n",
      "│ 539  │ 53900  │ 2735 │ 2756 │ 0.99238  │\n",
      "│ 540  │ 54000  │ 2737 │ 2762 │ 0.990949 │\n",
      "│ 541  │ 54100  │ 2741 │ 2766 │ 0.990962 │\n",
      "│ 542  │ 54200  │ 2746 │ 2770 │ 0.991336 │\n",
      "│ 543  │ 54300  │ 2750 │ 2772 │ 0.992063 │\n",
      "│ 544  │ 54400  │ 2752 │ 2779 │ 0.990284 │\n",
      "│ 545  │ 54500  │ 2761 │ 2783 │ 0.992095 │\n",
      "│ 546  │ 54600  │ 2766 │ 2789 │ 0.991753 │\n",
      "│ 547  │ 54700  │ 2770 │ 2794 │ 0.99141  │\n",
      "│ 548  │ 54800  │ 2774 │ 2800 │ 0.990714 │\n",
      "│ 549  │ 54900  │ 2779 │ 2801 │ 0.992146 │\n",
      "│ 550  │ 55000  │ 2783 │ 2806 │ 0.991803 │\n",
      "│ 551  │ 55100  │ 2790 │ 2808 │ 0.99359  │\n",
      "│ 552  │ 55200  │ 2792 │ 2813 │ 0.992535 │\n",
      "│ 553  │ 55300  │ 2797 │ 2818 │ 0.992548 │\n",
      "│ 554  │ 55400  │ 2802 │ 2823 │ 0.992561 │\n",
      "│ 555  │ 55500  │ 2805 │ 2826 │ 0.992569 │\n",
      "│ 556  │ 55600  │ 2809 │ 2829 │ 0.99293  │\n",
      "│ 557  │ 55700  │ 2816 │ 2836 │ 0.992948 │\n",
      "│ 558  │ 55800  │ 2820 │ 2840 │ 0.992958 │\n",
      "│ 559  │ 55900  │ 2827 │ 2845 │ 0.993673 │\n",
      "│ 560  │ 56000  │ 2832 │ 2850 │ 0.993684 │\n",
      "│ 561  │ 56100  │ 2837 │ 2854 │ 0.994043 │\n",
      "│ 562  │ 56200  │ 2841 │ 2859 │ 0.993704 │\n",
      "│ 563  │ 56300  │ 2845 │ 2864 │ 0.993366 │\n",
      "│ 564  │ 56400  │ 2849 │ 2867 │ 0.993722 │\n",
      "│ 565  │ 56500  │ 2856 │ 2871 │ 0.994775 │\n",
      "│ 566  │ 56600  │ 2861 │ 2878 │ 0.994093 │\n",
      "│ 567  │ 56700  │ 2864 │ 2883 │ 0.99341  │\n",
      "│ 568  │ 56800  │ 2868 │ 2889 │ 0.992731 │\n",
      "│ 569  │ 56900  │ 2875 │ 2893 │ 0.993778 │\n",
      "│ 570  │ 57000  │ 2882 │ 2899 │ 0.994136 │\n",
      "│ 571  │ 57100  │ 2888 │ 2901 │ 0.995519 │\n",
      "│ 572  │ 57200  │ 2891 │ 2909 │ 0.993812 │\n",
      "│ 573  │ 57300  │ 2894 │ 2916 │ 0.992455 │\n",
      "│ 574  │ 57400  │ 2900 │ 2920 │ 0.993151 │\n",
      "│ 575  │ 57500  │ 2903 │ 2923 │ 0.993158 │\n",
      "│ 576  │ 57600  │ 2906 │ 2928 │ 0.992486 │\n",
      "│ 577  │ 57700  │ 2913 │ 2930 │ 0.994198 │\n",
      "│ 578  │ 57800  │ 2919 │ 2936 │ 0.99421  │\n",
      "│ 579  │ 57900  │ 2923 │ 2941 │ 0.99388  │\n",
      "│ 580  │ 58000  │ 2927 │ 2945 │ 0.993888 │\n",
      "│ 581  │ 58100  │ 2932 │ 2950 │ 0.993898 │\n",
      "│ 582  │ 58200  │ 2938 │ 2955 │ 0.994247 │\n",
      "│ 583  │ 58300  │ 2941 │ 2960 │ 0.993581 │\n",
      "│ 584  │ 58400  │ 2947 │ 2964 │ 0.994265 │\n",
      "│ 585  │ 58500  │ 2952 │ 2969 │ 0.994274 │\n",
      "│ 586  │ 58600  │ 2955 │ 2973 │ 0.993946 │\n",
      "│ 587  │ 58700  │ 2960 │ 2978 │ 0.993956 │\n",
      "│ 588  │ 58800  │ 2964 │ 2983 │ 0.993631 │\n",
      "│ 589  │ 58900  │ 2966 │ 2984 │ 0.993968 │\n",
      "│ 590  │ 59000  │ 2972 │ 2990 │ 0.99398  │\n",
      "│ 591  │ 59100  │ 2979 │ 2995 │ 0.994658 │\n",
      "│ 592  │ 59200  │ 2983 │ 3001 │ 0.994002 │\n",
      "│ 593  │ 59300  │ 2988 │ 3006 │ 0.994012 │\n",
      "│ 594  │ 59400  │ 2994 │ 3010 │ 0.994684 │\n",
      "│ 595  │ 59500  │ 2999 │ 3016 │ 0.994363 │\n",
      "│ 596  │ 59600  │ 3004 │ 3018 │ 0.995361 │\n",
      "│ 597  │ 59700  │ 3009 │ 3025 │ 0.994711 │\n",
      "│ 598  │ 59800  │ 3012 │ 3032 │ 0.993404 │\n",
      "│ 599  │ 59900  │ 3014 │ 3035 │ 0.993081 │\n",
      "│ 600  │ 60000  │ 3018 │ 3038 │ 0.993417 │\n",
      "│ 601  │ 60100  │ 3025 │ 3040 │ 0.995066 │\n",
      "│ 602  │ 60200  │ 3030 │ 3045 │ 0.995074 │\n",
      "│ 603  │ 60300  │ 3035 │ 3049 │ 0.995408 │\n",
      "│ 604  │ 60400  │ 3040 │ 3052 │ 0.996068 │\n",
      "│ 605  │ 60500  │ 3045 │ 3054 │ 0.997053 │\n",
      "│ 606  │ 60600  │ 3048 │ 3056 │ 0.997382 │\n",
      "│ 607  │ 60700  │ 3054 │ 3063 │ 0.997062 │\n",
      "│ 608  │ 60800  │ 3060 │ 3068 │ 0.997392 │\n",
      "│ 609  │ 60900  │ 3063 │ 3072 │ 0.99707  │\n",
      "│ 610  │ 61000  │ 3069 │ 3075 │ 0.998049 │\n",
      "│ 611  │ 61100  │ 3071 │ 3082 │ 0.996431 │\n",
      "│ 612  │ 61200  │ 3076 │ 3083 │ 0.997729 │\n",
      "│ 613  │ 61300  │ 3079 │ 3088 │ 0.997085 │\n",
      "│ 614  │ 61400  │ 3082 │ 3093 │ 0.996444 │\n",
      "│ 615  │ 61500  │ 3087 │ 3098 │ 0.996449 │\n",
      "│ 616  │ 61600  │ 3089 │ 3105 │ 0.994847 │\n",
      "│ 617  │ 61700  │ 3095 │ 3112 │ 0.994537 │\n",
      "│ 618  │ 61800  │ 3099 │ 3115 │ 0.994864 │\n",
      "│ 619  │ 61900  │ 3102 │ 3119 │ 0.99455  │\n",
      "│ 620  │ 62000  │ 3107 │ 3124 │ 0.994558 │\n",
      "│ 621  │ 62100  │ 3111 │ 3130 │ 0.99393  │\n",
      "│ 622  │ 62200  │ 3115 │ 3135 │ 0.99362  │\n",
      "│ 623  │ 62300  │ 3120 │ 3138 │ 0.994264 │\n"
     ]
    },
    {
     "name": "stdout",
     "output_type": "stream",
     "text": [
      "│ 624  │ 62400  │ 3120 │ 3145 │ 0.992051 │\n",
      "│ 625  │ 62500  │ 3125 │ 3149 │ 0.992379 │\n",
      "│ 626  │ 62600  │ 3130 │ 3153 │ 0.992705 │\n",
      "│ 627  │ 62700  │ 3133 │ 3159 │ 0.99177  │\n",
      "│ 628  │ 62800  │ 3137 │ 3163 │ 0.99178  │\n",
      "│ 629  │ 62900  │ 3142 │ 3166 │ 0.992419 │\n",
      "│ 630  │ 63000  │ 3147 │ 3172 │ 0.992119 │\n",
      "│ 631  │ 63100  │ 3150 │ 3176 │ 0.991814 │\n",
      "│ 632  │ 63200  │ 3153 │ 3181 │ 0.991198 │\n",
      "│ 633  │ 63300  │ 3156 │ 3184 │ 0.991206 │\n",
      "│ 634  │ 63400  │ 3164 │ 3189 │ 0.992161 │\n",
      "│ 635  │ 63500  │ 3168 │ 3196 │ 0.991239 │\n",
      "│ 636  │ 63600  │ 3173 │ 3200 │ 0.991563 │\n",
      "│ 637  │ 63700  │ 3179 │ 3207 │ 0.991269 │\n",
      "│ 638  │ 63800  │ 3185 │ 3212 │ 0.991594 │\n",
      "│ 639  │ 63900  │ 3189 │ 3216 │ 0.991604 │\n",
      "│ 640  │ 64000  │ 3195 │ 3217 │ 0.993161 │\n",
      "│ 641  │ 64100  │ 3199 │ 3222 │ 0.992862 │\n",
      "│ 642  │ 64200  │ 3203 │ 3226 │ 0.99287  │\n",
      "│ 643  │ 64300  │ 3205 │ 3231 │ 0.991953 │\n",
      "│ 644  │ 64400  │ 3209 │ 3235 │ 0.991963 │\n",
      "│ 645  │ 64500  │ 3212 │ 3240 │ 0.991358 │\n",
      "│ 646  │ 64600  │ 3215 │ 3243 │ 0.991366 │\n",
      "│ 647  │ 64700  │ 3222 │ 3247 │ 0.992301 │\n",
      "│ 648  │ 64800  │ 3226 │ 3250 │ 0.992615 │\n",
      "│ 649  │ 64900  │ 3230 │ 3254 │ 0.992624 │\n",
      "│ 650  │ 65000  │ 3235 │ 3257 │ 0.993245 │\n",
      "│ 651  │ 65100  │ 3239 │ 3263 │ 0.992645 │\n",
      "│ 652  │ 65200  │ 3243 │ 3271 │ 0.99144  │\n",
      "│ 653  │ 65300  │ 3247 │ 3275 │ 0.99145  │\n",
      "│ 654  │ 65400  │ 3252 │ 3278 │ 0.992068 │\n",
      "│ 655  │ 65500  │ 3256 │ 3283 │ 0.991776 │\n",
      "│ 656  │ 65600  │ 3260 │ 3291 │ 0.99058  │\n",
      "│ 657  │ 65700  │ 3266 │ 3295 │ 0.991199 │\n",
      "│ 658  │ 65800  │ 3273 │ 3298 │ 0.99242  │\n",
      "│ 659  │ 65900  │ 3276 │ 3305 │ 0.991225 │\n",
      "│ 660  │ 66000  │ 3281 │ 3309 │ 0.991538 │\n",
      "│ 661  │ 66100  │ 3285 │ 3313 │ 0.991548 │\n",
      "│ 662  │ 66200  │ 3290 │ 3317 │ 0.99186  │\n",
      "│ 663  │ 66300  │ 3292 │ 3319 │ 0.991865 │\n",
      "│ 664  │ 66400  │ 3297 │ 3323 │ 0.992176 │\n",
      "│ 665  │ 66500  │ 3300 │ 3329 │ 0.991289 │\n",
      "│ 666  │ 66600  │ 3307 │ 3332 │ 0.992497 │\n",
      "│ 667  │ 66700  │ 3312 │ 3334 │ 0.993401 │\n",
      "│ 668  │ 66800  │ 3318 │ 3338 │ 0.994008 │\n",
      "│ 669  │ 66900  │ 3324 │ 3341 │ 0.994912 │\n",
      "│ 670  │ 67000  │ 3327 │ 3347 │ 0.994024 │\n",
      "│ 671  │ 67100  │ 3333 │ 3350 │ 0.994925 │\n",
      "│ 672  │ 67200  │ 3341 │ 3353 │ 0.996421 │\n",
      "│ 673  │ 67300  │ 3346 │ 3358 │ 0.996426 │\n",
      "│ 674  │ 67400  │ 3348 │ 3363 │ 0.99554  │\n",
      "│ 675  │ 67500  │ 3357 │ 3367 │ 0.99703  │\n",
      "│ 676  │ 67600  │ 3360 │ 3374 │ 0.995851 │\n",
      "│ 677  │ 67700  │ 3361 │ 3380 │ 0.994379 │\n",
      "│ 678  │ 67800  │ 3367 │ 3385 │ 0.994682 │\n",
      "│ 679  │ 67900  │ 3370 │ 3391 │ 0.993807 │\n",
      "│ 680  │ 68000  │ 3375 │ 3398 │ 0.993231 │\n",
      "│ 681  │ 68100  │ 3377 │ 3403 │ 0.99236  │\n",
      "│ 682  │ 68200  │ 3380 │ 3406 │ 0.992366 │\n",
      "│ 683  │ 68300  │ 3384 │ 3411 │ 0.992084 │\n",
      "│ 684  │ 68400  │ 3386 │ 3415 │ 0.991508 │\n",
      "│ 685  │ 68500  │ 3391 │ 3419 │ 0.99181  │\n",
      "│ 686  │ 68600  │ 3395 │ 3424 │ 0.99153  │\n",
      "│ 687  │ 68700  │ 3397 │ 3430 │ 0.990379 │\n",
      "│ 688  │ 68800  │ 3402 │ 3435 │ 0.990393 │\n",
      "│ 689  │ 68900  │ 3406 │ 3440 │ 0.990116 │\n",
      "│ 690  │ 69000  │ 3409 │ 3444 │ 0.989837 │\n",
      "│ 691  │ 69100  │ 3413 │ 3448 │ 0.989849 │\n",
      "│ 692  │ 69200  │ 3417 │ 3454 │ 0.989288 │\n",
      "│ 693  │ 69300  │ 3420 │ 3459 │ 0.988725 │\n",
      "│ 694  │ 69400  │ 3425 │ 3462 │ 0.989313 │\n",
      "│ 695  │ 69500  │ 3431 │ 3470 │ 0.988761 │\n",
      "│ 696  │ 69600  │ 3433 │ 3471 │ 0.989052 │\n",
      "│ 697  │ 69700  │ 3437 │ 3473 │ 0.989634 │\n",
      "│ 698  │ 69800  │ 3440 │ 3477 │ 0.989359 │\n",
      "│ 699  │ 69900  │ 3446 │ 3481 │ 0.989945 │\n",
      "│ 700  │ 70000  │ 3449 │ 3485 │ 0.98967  │\n",
      "│ 701  │ 70100  │ 3452 │ 3492 │ 0.988545 │\n",
      "│ 702  │ 70200  │ 3458 │ 3498 │ 0.988565 │\n",
      "│ 703  │ 70300  │ 3465 │ 3501 │ 0.989717 │\n",
      "│ 704  │ 70400  │ 3471 │ 3504 │ 0.990582 │\n",
      "│ 705  │ 70500  │ 3475 │ 3509 │ 0.990311 │\n",
      "│ 706  │ 70600  │ 3481 │ 3512 │ 0.991173 │\n",
      "│ 707  │ 70700  │ 3483 │ 3519 │ 0.98977  │\n",
      "│ 708  │ 70800  │ 3489 │ 3520 │ 0.991193 │\n",
      "│ 709  │ 70900  │ 3493 │ 3525 │ 0.990922 │\n",
      "│ 710  │ 71000  │ 3502 │ 3530 │ 0.992068 │\n",
      "│ 711  │ 71100  │ 3505 │ 3534 │ 0.991794 │\n",
      "│ 712  │ 71200  │ 3508 │ 3540 │ 0.99096  │\n",
      "│ 713  │ 71300  │ 3515 │ 3542 │ 0.992377 │\n",
      "│ 714  │ 71400  │ 3521 │ 3549 │ 0.99211  │\n",
      "│ 715  │ 71500  │ 3526 │ 3555 │ 0.991842 │\n",
      "│ 716  │ 71600  │ 3531 │ 3559 │ 0.992133 │\n",
      "│ 717  │ 71700  │ 3533 │ 3563 │ 0.99158  │\n",
      "│ 718  │ 71800  │ 3538 │ 3566 │ 0.992148 │\n",
      "│ 719  │ 71900  │ 3544 │ 3572 │ 0.992161 │\n",
      "│ 720  │ 72000  │ 3549 │ 3578 │ 0.991895 │\n",
      "│ 721  │ 72100  │ 3553 │ 3583 │ 0.991627 │\n",
      "│ 722  │ 72200  │ 3558 │ 3586 │ 0.992192 │\n",
      "│ 723  │ 72300  │ 3563 │ 3592 │ 0.991927 │\n",
      "│ 724  │ 72400  │ 3567 │ 3596 │ 0.991935 │\n",
      "│ 725  │ 72500  │ 3573 │ 3598 │ 0.993052 │\n",
      "│ 726  │ 72600  │ 3575 │ 3602 │ 0.992504 │\n",
      "│ 727  │ 72700  │ 3581 │ 3607 │ 0.992792 │\n",
      "│ 728  │ 72800  │ 3584 │ 3613 │ 0.991973 │\n",
      "│ 729  │ 72900  │ 3588 │ 3617 │ 0.991982 │\n",
      "│ 730  │ 73000  │ 3595 │ 3622 │ 0.992546 │\n",
      "│ 731  │ 73100  │ 3599 │ 3628 │ 0.992007 │\n",
      "│ 732  │ 73200  │ 3604 │ 3629 │ 0.993111 │\n",
      "│ 733  │ 73300  │ 3606 │ 3632 │ 0.992841 │\n",
      "│ 734  │ 73400  │ 3609 │ 3639 │ 0.991756 │\n",
      "│ 735  │ 73500  │ 3614 │ 3642 │ 0.992312 │\n",
      "│ 736  │ 73600  │ 3620 │ 3646 │ 0.992869 │\n",
      "│ 737  │ 73700  │ 3626 │ 3651 │ 0.993153 │\n",
      "│ 738  │ 73800  │ 3629 │ 3655 │ 0.992886 │\n",
      "│ 739  │ 73900  │ 3632 │ 3661 │ 0.992079 │\n",
      "│ 740  │ 74000  │ 3634 │ 3666 │ 0.991271 │\n",
      "│ 741  │ 74100  │ 3638 │ 3671 │ 0.991011 │\n",
      "│ 742  │ 74200  │ 3644 │ 3675 │ 0.991565 │\n",
      "│ 743  │ 74300  │ 3649 │ 3680 │ 0.991576 │\n",
      "│ 744  │ 74400  │ 3654 │ 3684 │ 0.991857 │\n",
      "│ 745  │ 74500  │ 3659 │ 3687 │ 0.992406 │\n",
      "│ 746  │ 74600  │ 3664 │ 3693 │ 0.992147 │\n",
      "│ 747  │ 74700  │ 3666 │ 3697 │ 0.991615 │\n",
      "│ 748  │ 74800  │ 3671 │ 3704 │ 0.991091 │\n",
      "│ 749  │ 74900  │ 3677 │ 3709 │ 0.991372 │\n",
      "│ 750  │ 75000  │ 3680 │ 3712 │ 0.991379 │\n",
      "│ 751  │ 75100  │ 3685 │ 3715 │ 0.991925 │\n",
      "│ 752  │ 75200  │ 3692 │ 3716 │ 0.993541 │\n",
      "│ 753  │ 75300  │ 3698 │ 3720 │ 0.994086 │\n",
      "│ 754  │ 75400  │ 3703 │ 3725 │ 0.994094 │\n",
      "│ 755  │ 75500  │ 3705 │ 3729 │ 0.993564 │\n",
      "│ 756  │ 75600  │ 3711 │ 3735 │ 0.993574 │\n",
      "│ 757  │ 75700  │ 3716 │ 3740 │ 0.993583 │\n",
      "│ 758  │ 75800  │ 3722 │ 3746 │ 0.993593 │\n",
      "│ 759  │ 75900  │ 3726 │ 3747 │ 0.994396 │\n",
      "│ 760  │ 76000  │ 3731 │ 3752 │ 0.994403 │\n",
      "│ 761  │ 76100  │ 3733 │ 3758 │ 0.993348 │\n",
      "│ 762  │ 76200  │ 3735 │ 3763 │ 0.992559 │\n",
      "│ 763  │ 76300  │ 3740 │ 3768 │ 0.992569 │\n",
      "│ 764  │ 76400  │ 3742 │ 3773 │ 0.991784 │\n",
      "│ 765  │ 76500  │ 3746 │ 3778 │ 0.99153  │\n",
      "│ 766  │ 76600  │ 3750 │ 3783 │ 0.991277 │\n",
      "│ 767  │ 76700  │ 3753 │ 3789 │ 0.990499 │\n",
      "│ 768  │ 76800  │ 3759 │ 3790 │ 0.991821 │\n",
      "│ 769  │ 76900  │ 3763 │ 3795 │ 0.991568 │\n",
      "│ 770  │ 77000  │ 3766 │ 3800 │ 0.991053 │\n",
      "│ 771  │ 77100  │ 3772 │ 3803 │ 0.991849 │\n",
      "│ 772  │ 77200  │ 3776 │ 3806 │ 0.992118 │\n",
      "│ 773  │ 77300  │ 3782 │ 3812 │ 0.99213  │\n",
      "│ 774  │ 77400  │ 3785 │ 3818 │ 0.991357 │\n",
      "│ 775  │ 77500  │ 3788 │ 3824 │ 0.990586 │\n",
      "│ 776  │ 77600  │ 3795 │ 3830 │ 0.990862 │\n",
      "│ 777  │ 77700  │ 3800 │ 3835 │ 0.990874 │\n",
      "│ 778  │ 77800  │ 3804 │ 3842 │ 0.990109 │\n",
      "│ 779  │ 77900  │ 3808 │ 3846 │ 0.99012  │\n",
      "│ 780  │ 78000  │ 3812 │ 3849 │ 0.990387 │\n",
      "│ 781  │ 78100  │ 3815 │ 3853 │ 0.990138 │\n",
      "│ 782  │ 78200  │ 3821 │ 3858 │ 0.99041  │\n",
      "│ 783  │ 78300  │ 3825 │ 3861 │ 0.990676 │\n",
      "│ 784  │ 78400  │ 3828 │ 3865 │ 0.990427 │\n",
      "│ 785  │ 78500  │ 3831 │ 3870 │ 0.989922 │\n",
      "│ 786  │ 78600  │ 3838 │ 3874 │ 0.990707 │\n",
      "│ 787  │ 78700  │ 3841 │ 3878 │ 0.990459 │\n",
      "│ 788  │ 78800  │ 3846 │ 3882 │ 0.990726 │\n",
      "│ 789  │ 78900  │ 3852 │ 3886 │ 0.991251 │\n",
      "│ 790  │ 79000  │ 3857 │ 3888 │ 0.992027 │\n",
      "│ 791  │ 79100  │ 3857 │ 3893 │ 0.990753 │\n",
      "│ 792  │ 79200  │ 3861 │ 3900 │ 0.99     │\n",
      "│ 793  │ 79300  │ 3865 │ 3904 │ 0.99001  │\n",
      "│ 794  │ 79400  │ 3873 │ 3908 │ 0.991044 │\n",
      "│ 795  │ 79500  │ 3876 │ 3912 │ 0.990798 │\n",
      "│ 796  │ 79600  │ 3880 │ 3915 │ 0.99106  │\n",
      "│ 797  │ 79700  │ 3889 │ 3920 │ 0.992092 │\n",
      "│ 798  │ 79800  │ 3892 │ 3920 │ 0.992857 │\n",
      "│ 799  │ 79900  │ 3900 │ 3925 │ 0.993631 │\n",
      "│ 800  │ 80000  │ 3903 │ 3933 │ 0.992372 │\n",
      "│ 801  │ 80100  │ 3905 │ 3936 │ 0.992124 │\n",
      "│ 802  │ 80200  │ 3910 │ 3941 │ 0.992134 │\n",
      "│ 803  │ 80300  │ 3914 │ 3948 │ 0.991388 │\n",
      "│ 804  │ 80400  │ 3919 │ 3951 │ 0.991901 │\n",
      "│ 805  │ 80500  │ 3923 │ 3955 │ 0.991909 │\n",
      "│ 806  │ 80600  │ 3926 │ 3958 │ 0.991915 │\n",
      "│ 807  │ 80700  │ 3932 │ 3965 │ 0.991677 │\n",
      "│ 808  │ 80800  │ 3939 │ 3968 │ 0.992692 │\n",
      "│ 809  │ 80900  │ 3943 │ 3972 │ 0.992699 │\n",
      "│ 810  │ 81000  │ 3949 │ 3975 │ 0.993459 │\n",
      "│ 811  │ 81100  │ 3956 │ 3982 │ 0.993471 │\n",
      "│ 812  │ 81200  │ 3961 │ 3986 │ 0.993728 │\n",
      "│ 813  │ 81300  │ 3964 │ 3991 │ 0.993235 │\n",
      "│ 814  │ 81400  │ 3967 │ 3996 │ 0.992743 │\n",
      "│ 815  │ 81500  │ 3971 │ 3998 │ 0.993247 │\n",
      "│ 816  │ 81600  │ 3976 │ 4003 │ 0.993255 │\n",
      "│ 817  │ 81700  │ 3981 │ 4008 │ 0.993263 │\n",
      "│ 818  │ 81800  │ 3987 │ 4012 │ 0.993769 │\n",
      "│ 819  │ 81900  │ 3990 │ 4016 │ 0.993526 │\n",
      "│ 820  │ 82000  │ 3995 │ 4021 │ 0.993534 │\n",
      "│ 821  │ 82100  │ 4000 │ 4027 │ 0.993295 │\n",
      "│ 822  │ 82200  │ 4005 │ 4031 │ 0.99355  │\n",
      "│ 823  │ 82300  │ 4009 │ 4037 │ 0.993064 │\n",
      "│ 824  │ 82400  │ 4014 │ 4041 │ 0.993318 │\n",
      "│ 825  │ 82500  │ 4018 │ 4046 │ 0.99308  │\n",
      "│ 826  │ 82600  │ 4021 │ 4052 │ 0.992349 │\n",
      "│ 827  │ 82700  │ 4026 │ 4055 │ 0.992848 │\n",
      "│ 828  │ 82800  │ 4031 │ 4061 │ 0.992613 │\n",
      "│ 829  │ 82900  │ 4034 │ 4065 │ 0.992374 │\n",
      "│ 830  │ 83000  │ 4037 │ 4068 │ 0.99238  │\n",
      "│ 831  │ 83100  │ 4041 │ 4074 │ 0.9919   │\n",
      "│ 832  │ 83200  │ 4045 │ 4074 │ 0.992882 │\n",
      "│ 833  │ 83300  │ 4050 │ 4082 │ 0.992161 │\n",
      "│ 834  │ 83400  │ 4053 │ 4086 │ 0.991924 │\n",
      "│ 835  │ 83500  │ 4059 │ 4092 │ 0.991935 │\n",
      "│ 836  │ 83600  │ 4063 │ 4095 │ 0.992186 │\n",
      "│ 837  │ 83700  │ 4069 │ 4097 │ 0.993166 │\n",
      "│ 838  │ 83800  │ 4075 │ 4099 │ 0.994145 │\n",
      "│ 839  │ 83900  │ 4080 │ 4101 │ 0.994879 │\n",
      "│ 840  │ 84000  │ 4083 │ 4106 │ 0.994398 │\n",
      "│ 841  │ 84100  │ 4087 │ 4110 │ 0.994404 │\n",
      "│ 842  │ 84200  │ 4090 │ 4117 │ 0.993442 │\n",
      "│ 843  │ 84300  │ 4092 │ 4123 │ 0.992481 │\n",
      "│ 844  │ 84400  │ 4097 │ 4127 │ 0.992731 │\n",
      "│ 845  │ 84500  │ 4103 │ 4133 │ 0.992741 │\n",
      "│ 846  │ 84600  │ 4107 │ 4137 │ 0.992748 │\n",
      "│ 847  │ 84700  │ 4112 │ 4140 │ 0.993237 │\n",
      "│ 848  │ 84800  │ 4117 │ 4144 │ 0.993485 │\n",
      "│ 849  │ 84900  │ 4120 │ 4148 │ 0.99325  │\n",
      "│ 850  │ 85000  │ 4123 │ 4153 │ 0.992776 │\n",
      "│ 851  │ 85100  │ 4130 │ 4156 │ 0.993744 │\n",
      "│ 852  │ 85200  │ 4134 │ 4160 │ 0.99375  │\n",
      "│ 853  │ 85300  │ 4139 │ 4164 │ 0.993996 │\n",
      "│ 854  │ 85400  │ 4144 │ 4167 │ 0.99448  │\n",
      "│ 855  │ 85500  │ 4147 │ 4173 │ 0.993769 │\n",
      "│ 856  │ 85600  │ 4152 │ 4176 │ 0.994253 │\n",
      "│ 857  │ 85700  │ 4156 │ 4183 │ 0.993545 │\n",
      "│ 858  │ 85800  │ 4160 │ 4186 │ 0.993789 │\n",
      "│ 859  │ 85900  │ 4165 │ 4190 │ 0.994033 │\n",
      "│ 860  │ 86000  │ 4167 │ 4194 │ 0.993562 │\n",
      "│ 861  │ 86100  │ 4171 │ 4197 │ 0.993805 │\n",
      "│ 862  │ 86200  │ 4176 │ 4203 │ 0.993576 │\n",
      "│ 863  │ 86300  │ 4183 │ 4208 │ 0.994059 │\n",
      "│ 864  │ 86400  │ 4189 │ 4213 │ 0.994303 │\n",
      "│ 865  │ 86500  │ 4194 │ 4216 │ 0.994782 │\n",
      "│ 866  │ 86600  │ 4199 │ 4221 │ 0.994788 │\n",
      "│ 867  │ 86700  │ 4203 │ 4222 │ 0.9955   │\n",
      "│ 868  │ 86800  │ 4205 │ 4228 │ 0.99456  │\n",
      "│ 869  │ 86900  │ 4210 │ 4230 │ 0.995272 │\n",
      "│ 870  │ 87000  │ 4214 │ 4235 │ 0.995041 │\n",
      "│ 871  │ 87100  │ 4218 │ 4238 │ 0.995281 │\n",
      "│ 872  │ 87200  │ 4222 │ 4244 │ 0.994816 │\n",
      "│ 873  │ 87300  │ 4228 │ 4248 │ 0.995292 │\n",
      "│ 874  │ 87400  │ 4231 │ 4251 │ 0.995295 │\n",
      "│ 875  │ 87500  │ 4235 │ 4256 │ 0.995066 │\n",
      "│ 876  │ 87600  │ 4241 │ 4263 │ 0.994839 │\n",
      "│ 877  │ 87700  │ 4246 │ 4270 │ 0.994379 │\n",
      "│ 878  │ 87800  │ 4250 │ 4275 │ 0.994152 │\n",
      "│ 879  │ 87900  │ 4255 │ 4278 │ 0.994624 │\n",
      "│ 880  │ 88000  │ 4259 │ 4283 │ 0.994396 │\n",
      "│ 881  │ 88100  │ 4263 │ 4287 │ 0.994402 │\n",
      "│ 882  │ 88200  │ 4267 │ 4287 │ 0.995335 │\n",
      "│ 883  │ 88300  │ 4271 │ 4290 │ 0.995571 │\n",
      "│ 884  │ 88400  │ 4275 │ 4293 │ 0.995807 │\n",
      "│ 885  │ 88500  │ 4277 │ 4299 │ 0.994883 │\n",
      "│ 886  │ 88600  │ 4279 │ 4302 │ 0.994654 │\n",
      "│ 887  │ 88700  │ 4283 │ 4307 │ 0.994428 │\n",
      "│ 888  │ 88800  │ 4288 │ 4310 │ 0.994896 │\n",
      "│ 889  │ 88900  │ 4295 │ 4316 │ 0.995134 │\n",
      "│ 890  │ 89000  │ 4299 │ 4319 │ 0.995369 │\n",
      "│ 891  │ 89100  │ 4305 │ 4324 │ 0.995606 │\n",
      "│ 892  │ 89200  │ 4310 │ 4327 │ 0.996071 │\n",
      "│ 893  │ 89300  │ 4317 │ 4330 │ 0.996998 │\n",
      "│ 894  │ 89400  │ 4321 │ 4335 │ 0.99677  │\n",
      "│ 895  │ 89500  │ 4325 │ 4339 │ 0.996773 │\n",
      "│ 896  │ 89600  │ 4331 │ 4345 │ 0.996778 │\n",
      "│ 897  │ 89700  │ 4337 │ 4350 │ 0.997011 │\n",
      "│ 898  │ 89800  │ 4339 │ 4354 │ 0.996555 │\n",
      "│ 899  │ 89900  │ 4344 │ 4359 │ 0.996559 │\n",
      "│ 900  │ 90000  │ 4348 │ 4364 │ 0.996334 │\n",
      "│ 901  │ 90100  │ 4353 │ 4372 │ 0.995654 │\n",
      "│ 902  │ 90200  │ 4357 │ 4378 │ 0.995203 │\n",
      "│ 903  │ 90300  │ 4360 │ 4384 │ 0.994526 │\n",
      "│ 904  │ 90400  │ 4364 │ 4387 │ 0.994757 │\n",
      "│ 905  │ 90500  │ 4369 │ 4391 │ 0.99499  │\n",
      "│ 906  │ 90600  │ 4371 │ 4397 │ 0.994087 │\n",
      "│ 907  │ 90700  │ 4375 │ 4402 │ 0.993866 │\n",
      "│ 908  │ 90800  │ 4378 │ 4405 │ 0.993871 │\n",
      "│ 909  │ 90900  │ 4381 │ 4410 │ 0.993424 │\n",
      "│ 910  │ 91000  │ 4386 │ 4415 │ 0.993431 │\n",
      "│ 911  │ 91100  │ 4390 │ 4418 │ 0.993662 │\n",
      "│ 912  │ 91200  │ 4395 │ 4425 │ 0.99322  │\n",
      "│ 913  │ 91300  │ 4400 │ 4428 │ 0.993677 │\n",
      "│ 914  │ 91400  │ 4406 │ 4432 │ 0.994134 │\n",
      "│ 915  │ 91500  │ 4410 │ 4437 │ 0.993915 │\n",
      "│ 916  │ 91600  │ 4415 │ 4440 │ 0.994369 │\n",
      "│ 917  │ 91700  │ 4417 │ 4443 │ 0.994148 │\n",
      "│ 918  │ 91800  │ 4421 │ 4446 │ 0.994377 │\n",
      "│ 919  │ 91900  │ 4426 │ 4450 │ 0.994607 │\n",
      "│ 920  │ 92000  │ 4432 │ 4454 │ 0.995061 │\n",
      "│ 921  │ 92100  │ 4436 │ 4457 │ 0.995288 │\n",
      "│ 922  │ 92200  │ 4440 │ 4462 │ 0.995069 │\n",
      "│ 923  │ 92300  │ 4445 │ 4467 │ 0.995075 │\n",
      "│ 924  │ 92400  │ 4452 │ 4473 │ 0.995305 │\n",
      "│ 925  │ 92500  │ 4456 │ 4478 │ 0.995087 │\n",
      "│ 926  │ 92600  │ 4460 │ 4482 │ 0.995091 │\n",
      "│ 927  │ 92700  │ 4465 │ 4489 │ 0.994654 │\n",
      "│ 928  │ 92800  │ 4470 │ 4494 │ 0.99466  │\n",
      "│ 929  │ 92900  │ 4477 │ 4498 │ 0.995331 │\n",
      "│ 930  │ 93000  │ 4481 │ 4502 │ 0.995335 │\n",
      "│ 931  │ 93100  │ 4486 │ 4505 │ 0.995782 │\n",
      "│ 932  │ 93200  │ 4489 │ 4512 │ 0.994902 │\n",
      "│ 933  │ 93300  │ 4494 │ 4517 │ 0.994908 │\n",
      "│ 934  │ 93400  │ 4497 │ 4522 │ 0.994471 │\n",
      "│ 935  │ 93500  │ 4500 │ 4529 │ 0.993597 │\n",
      "│ 936  │ 93600  │ 4504 │ 4533 │ 0.993602 │\n",
      "│ 937  │ 93700  │ 4507 │ 4535 │ 0.993826 │\n",
      "│ 938  │ 93800  │ 4509 │ 4540 │ 0.993172 │\n",
      "│ 939  │ 93900  │ 4512 │ 4545 │ 0.992739 │\n",
      "│ 940  │ 94000  │ 4518 │ 4551 │ 0.992749 │\n",
      "│ 941  │ 94100  │ 4522 │ 4555 │ 0.992755 │\n",
      "│ 942  │ 94200  │ 4527 │ 4557 │ 0.993417 │\n",
      "│ 943  │ 94300  │ 4532 │ 4560 │ 0.99386  │\n",
      "│ 944  │ 94400  │ 4536 │ 4567 │ 0.993212 │\n",
      "│ 945  │ 94500  │ 4540 │ 4572 │ 0.993001 │\n",
      "│ 946  │ 94600  │ 4546 │ 4577 │ 0.993227 │\n",
      "│ 947  │ 94700  │ 4550 │ 4580 │ 0.99345  │\n",
      "│ 948  │ 94800  │ 4555 │ 4584 │ 0.993674 │\n",
      "│ 949  │ 94900  │ 4560 │ 4588 │ 0.993897 │\n",
      "│ 950  │ 95000  │ 4564 │ 4592 │ 0.993902 │\n",
      "│ 951  │ 95100  │ 4568 │ 4598 │ 0.993475 │\n",
      "│ 952  │ 95200  │ 4572 │ 4603 │ 0.993265 │\n",
      "│ 953  │ 95300  │ 4577 │ 4610 │ 0.992842 │\n",
      "│ 954  │ 95400  │ 4580 │ 4614 │ 0.992631 │\n",
      "│ 955  │ 95500  │ 4585 │ 4620 │ 0.992424 │\n",
      "│ 956  │ 95600  │ 4590 │ 4624 │ 0.992647 │\n",
      "│ 957  │ 95700  │ 4594 │ 4626 │ 0.993083 │\n",
      "│ 958  │ 95800  │ 4600 │ 4632 │ 0.993092 │\n",
      "│ 959  │ 95900  │ 4606 │ 4635 │ 0.993743 │\n",
      "│ 960  │ 96000  │ 4610 │ 4641 │ 0.99332  │\n",
      "│ 961  │ 96100  │ 4615 │ 4644 │ 0.993755 │\n",
      "│ 962  │ 96200  │ 4619 │ 4647 │ 0.993975 │\n",
      "│ 963  │ 96300  │ 4625 │ 4651 │ 0.99441  │\n",
      "│ 964  │ 96400  │ 4629 │ 4653 │ 0.994842 │\n",
      "│ 965  │ 96500  │ 4635 │ 4659 │ 0.994849 │\n",
      "│ 966  │ 96600  │ 4640 │ 4661 │ 0.995495 │\n",
      "│ 967  │ 96700  │ 4643 │ 4664 │ 0.995497 │\n",
      "│ 968  │ 96800  │ 4648 │ 4671 │ 0.995076 │\n",
      "│ 969  │ 96900  │ 4651 │ 4675 │ 0.994866 │\n",
      "│ 970  │ 97000  │ 4655 │ 4680 │ 0.994658 │\n",
      "│ 971  │ 97100  │ 4659 │ 4683 │ 0.994875 │\n",
      "│ 972  │ 97200  │ 4663 │ 4689 │ 0.994455 │\n",
      "│ 973  │ 97300  │ 4665 │ 4692 │ 0.994246 │\n",
      "│ 974  │ 97400  │ 4670 │ 4697 │ 0.994252 │\n",
      "│ 975  │ 97500  │ 4673 │ 4701 │ 0.994044 │\n",
      "│ 976  │ 97600  │ 4678 │ 4707 │ 0.993839 │\n",
      "│ 977  │ 97700  │ 4682 │ 4710 │ 0.994055 │\n",
      "│ 978  │ 97800  │ 4685 │ 4713 │ 0.994059 │\n",
      "│ 979  │ 97900  │ 4690 │ 4719 │ 0.993855 │\n",
      "│ 980  │ 98000  │ 4692 │ 4725 │ 0.993016 │\n",
      "│ 981  │ 98100  │ 4697 │ 4727 │ 0.993653 │\n",
      "│ 982  │ 98200  │ 4699 │ 4730 │ 0.993446 │\n"
     ]
    },
    {
     "name": "stdout",
     "output_type": "stream",
     "text": [
      "│ 983  │ 98300  │ 4704 │ 4734 │ 0.993663 │\n",
      "│ 984  │ 98400  │ 4709 │ 4738 │ 0.993879 │\n",
      "│ 985  │ 98500  │ 4712 │ 4746 │ 0.992836 │\n",
      "│ 986  │ 98600  │ 4716 │ 4750 │ 0.992842 │\n",
      "│ 987  │ 98700  │ 4720 │ 4753 │ 0.993057 │\n",
      "│ 988  │ 98800  │ 4725 │ 4756 │ 0.993482 │\n",
      "│ 989  │ 98900  │ 4733 │ 4760 │ 0.994328 │\n",
      "│ 990  │ 99000  │ 4738 │ 4766 │ 0.994125 │\n",
      "│ 991  │ 99100  │ 4743 │ 4769 │ 0.994548 │\n",
      "│ 992  │ 99200  │ 4749 │ 4774 │ 0.994763 │\n",
      "│ 993  │ 99300  │ 4754 │ 4777 │ 0.995185 │\n",
      "│ 994  │ 99400  │ 4758 │ 4781 │ 0.995189 │\n",
      "│ 995  │ 99500  │ 4762 │ 4784 │ 0.995401 │\n",
      "│ 996  │ 99600  │ 4765 │ 4790 │ 0.994781 │\n",
      "│ 997  │ 99700  │ 4767 │ 4796 │ 0.993953 │\n",
      "│ 998  │ 99800  │ 4773 │ 4800 │ 0.994375 │\n",
      "│ 999  │ 99900  │ 4779 │ 4804 │ 0.994796 │\n",
      "│ 1000 │ 100000 │ 4783 │ 4808 │ 0.9948   │  3.118052 seconds (4.21 M allocations: 789.236 MiB, 4.15% gc time)\n"
     ]
    }
   ],
   "source": [
    "function exercicio12()\n",
    "    Π1 = []\n",
    "    Π3 = []\n",
    "    ΠDiv = []\n",
    "    values = []\n",
    "    for num = 100:100:10^5\n",
    "        π1, π3 = exercicio12(num)\n",
    "        push!(values,num)\n",
    "        push!(Π1,π1)\n",
    "        push!(Π3,π3)\n",
    "        push!(ΠDiv,π1/π3)\n",
    "    end\n",
    "    showall(DataFrame(value = values, Π1 = Π1, Π3 = Π3, ΠDiv = ΠDiv))\n",
    "end\n",
    "@time exercicio12()"
   ]
  },
  {
   "cell_type": "markdown",
   "metadata": {},
   "source": [
    "**Sim**, os valores condizem."
   ]
  },
  {
   "cell_type": "markdown",
   "metadata": {},
   "source": [
    "## Exercício 13\n",
    "\n",
    "Adapte o programa elaborado no exercício anterior para determinar o menor valor inteiro de $x$ para o qual $\\pi_1(x) > \\pi_3(x)$. \n",
    "\n",
    "O exame da evidência experimental entõ disponível leou alguns matemáticos do começo do século \\[sic: passado\\] à conclusão de que, exceto para alguns valores relativamente pequenos de $x$, a desigualdade $\\pi_1(x) < \\pi_3(x)$ seria sempre verdadeira. A verdade emergiu em 1914, quando o matemático J. E. Littlewood mostrou que existem sequências infinitas $$x_1,x_2,\\dots \\ \\mbox{e}\\ y_1,y_2,\\dots$$ de números reais positivos, tais que $$\\lim_{i\\rightarrow \\infty} (\\pi_1(x_i) -\\pi_3(x_i)) = \\infty \\ \\mbox{e}\\ \\lim_{i\\rightarrow \\infty} (\\pi_1(y_i) -\\pi_3(y_i)) = -\\infty.$$\n",
    "\n",
    "A moral é óbvia: é sempre muito perigoso generalizar a partir de dados numéricos, mesmo quando a quantidade de dados disponíveis é muito grande."
   ]
  },
  {
   "cell_type": "code",
   "execution_count": 39,
   "metadata": {},
   "outputs": [
    {
     "data": {
      "text/plain": [
       "exercicio13 (generic function with 1 method)"
      ]
     },
     "execution_count": 39,
     "metadata": {},
     "output_type": "execute_result"
    }
   ],
   "source": [
    "function exercicio13()\n",
    "    x = 1\n",
    "    π1, π3 = exercicio12(x) #\n",
    "    while π1 <= π3\n",
    "        x += 1\n",
    "        π1, π3 = exercicio12(x)\n",
    "    end\n",
    "    return x\n",
    "end"
   ]
  },
  {
   "cell_type": "code",
   "execution_count": 40,
   "metadata": {},
   "outputs": [
    {
     "name": "stdout",
     "output_type": "stream",
     "text": [
      "  6.203362 seconds (882.60 k allocations: 4.435 GiB, 5.01% gc time)\n"
     ]
    },
    {
     "data": {
      "text/plain": [
       "26861"
      ]
     },
     "execution_count": 40,
     "metadata": {},
     "output_type": "execute_result"
    }
   ],
   "source": [
    "@time exercicio13()"
   ]
  },
  {
   "cell_type": "markdown",
   "metadata": {},
   "source": [
    "# Capítulo 4\n",
    "\n",
    "## Exercício 11\n",
    "\n",
    "Escreva um programa que implemente o algoritmo para calcular potências módulo $n$ que é descrito na seção 2 do apêndice. O algoritmo deverá ter como entrada $a$, $k$ e $n$, onde $a$ é um inteiro qualquer $k$ e $n$ são inteiros positivos. A saída deverá ser a forma reduzida de $a^k$ módulo $n$. Este algoritmo é uma parte fundamental de quase todos os algoritmos que estudaremos a partir do capítulo 6.\n",
    "\n",
    "### Algoritmo de exponenciação:\n",
    "\n",
    "**Entrada:** *Inteiros $a$, $e$ e $n$, $n>0$ e $e\\geq 0$*\n",
    "**Saída:**  *a forma reduzida de $a^e$ módulo $n$.*\n",
    "\n",
    "**Etapa 1:** *Comece com $A=a$, $P=1$ e $E=e$.* \n",
    "\n",
    "**Etapa 2:** *Se $E=0$ imprime '$a^e\\equiv P\\ (\\mbox{mod}\\ n)$'; se não vai para Etapa 3;*\n",
    "\n",
    "**Etapa 3:** *Se $E$ for ímpar então atribua a $P$ o valor do resto da divisão de $A\\cdot P$ por $n$ e a $E$ o valor $\\frac{E-1}{2}$ e vá para a Etapa 5, se não vá para a Etapa 4;*\n",
    "\n",
    "**Etapa 4:** *Se $E$ for par então atribua a $E$ o valor $\\frac{E}{2}$ e vá para a Etapa 5.*\n",
    "\n",
    "**Etapa 5:** *Substitua o valor atual de $A$ pelo resto da divisão de $A^2$ por $n$ e vá para a Etapa 2.*\n"
   ]
  },
  {
   "cell_type": "code",
   "execution_count": 41,
   "metadata": {},
   "outputs": [
    {
     "data": {
      "text/plain": [
       "verifica_pos (generic function with 1 method)"
      ]
     },
     "execution_count": 41,
     "metadata": {},
     "output_type": "execute_result"
    }
   ],
   "source": [
    "function exercicio11(a,e,n) ##feito puramente funcional :P\n",
    "    return verifica_pos(etapa2(a,1,e,n),n)\n",
    "end\n",
    "\n",
    "function etapa2(A,P,E,n)\n",
    "    if E==0\n",
    "        return P\n",
    "    else\n",
    "        return etapa3(A,P,E,n)\n",
    "    end\n",
    "end   \n",
    "\n",
    "function etapa3(A,P,E,n)\n",
    "    if E%2 == 1\n",
    "        return etapa5(A,(A * P) % n,(E-1)/2,n)\n",
    "    else\n",
    "        return etapa4(A,P,E,n)\n",
    "    end\n",
    "end\n",
    "\n",
    "function etapa4(A,P,E,n)\n",
    "    if E%2 == 0  ##eu acho este passo muito estranho, mas o pseudo-código do livro pediu pra fazer assim e assim o fiz\n",
    "        return etapa5(A,P,E/2,n)\n",
    "    end\n",
    "end\n",
    "\n",
    "function etapa5(A,P,E,n)\n",
    "    return etapa2(A^2 % n, P, E, n)\n",
    "end\n",
    "\n",
    "function verifica_pos(a,n) #função que garante que apenas iremos retornar resultados positivos\n",
    "    if a>=0\n",
    "        return a % n\n",
    "    else #se for negativo\n",
    "        return (n+a) % n #retorna o correspondente positivo\n",
    "    end\n",
    "end"
   ]
  },
  {
   "cell_type": "code",
   "execution_count": 42,
   "metadata": {},
   "outputs": [
    {
     "data": {
      "text/plain": [
       "6"
      ]
     },
     "execution_count": 42,
     "metadata": {},
     "output_type": "execute_result"
    }
   ],
   "source": [
    "exercicio11(10,135,7) ##na pagina 79 do livro temos que esse valor é 6"
   ]
  },
  {
   "cell_type": "code",
   "execution_count": 43,
   "metadata": {},
   "outputs": [
    {
     "data": {
      "text/plain": [
       "8"
      ]
     },
     "execution_count": 43,
     "metadata": {},
     "output_type": "execute_result"
    }
   ],
   "source": [
    "exercicio11(5,3,13) ##retirado da Wikipedia, espera-se 8"
   ]
  },
  {
   "cell_type": "code",
   "execution_count": 44,
   "metadata": {},
   "outputs": [
    {
     "name": "stdout",
     "output_type": "stream",
     "text": [
      "  0.000005 seconds (4 allocations: 160 bytes)\n"
     ]
    },
    {
     "data": {
      "text/plain": [
       "445"
      ]
     },
     "execution_count": 44,
     "metadata": {},
     "output_type": "execute_result"
    }
   ],
   "source": [
    "@time exercicio11(4,13,497) ##tambem retirado da Wikipedia, espera-se 445"
   ]
  },
  {
   "cell_type": "markdown",
   "metadata": {},
   "source": [
    "# Capítulo 5\n",
    "\n",
    "## Exercício 16\n",
    "\n",
    "Use o exercício 14 para escrever um programa que, tendo como entrada $a$ e $p$, calcula o inverso de $a$ módulo $p$. Por segurança faça seu programa verificar primeiro que $p$ *realmente* não divide $a$. Use isto para escrever um outro programa que determine a solução de $ax\\equiv b\\ (\\mbox{mod}\\ p)$, dada as entradas $a$, $b$ e $p$.\n",
    "\n",
    "#### Exercício 14\n",
    "\n",
    "Seja $p$ um número primo e $a$ um inteiro que não é divisível por $p$. Mostre que o invero de $\\bar{a}$ em $\\mathbb{Z}_p$ é $\\bar{a}^{p-2}$."
   ]
  },
  {
   "cell_type": "code",
   "execution_count": 45,
   "metadata": {},
   "outputs": [
    {
     "data": {
      "text/plain": [
       "inverso (generic function with 1 method)"
      ]
     },
     "execution_count": 45,
     "metadata": {},
     "output_type": "execute_result"
    }
   ],
   "source": [
    "function inverso(a,p)\n",
    "    if p in erastotenes(p) && a % p != 0  ##verifica se p é primo e se p não divide a\n",
    "        return ((a % p)^(p-2) % p)\n",
    "    else\n",
    "        throw(ArgumentError)\n",
    "    end\n",
    "end"
   ]
  },
  {
   "cell_type": "code",
   "execution_count": 46,
   "metadata": {},
   "outputs": [
    {
     "data": {
      "text/plain": [
       "3"
      ]
     },
     "execution_count": 46,
     "metadata": {},
     "output_type": "execute_result"
    }
   ],
   "source": [
    "inverso(2,5) #esperamos que seja 3"
   ]
  },
  {
   "cell_type": "markdown",
   "metadata": {},
   "source": [
    "Note que $x\\equiv ba^{-1}\\ (\\mbox{mod}\\ p)$. Isso é tudo que precisamos"
   ]
  },
  {
   "cell_type": "code",
   "execution_count": 47,
   "metadata": {},
   "outputs": [
    {
     "data": {
      "text/plain": [
       "exercicio16 (generic function with 1 method)"
      ]
     },
     "execution_count": 47,
     "metadata": {},
     "output_type": "execute_result"
    }
   ],
   "source": [
    "exercicio16(a,b,p) = (b * inverso(a,p)) % p"
   ]
  },
  {
   "cell_type": "markdown",
   "metadata": {},
   "source": [
    "Vamos testar nosso programa para $8x \\equiv 3\\ (\\mbox{mod}\\ 7)$. Esperamos que $x = 3$, porque $8\\equiv 1\\ (\\mbox{mod}\\ 7)$."
   ]
  },
  {
   "cell_type": "code",
   "execution_count": 48,
   "metadata": {},
   "outputs": [
    {
     "name": "stdout",
     "output_type": "stream",
     "text": [
      "  0.006385 seconds (1.19 k allocations: 65.152 KiB)\n"
     ]
    },
    {
     "data": {
      "text/plain": [
       "3"
      ]
     },
     "execution_count": 48,
     "metadata": {},
     "output_type": "execute_result"
    }
   ],
   "source": [
    "@time exercicio16(8,3,7)"
   ]
  },
  {
   "cell_type": "markdown",
   "metadata": {},
   "source": [
    "# Exercício 17\n",
    "\n",
    "Seja $p = 4k+3$ um primo positivo. Escreva um programa que, tendo por entrada $p$ e um inteiro positivo $a$, calcula as duas soluções de $x^2\\equiv a\\ (\\mbox{mod}\\ p)$. Observe que sabemos do exercício 15 que *se esta equação tem solução* $b$ então $b \\equiv a^{k+1}\\ (\\mbox{mod}\\ p)$. Assim o programa deve calcular a forma reduzida de $a^{k+1}$ módulo $p$ e, em seguida, verificar se, de fato, esta é uma solução da equação dada. A saída será constituída pelas soluções da equação, ou por uma mensagem indicando que a equação dada não tem solução. Este exercício é o segundo de uma sequência que termna com o exercício 8 do capítulo 11."
   ]
  },
  {
   "cell_type": "code",
   "execution_count": 49,
   "metadata": {},
   "outputs": [
    {
     "data": {
      "text/plain": [
       "exercicio17 (generic function with 1 method)"
      ]
     },
     "execution_count": 49,
     "metadata": {},
     "output_type": "execute_result"
    }
   ],
   "source": [
    "function extrai_k(p)\n",
    "    if p in erastotenes(p) && p % 4 == 3 #se é primo e de fato da forma 4k+3\n",
    "        return (p-3)/4\n",
    "    else\n",
    "        throw(ArgumentError)\n",
    "    end\n",
    "end\n",
    "\n",
    "function exercicio17(a,p)\n",
    "    b = a^(extrai_k(p)+1) % p\n",
    "    if b^2 % p == a\n",
    "        return (b,-b)\n",
    "    else\n",
    "        return \"Não tem solução\"\n",
    "    end\n",
    "end"
   ]
  },
  {
   "cell_type": "markdown",
   "metadata": {},
   "source": [
    "Vamos testar com $x^2 \\equiv 9\\ (\\mbox{mod}\\ 11)$ que sabemos que tem que ser igual a $\\pm 3$."
   ]
  },
  {
   "cell_type": "code",
   "execution_count": 50,
   "metadata": {},
   "outputs": [
    {
     "name": "stdout",
     "output_type": "stream",
     "text": [
      "  0.033080 seconds (26.58 k allocations: 1.363 MiB)\n"
     ]
    },
    {
     "data": {
      "text/plain": [
       "(3.0, -3.0)"
      ]
     },
     "execution_count": 50,
     "metadata": {},
     "output_type": "execute_result"
    }
   ],
   "source": [
    "@time exercicio17(9,11)"
   ]
  },
  {
   "cell_type": "markdown",
   "metadata": {},
   "source": [
    "## Exercício 18\n",
    "\n",
    "Vários problemas da Teoria dos Números (como o Último Teorema de Fermat) requerem primos $p$ que satisfaçam a congruência $$a^{p-1} \\equiv 1\\ (\\mbox{mod}\\ p^2)$$ para algum inteiro $a$. Escreva um programa que, tendo por entrada dois inteiros positivos $a>1$ e $r$, determina os primos $p$ que satisfaçam a congruência acima e tais que $a+1\\leq p \\leq r$. Observe que o programa terá que aplicar o crivo de Eratóstenes para achar os primos menos ou iguais a $r$. Estes primos serão então testados na congruência acima. Se $r=10^5$ então o número de primos satisfazendo a congruência é dois quando $a=2,\\ 5,\\ 10$ e $14$; e cinco quando $a=19$, por exemplo."
   ]
  },
  {
   "cell_type": "code",
   "execution_count": 51,
   "metadata": {},
   "outputs": [
    {
     "data": {
      "text/plain": [
       "exercicio18 (generic function with 1 method)"
      ]
     },
     "execution_count": 51,
     "metadata": {},
     "output_type": "execute_result"
    }
   ],
   "source": [
    "## também feito puramente funcional :P\n",
    "## a gente filta o erastotenes com uma expressão lambda (x) -> a+1 <= x\n",
    "## também usamos a função exercício11 que serve para realizar a exponenciação de a^e (mod n).\n",
    "exercicio18(a,r) = [p for p in filter((x) -> a+1 <= x , erastotenes(r)) if exercicio11(a,p-1,p^2) == 1] "
   ]
  },
  {
   "cell_type": "code",
   "execution_count": 52,
   "metadata": {},
   "outputs": [
    {
     "name": "stdout",
     "output_type": "stream",
     "text": [
      "  0.090082 seconds (101.07 k allocations: 6.098 MiB)\n"
     ]
    },
    {
     "data": {
      "text/plain": [
       "2-element Array{Int64,1}:\n",
       " 20771\n",
       " 40487"
      ]
     },
     "execution_count": 52,
     "metadata": {},
     "output_type": "execute_result"
    }
   ],
   "source": [
    "@time exercicio18(5,10^5)"
   ]
  },
  {
   "cell_type": "code",
   "execution_count": 53,
   "metadata": {},
   "outputs": [
    {
     "name": "stdout",
     "output_type": "stream",
     "text": [
      "  0.018912 seconds (44 allocations: 1.265 MiB)\n"
     ]
    },
    {
     "data": {
      "text/plain": [
       "1-element Array{Int64,1}:\n",
       " 487"
      ]
     },
     "execution_count": 53,
     "metadata": {},
     "output_type": "execute_result"
    }
   ],
   "source": [
    "@time exercicio18(10, 10^5) #TODO nao sei porque não funciona"
   ]
  },
  {
   "cell_type": "code",
   "execution_count": 54,
   "metadata": {},
   "outputs": [
    {
     "name": "stdout",
     "output_type": "stream",
     "text": [
      "  0.019080 seconds (44 allocations: 1.265 MiB)\n"
     ]
    },
    {
     "data": {
      "text/plain": [
       "2-element Array{Int64,1}:\n",
       "  29\n",
       " 353"
      ]
     },
     "execution_count": 54,
     "metadata": {},
     "output_type": "execute_result"
    }
   ],
   "source": [
    "@time exercicio18(14, 10^5)"
   ]
  },
  {
   "cell_type": "code",
   "execution_count": 55,
   "metadata": {},
   "outputs": [
    {
     "name": "stdout",
     "output_type": "stream",
     "text": [
      "  0.017976 seconds (44 allocations: 1.265 MiB)\n"
     ]
    },
    {
     "data": {
      "text/plain": [
       "2-element Array{Int64,1}:\n",
       "  43\n",
       " 137"
      ]
     },
     "execution_count": 55,
     "metadata": {},
     "output_type": "execute_result"
    }
   ],
   "source": [
    "@time exercicio18(19,10^5) ##TODO não sei porque não funciona"
   ]
  },
  {
   "cell_type": "markdown",
   "metadata": {},
   "source": [
    "Eu implementei em Python também, usando um Crivo de Eratóstenes que peguei no Rosetta Code (tentei adaptar o que escrevi aqui, mas o Python tilta na recursão) e usando a função pow do Python. Deu os mesmos resultados. Então não sei o que está pegando."
   ]
  },
  {
   "cell_type": "markdown",
   "metadata": {},
   "source": [
    "# Capitulo 6\n",
    "\n",
    "## Exercício 8\n",
    "\n",
    "Escreva um programa que, tendo como entrada um inteiro positivo $r$, determina todos os números entre $1$ e $r$ que sao pseudoprimos para as bases $2$ e $3$. Lembre-se que tal pseudoprimo $n$ é um número *ímpar* e *composto* que satisfaz as equações $$2^{n-1}\\equiv 1\\ (\\mbox{mod}\\ n)\\ \\mbox{e}\\ 3^{n-1}\\equiv 1\\ (\\mbox{mod}\\ n).$$\n",
    "\n",
    "Portanto o programa só precisa testar os números ímpares e além destas congruências, tem que verificar se os números obtidos são primos ou não. Uma maneira de fazer isso é programar o Crivo de Eratóstenes de modo a conservar a lista dos ímpares compostos, em vez dos primos e depois testar as congruências. Aplique o programa  com $r=10^5$. Quantos e quais foram os pseudoprimos obtidos? Quantos destes são números de Carmichael?"
   ]
  },
  {
   "cell_type": "code",
   "execution_count": 56,
   "metadata": {},
   "outputs": [
    {
     "data": {
      "text/plain": [
       "e_pseudoprimo (generic function with 1 method)"
      ]
     },
     "execution_count": 56,
     "metadata": {},
     "output_type": "execute_result"
    }
   ],
   "source": [
    "function e_pseudoprimo(num,base, primos)\n",
    "    if !(num in primos && num % 2 == 1)\n",
    "        return exercicio11(base,num-1,num)==1\n",
    "    else\n",
    "        return false\n",
    "    end\n",
    "end"
   ]
  },
  {
   "cell_type": "code",
   "execution_count": 57,
   "metadata": {},
   "outputs": [
    {
     "data": {
      "text/plain": [
       "e_carmichael (generic function with 1 method)"
      ]
     },
     "execution_count": 57,
     "metadata": {},
     "output_type": "execute_result"
    }
   ],
   "source": [
    "function e_carmichael(n)\n",
    "    if n in [1,2,3]\n",
    "        return false\n",
    "    end\n",
    "    if n%2 == 1 && !(n in erastotenes(n))\n",
    "        return reduce((x,y)-> x && y, [exercicio11(b,n,n) == b for b=2:(n-2)])\n",
    "    else\n",
    "        return false\n",
    "    end\n",
    "end"
   ]
  },
  {
   "cell_type": "code",
   "execution_count": 58,
   "metadata": {},
   "outputs": [
    {
     "data": {
      "text/plain": [
       "false"
      ]
     },
     "execution_count": 58,
     "metadata": {},
     "output_type": "execute_result"
    }
   ],
   "source": [
    "e_carmichael(559)"
   ]
  },
  {
   "cell_type": "code",
   "execution_count": 59,
   "metadata": {},
   "outputs": [
    {
     "data": {
      "text/plain": [
       "1-element Array{Int64,1}:\n",
       " 561"
      ]
     },
     "execution_count": 59,
     "metadata": {},
     "output_type": "execute_result"
    }
   ],
   "source": [
    "[num for num=1:600 if e_carmichael(num)] ##todos números carmichael até 600"
   ]
  },
  {
   "cell_type": "code",
   "execution_count": 60,
   "metadata": {},
   "outputs": [
    {
     "data": {
      "text/plain": [
       "exercicio8 (generic function with 1 method)"
      ]
     },
     "execution_count": 60,
     "metadata": {},
     "output_type": "execute_result"
    }
   ],
   "source": [
    "function exercicio8(r) \n",
    "    primos = erastotenes(r)\n",
    "    return [n for n=1:2:r if e_pseudoprimo(n,2,primos) && e_pseudoprimo(n,3,primos)]\n",
    "end"
   ]
  },
  {
   "cell_type": "code",
   "execution_count": 61,
   "metadata": {},
   "outputs": [
    {
     "name": "stdout",
     "output_type": "stream",
     "text": [
      "  0.520491 seconds (102.72 k allocations: 5.996 MiB)\n"
     ]
    },
    {
     "data": {
      "text/plain": [
       "23-element Array{Int64,1}:\n",
       "  1105\n",
       "  1729\n",
       "  2465\n",
       "  2701\n",
       "  2821\n",
       "  6601\n",
       "  8911\n",
       " 10585\n",
       " 15841\n",
       " 18721\n",
       " 29341\n",
       " 31621\n",
       " 41041\n",
       " 46657\n",
       " 49141\n",
       " 52633\n",
       " 63973\n",
       " 75361\n",
       " 83333\n",
       " 83665\n",
       " 88561\n",
       " 90751\n",
       " 93961"
      ]
     },
     "execution_count": 61,
     "metadata": {},
     "output_type": "execute_result"
    }
   ],
   "source": [
    "@time lista = exercicio8(10^5)"
   ]
  },
  {
   "cell_type": "code",
   "execution_count": 62,
   "metadata": {},
   "outputs": [
    {
     "name": "stdout",
     "output_type": "stream",
     "text": [
      "Foram 23 pseudoprimos obtidos"
     ]
    }
   ],
   "source": [
    "print(\"Foram \" * string(size(lista)[1]) * \" pseudoprimos obtidos\")"
   ]
  },
  {
   "cell_type": "code",
   "execution_count": 63,
   "metadata": {},
   "outputs": [
    {
     "name": "stdout",
     "output_type": "stream",
     "text": [
      "Temos 14 números de Carmichael"
     ]
    }
   ],
   "source": [
    "print(\"Temos \" * string(size(filter((x)->e_carmichael(x),lista))[1]) * \" números de Carmichael\")"
   ]
  },
  {
   "cell_type": "markdown",
   "metadata": {},
   "source": [
    "## Exercício 9\n",
    "\n",
    "O objetivo deste exercício é a elaboração de um programa para determinar todos os números de Carmichael que são produtos de $d$ primos, todos menores que $10^3$. O principal problema é que, mesmo para valores relativamente pequenos de de $d$, alguns dos números de Carmichael obtidos podem ser bem grandes. Isto torna difícil verificar que $p-1$ divide $n-1$, quando $p$ é um fator primo de $n$. Mas é fácil contornar este problema usando congruências. Digamos que o programa gerou o número $n = p_1p_2\\dots p_d$. Precisamos verificar se $n-1$ é ou não divisível por $p_1-1$, por exemplo. Como $n$ aparece fatorado, você pode multiplicar os fatores um de cada vez e ir reduzindo módulo $p_1-1$ a cada produto, de modo a manter o resultado pequeno. Como os fatores são menores que $10^3$ isto vai ser muito rápido de executar. Aplique o seu programa para $d=1,\\dots,8$. Quais números de Carmichael obtidos em cada caso? Não é necessário multiplicar os fatores para obter o número, basta que o programa liste os fatores."
   ]
  },
  {
   "cell_type": "code",
   "execution_count": 64,
   "metadata": {},
   "outputs": [],
   "source": [
    "#function is_carmichael(primefaclist, counter = 1)\n",
    "#    if counter == size(primefaclist)[1] + 1\n",
    "#        return true\n",
    "#    else\n",
    "#        if ((reduce((x,y)->(x*y) % (primefaclist[counter]-1),primefaclist) - 1) % (primefaclist[counter]-1)) != 0\n",
    "#            return false\n",
    "#        else\n",
    "#            return is_carmichael(primefaclist,counter+1)\n",
    "#        end\n",
    "#    end\n",
    "#end\n",
    "#\n",
    "#,\n",
    "#function carmichael_d_primos(d, primos)\n",
    "#    if d == 1 || d == 2\n",
    "#        return []\n",
    "#    else\n",
    "#        return [n for n in Combinatorics.Combinations(primos[2:end],d) if is_carmichael(n)]\n",
    "#    end\n",
    "#end"
   ]
  },
  {
   "cell_type": "code",
   "execution_count": 65,
   "metadata": {},
   "outputs": [],
   "source": [
    "#function cap6exercicio9()\n",
    "#    prims = erastotenes(10^3)\n",
    "#    ANS = [carmichael_d_primos(d,prims[2:end]) for d in 1:8]\n",
    "#    for x in enumerate(ANS)\n",
    "#        print(\"Números d\")\n",
    "#        print(x)\n",
    "#    end\n",
    "#end\n",
    "#@time cap6exercicio9()"
   ]
  },
  {
   "cell_type": "code",
   "execution_count": 66,
   "metadata": {},
   "outputs": [],
   "source": [
    "#function list_carmichael(primos, prev=[], prev_p1=[])\n",
    "#    if size(prev)[1] >= 8\n",
    "#        return prev\n",
    "#    else\n",
    "#        if is_carmichael(prev)\n",
    "#            ANS = []\n",
    "#            for primo in primos\n",
    "#                #part1 verificar se para todo prev_p1 ele é igual a 0\n",
    "#                ((reduce((x,y)->(x*y) % (primefaclist[counter]-1),primefaclist) - 1) % (primefaclist[counter]-1)) != 0\n",
    "#                for p_1 in prev_p1\n",
    "#                    if p_1*primo % (prev)\n",
    "#        else\n",
    "#            return aux()\n",
    "#    end\n",
    "#end"
   ]
  },
  {
   "cell_type": "code",
   "execution_count": 67,
   "metadata": {},
   "outputs": [],
   "source": [
    "#function teste(primos8)\n",
    "#    counter = 0\n",
    "#    ANS = []\n",
    "#    for primos in primos8\n",
    "#        push!(ANS,is_carmichael(primos))\n",
    "#        counter += 1\n",
    "#        if counter == 40000000\n",
    "#            break\n",
    "#        end\n",
    "#    end\n",
    "#    return ANS\n",
    "#end"
   ]
  },
  {
   "cell_type": "markdown",
   "metadata": {},
   "source": [
    "## Exercício 10\n",
    "\n",
    "Escreva um programa para determinar o menor pseudoprimo forte para uma dada base. Vai ser necessário implementar o teste de Miller, de modo que a entrada seja um inteiro positivo $b>1$. O programa deve aplicar o teste de Miller na base $b$ aos ímpares compostos, até achar o primeiro número para qual o teste é inconclusivo. Uma maneira de se fazer isso, é programar o Crivo de Eratóstenes de maneira a conservar a lista dos ímpares compostos, em vez dos primos e depois testar as congruências. Aplique o teste para as bases $2$, $3$, $5$ e $7$. Quais os resultados obtidos?"
   ]
  },
  {
   "cell_type": "code",
   "execution_count": 68,
   "metadata": {},
   "outputs": [
    {
     "data": {
      "text/plain": [
       "teste_miller_e_composto (generic function with 1 method)"
      ]
     },
     "execution_count": 68,
     "metadata": {},
     "output_type": "execute_result"
    }
   ],
   "source": [
    "function etapa_1(n::Int)\n",
    "    n = n-1\n",
    "    k = 0\n",
    "    while (n%2 == 0)\n",
    "        k += 1\n",
    "        n = n/2\n",
    "    end\n",
    "    return n, k\n",
    "end\n",
    "\n",
    "function etapa_3(i::Int,r::Int,n::Int, k::Int)\n",
    "   if((i == 0 && r == 1) || (i>= 0 && r == n-1)) \n",
    "        return false  ##inconclusivo!\n",
    "    end\n",
    "    #etapa 5\n",
    "    if (i<k)\n",
    "        #etapa 4\n",
    "        return etapa_3(i+1,exercicio11(r,2,n),n,k)\n",
    "    else\n",
    "        return true ##composto\n",
    "    end\n",
    "end\n",
    "\n",
    "function teste_miller_e_composto(n::Int,b::Int)\n",
    "    ## verificar se os parametros sao validos\n",
    "    if (n % 2 == 0 && (1 < b) && (b < n-1))\n",
    "       throw(MathException(\"\"))\n",
    "    end\n",
    "    \n",
    "    ##teste de fato\n",
    "    \n",
    "    #etapa1\n",
    "    q, k = etapa_1(n)\n",
    "    \n",
    "    #etapa2\n",
    "    i, r = 0, exercicio11(b,q,n)\n",
    "    \n",
    "    #etapa 3\n",
    "    return etapa_3(i,r,n,k)\n",
    "    \n",
    "end"
   ]
  },
  {
   "cell_type": "code",
   "execution_count": 69,
   "metadata": {},
   "outputs": [
    {
     "data": {
      "text/plain": [
       "true"
      ]
     },
     "execution_count": 69,
     "metadata": {},
     "output_type": "execute_result"
    }
   ],
   "source": [
    "teste_miller_e_composto(341,2)"
   ]
  },
  {
   "cell_type": "code",
   "execution_count": 70,
   "metadata": {},
   "outputs": [
    {
     "data": {
      "text/plain": [
       "true"
      ]
     },
     "execution_count": 70,
     "metadata": {},
     "output_type": "execute_result"
    }
   ],
   "source": [
    "teste_miller_e_composto(25,2)"
   ]
  },
  {
   "cell_type": "markdown",
   "metadata": {},
   "source": [
    "Revisão pro teste lógico\n",
    "* **$p$ Primo** implica verdadeiro\n",
    "\n",
    "* **$p$ composto** e **$q$ teste verdadeiro** implica verdadeiro\n",
    "\n",
    "* **$p$ composto** e **$q$ teste falso** implica falso\n",
    "\n",
    "* $\\Rightarrow$ $p$ primo ou ($p$ composto e $q$ verdadeiro)"
   ]
  },
  {
   "cell_type": "code",
   "execution_count": 71,
   "metadata": {},
   "outputs": [
    {
     "data": {
      "text/plain": [
       "exercicio10_cap6 (generic function with 1 method)"
      ]
     },
     "execution_count": 71,
     "metadata": {},
     "output_type": "execute_result"
    }
   ],
   "source": [
    "function exercicio10_cap6(b::Int64)::Int64\n",
    "    cand, bigPrim = 3, 1000\n",
    "    primos = erastotenes(bigPrim)\n",
    "    while ((cand in primos) || (teste_miller_e_composto(cand,b) && !(cand in primos)))\n",
    "        if (cand > bigPrim/2)\n",
    "            bigPrim = bigPrim + 1000\n",
    "            primos = erastotenes(bigPrim)\n",
    "        end\n",
    "        cand += 2\n",
    "    end\n",
    "    return cand\n",
    "end"
   ]
  },
  {
   "cell_type": "code",
   "execution_count": 72,
   "metadata": {},
   "outputs": [
    {
     "data": {
      "text/plain": [
       "2047"
      ]
     },
     "execution_count": 72,
     "metadata": {},
     "output_type": "execute_result"
    }
   ],
   "source": [
    "exercicio10_cap6(2)"
   ]
  },
  {
   "cell_type": "code",
   "execution_count": 73,
   "metadata": {},
   "outputs": [
    {
     "data": {
      "text/plain": [
       "121"
      ]
     },
     "execution_count": 73,
     "metadata": {},
     "output_type": "execute_result"
    }
   ],
   "source": [
    "exercicio10_cap6(3)"
   ]
  },
  {
   "cell_type": "code",
   "execution_count": 74,
   "metadata": {},
   "outputs": [
    {
     "data": {
      "text/plain": [
       "781"
      ]
     },
     "execution_count": 74,
     "metadata": {},
     "output_type": "execute_result"
    }
   ],
   "source": [
    "exercicio10_cap6(5)"
   ]
  },
  {
   "cell_type": "code",
   "execution_count": 75,
   "metadata": {},
   "outputs": [
    {
     "data": {
      "text/plain": [
       "25"
      ]
     },
     "execution_count": 75,
     "metadata": {},
     "output_type": "execute_result"
    }
   ],
   "source": [
    "exercicio10_cap6(7)"
   ]
  }
 ],
 "metadata": {
  "kernelspec": {
   "display_name": "Julia 1.0.3",
   "language": "julia",
   "name": "julia-1.0"
  },
  "language_info": {
   "file_extension": ".jl",
   "mimetype": "application/julia",
   "name": "julia",
   "version": "1.0.3"
  }
 },
 "nbformat": 4,
 "nbformat_minor": 2
}
