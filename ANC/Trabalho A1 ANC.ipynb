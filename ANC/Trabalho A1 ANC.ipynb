{
 "cells": [
  {
   "cell_type": "code",
   "execution_count": 1,
   "metadata": {},
   "outputs": [
    {
     "name": "stdout",
     "output_type": "stream",
     "text": [
      "\u001b[32m\u001b[1m  Updating\u001b[22m\u001b[39m registry at `~/.julia/registries/General`\n",
      "\u001b[32m\u001b[1m  Updating\u001b[22m\u001b[39m git-repo `https://github.com/JuliaRegistries/General.git`\n",
      "\u001b[?25l\u001b[2K\u001b[?25h\u001b[32m\u001b[1m Resolving\u001b[22m\u001b[39m package versions...\n",
      "\u001b[32m\u001b[1m  Updating\u001b[22m\u001b[39m `~/.julia/environments/v1.0/Project.toml`\n",
      "\u001b[90m [no changes]\u001b[39m\n",
      "\u001b[32m\u001b[1m  Updating\u001b[22m\u001b[39m `~/.julia/environments/v1.0/Manifest.toml`\n",
      "\u001b[90m [no changes]\u001b[39m\n",
      "\u001b[32m\u001b[1m Resolving\u001b[22m\u001b[39m package versions...\n",
      "\u001b[32m\u001b[1m  Updating\u001b[22m\u001b[39m `~/.julia/environments/v1.0/Project.toml`\n",
      "\u001b[90m [no changes]\u001b[39m\n",
      "\u001b[32m\u001b[1m  Updating\u001b[22m\u001b[39m `~/.julia/environments/v1.0/Manifest.toml`\n",
      "\u001b[90m [no changes]\u001b[39m\n"
     ]
    }
   ],
   "source": [
    "using Pkg\n",
    "using Random\n",
    "Random.seed!(1234) ##settando a seed de números aleatórios\n",
    "Pkg.add(\"DataFrames\")\n",
    "Pkg.add(\"Combinatorics\")\n",
    "using DataFrames\n",
    "using Combinatorics\n",
    "using Distributed"
   ]
  },
  {
   "cell_type": "markdown",
   "metadata": {},
   "source": [
    "# Capítulo 1"
   ]
  },
  {
   "cell_type": "markdown",
   "metadata": {},
   "source": [
    "# Exercício 8\n",
    "\n",
    "Usando o método descrito no exercício anterior, escreva um programa para determinar uma solução inteira para a equação $ax + by = c$, tendo como entrada os coeficientes $a$, $b$ e $c$. A saída do programa deve ser, ou uma solução inteira da equação, ou uma mensagem indicando que tais soluções não existem. Portanto o programa consistirá, essencialmente, de uma implementação do algoritmo euclidiano extendido."
   ]
  },
  {
   "cell_type": "code",
   "execution_count": null,
   "metadata": {},
   "outputs": [],
   "source": [
    "function div(a,b) #sem usar a divisão e resto implementada pelo computador\n",
    "    if b == 0\n",
    "        throw(DivideError)\n",
    "    elseif a == 0\n",
    "        return 0\n",
    "    end\n",
    "    n = 1\n",
    "    while n * b < a\n",
    "        n = n * 2\n",
    "    end\n",
    "    while n * b > a\n",
    "        n -= 1\n",
    "    end\n",
    "    return n\n",
    "end"
   ]
  },
  {
   "cell_type": "code",
   "execution_count": null,
   "metadata": {},
   "outputs": [],
   "source": [
    "div(1234,1234)"
   ]
  },
  {
   "cell_type": "code",
   "execution_count": null,
   "metadata": {},
   "outputs": [],
   "source": [
    "div(1,12)"
   ]
  },
  {
   "cell_type": "code",
   "execution_count": null,
   "metadata": {},
   "outputs": [],
   "source": [
    "div(10,0)"
   ]
  },
  {
   "cell_type": "code",
   "execution_count": null,
   "metadata": {},
   "outputs": [],
   "source": [
    "div(110,109)"
   ]
  },
  {
   "cell_type": "code",
   "execution_count": null,
   "metadata": {},
   "outputs": [],
   "source": [
    "function mdc(a,b)\n",
    "    if a == 1\n",
    "        return 1\n",
    "    elseif b == 1\n",
    "        return 1\n",
    "    elseif a == 0\n",
    "        return b\n",
    "    elseif b == 0\n",
    "        return a\n",
    "    else\n",
    "        A = max(a,b)\n",
    "        B = min(a,b)\n",
    "        Q = div(A,B) #quis implementar um algoritmo de divisão que não fosse preguiçoso\n",
    "        if Q == 0\n",
    "            return B\n",
    "        else\n",
    "            return mdc(B,A - B * Q)\n",
    "        end\n",
    "    end\n",
    "end"
   ]
  },
  {
   "cell_type": "code",
   "execution_count": null,
   "metadata": {},
   "outputs": [],
   "source": [
    "@time mdc(1234,54)"
   ]
  },
  {
   "cell_type": "code",
   "execution_count": null,
   "metadata": {},
   "outputs": [],
   "source": [
    "function eext_aux(r1,r2,x1, x2, y1, y2)\n",
    "    #queremos achar q e r tais que r= r2 + r1 q onde 0<=rj<r1\n",
    "    qj = div(r2,r1)\n",
    "    rj = r2 - r1 * qj\n",
    "    if rj == 0\n",
    "        return [x1,y1]\n",
    "    else\n",
    "        begin\n",
    "        xj = x2 - qj * x1\n",
    "        yj = y2 - qj * y1\n",
    "        return eext_aux(rj,r1,xj,x1,yj,y1)\n",
    "        end\n",
    "    end\n",
    "end"
   ]
  },
  {
   "cell_type": "code",
   "execution_count": null,
   "metadata": {},
   "outputs": [],
   "source": [
    "function euclidiano_extendido(a,b,c)\n",
    "    if c % mdc(a,b) != 0\n",
    "        return \"Não tem solução\"\n",
    "    elseif a > b\n",
    "        return eext_aux(a,b,0,1,1,0)\n",
    "    else\n",
    "        return eext_aux(b,a,0,1,1,0)\n",
    "    end\n",
    "end"
   ]
  },
  {
   "cell_type": "code",
   "execution_count": null,
   "metadata": {},
   "outputs": [],
   "source": [
    "@time euclidiano_extendido(1234,54,2)"
   ]
  },
  {
   "cell_type": "markdown",
   "metadata": {},
   "source": [
    "## Exercício 9\n",
    "\n",
    "Escreva um programa que, tendo como entrada dois inteiro $a$ e $b$, determina o máximo divisor comum de $a$ e $b$. Adapte seu programa para gerar aleatoriamente pares de inteiros $a$ e $b$ e calcular o $\\mbox{mdc}(a,b)$. O programa deve ter como entrada o número total de pares que você deseja testar e, como saída o quociente $$\\frac{\\mbox{total de pares cujo mdc é }1}{\\mbox{total de pares testados}}.$$\n",
    "\n",
    "Este quociente dá uma medida da probabilidae de que um par de inteiros escolhido aleatoriamente seja co-primo. Vai ser necessário deixar o programa testar um número muito grande de pares para obter uma boa aproximação da probabilidade. Faça uma tabela com esses valores, tendo como entrada $10$, $100$, $1000$, $10000$ e $1000000$ pelo menos. Usando algoritmos de teoria da probabilidade que, testando um grande número de pares, o quociente acima deve ficar próximo de $\\frac{6}{\\pi^2}$; veja \\[**Giblin 1993, p.16**\\]. Como é que esse valor se compara com os resultados experimentais que você obteve?"
   ]
  },
  {
   "cell_type": "markdown",
   "metadata": {},
   "source": [
    "Vamos utilizar a função de $\\mbox{mmdc}$ que já implementamos. O gerador de números aleatórios poderá selecionar qualquer número interio."
   ]
  },
  {
   "cell_type": "code",
   "execution_count": null,
   "metadata": {},
   "outputs": [],
   "source": [
    "rand(Int32,1,2)"
   ]
  },
  {
   "cell_type": "code",
   "execution_count": null,
   "metadata": {},
   "outputs": [],
   "source": [
    "function exercicio9(n)\n",
    "    A = rand(Int32,n)\n",
    "    B = rand(Int32,n)\n",
    "    return sum([1 for i = 1:n if mdc(max(A[i],-A[i]),max(-B[i],B[i])) == 1])/n\n",
    "end"
   ]
  },
  {
   "cell_type": "code",
   "execution_count": null,
   "metadata": {},
   "outputs": [],
   "source": [
    "function exercicio9()\n",
    "for i = 1:6\n",
    "    print(string(10^i) * \": \" * string(exercicio9(10^i)) * \"\\n\")\n",
    "end\n",
    "print(\"inf: \" * string(6/pi^2) *\"\\n\")\n",
    "end\n",
    "@time exercicio9()"
   ]
  },
  {
   "cell_type": "markdown",
   "metadata": {},
   "source": [
    "## Capítulo 2"
   ]
  },
  {
   "cell_type": "markdown",
   "metadata": {},
   "source": [
    " ## Exercício 11\n",
    " Seja $n$ um inteiro positivo e $d(n)$ o número de divisores positivos de $n$. Dizemos que $n$ é altamente composto se $d(m)<d(n)$ para todo $m<n$. Escreva um programa que, tendo como entrada um número inteiro $r$, determina todos os números altamente compostos menores que $r$. Use o programa para fazer uma lista dos números altamente compostos menores que $5000$. Observe as fatorações dos números altamente compostos da sua lista: que propriedades destes números você deduz da observação desta lista? Estes números foram estudados pelo matemático indiano autodidata Srinivasa Ramanujan."
   ]
  },
  {
   "cell_type": "code",
   "execution_count": null,
   "metadata": {},
   "outputs": [],
   "source": [
    "function primos_aux(n, lista, div)\n",
    "    n = Int(n)\n",
    "    if n == 1 \n",
    "        return lista\n",
    "    elseif div==n # n eh primo\n",
    "          return push!(lista,n)\n",
    "    elseif n % div == 0 # div divide n\n",
    "        return primos_aux(n/div,push!(lista,div), div)\n",
    "    elseif div^2>n\n",
    "        return lista\n",
    "    else\n",
    "        return primos_aux(n, lista, div + 2)\n",
    "    end\n",
    "end"
   ]
  },
  {
   "cell_type": "code",
   "execution_count": null,
   "metadata": {},
   "outputs": [],
   "source": [
    "function primos(n)\n",
    "    lista = [] # sorry for not be trully functional D:\n",
    "    while n % 2 == 0 # it hurts more in me than in you\n",
    "        push!(lista, 2) # but, performance, right?\n",
    "        n = Int(n/2)\n",
    "    end\n",
    "    return if (x = primos_aux(n,lista,3)) != [] x else [n] end\n",
    "end"
   ]
  },
  {
   "cell_type": "code",
   "execution_count": null,
   "metadata": {},
   "outputs": [],
   "source": [
    "function divisores_aux(esperando, resp)\n",
    "    if size(esperando)[1] > 0\n",
    "        return divisores_aux(\n",
    "            esperando[1:end-1],\n",
    "                vcat(resp,\n",
    "                     filter(\n",
    "                        x -> !(x in resp),\n",
    "                        map(x -> x * esperando[end], resp)))) \n",
    "    else\n",
    "        return resp\n",
    "    end\n",
    "end\n",
    "    \n",
    "function divisores(n)\n",
    "    return sort(divisores_aux(primos(n), [1]))\n",
    "end"
   ]
  },
  {
   "cell_type": "code",
   "execution_count": null,
   "metadata": {},
   "outputs": [],
   "source": [
    "d(n) = size(divisores(n))[1]"
   ]
  },
  {
   "cell_type": "code",
   "execution_count": null,
   "metadata": {},
   "outputs": [],
   "source": [
    "e_altamente_composto(r) = eac_aux(r,r-1)\n",
    "\n",
    "function eac_aux(n,m)\n",
    "    if m == 1\n",
    "        true\n",
    "    elseif d(m) < d(n)\n",
    "        eac_aux(n,m-1)\n",
    "    else\n",
    "        false\n",
    "    end\n",
    "end"
   ]
  },
  {
   "cell_type": "code",
   "execution_count": null,
   "metadata": {},
   "outputs": [],
   "source": [
    "e_altamente_composto(20)"
   ]
  },
  {
   "cell_type": "code",
   "execution_count": null,
   "metadata": {},
   "outputs": [],
   "source": [
    "todos_altamente_compostos(r) = [i for i = 2:r if e_altamente_composto(i)]"
   ]
  },
  {
   "cell_type": "code",
   "execution_count": null,
   "metadata": {},
   "outputs": [],
   "source": [
    "@time todos_altamente_compostos(5000)"
   ]
  },
  {
   "cell_type": "markdown",
   "metadata": {},
   "source": [
    "##  Exercícico 12\n",
    "\n",
    "Escreva um programa que impelemente o algoritmo de Fermat para achar dois fatores de um número inteiro positivo que seja menor que $2^{32}$. Este exercício é o primeiro de uma sequência que termina com o exercício 8 do capítulo 1."
   ]
  },
  {
   "cell_type": "code",
   "execution_count": null,
   "metadata": {},
   "outputs": [],
   "source": [
    "function fermat(n)\n",
    "    x = floor(sqrt(n))\n",
    "    if x^2 == n\n",
    "        return (x,x)\n",
    "    else\n",
    "        x += 1\n",
    "        y = sqrt(x^2 - n)\n",
    "        while !isinteger(y)\n",
    "            x += 1\n",
    "            y = sqrt(x^2 - n)\n",
    "            if x == (n+1)/2\n",
    "                return string(n) * \" é primo\"\n",
    "            end\n",
    "        end\n",
    "        return (Int(x+y),Int(x-y))\n",
    "    end\n",
    "end"
   ]
  },
  {
   "cell_type": "code",
   "execution_count": null,
   "metadata": {},
   "outputs": [],
   "source": [
    "@time fermat(1342127)"
   ]
  },
  {
   "cell_type": "markdown",
   "metadata": {},
   "source": [
    " # Capítulo 3\n",
    " \n",
    " ## Exercício 10\n",
    " \n",
    " O objetivo deste exercício é a elaboração de um programa para determinar alguns valores (interios) de $x$ para os quais um polinômio quadrático $f(x)$ assume valores primos. O programa deve ter como entrada $f(x) = ax^2 + bx +c$. Estes números serão inteiros positivos ou negativos, mas podemos supor que $a>0$. O programa deve tabelar $f(n)$, para $n$ variando entre $0$ e $100$, e indicar quais destes valores são primos. Para fazer isso, será necessário executar o crivo de Erastótenes para achar os primos menores que $|f(0)|$ ou $|f(100|$ - dependendo de qual dos dois for maior. Observe que vai ser necessário limitar os valores de $a$, $b$ e $c$, e verificar se os valores de $f(x)$ não estão ultrapassando a precisão dos inteiros da linguagem de programação que está sendo utilizada. Se você não tomar estes cuidados o programa vai produzir resultados incorretos. Aplique seu programa para os polinômios \n",
    " 1. $f(x) = x^2 + 1$\n",
    " 2. $f(x) = x^2 - 69x + 1231$\n",
    " 3. $f(x) = 2x^2 - 199$\n",
    " 4. $f(x) = 8x^2 - 530x + 7631$\n",
    " \n",
    " O polinômio (2) é uma variação de um famoso exemplo que L. Euler obteve em 1772."
   ]
  },
  {
   "cell_type": "code",
   "execution_count": 2,
   "metadata": {},
   "outputs": [
    {
     "data": {
      "text/plain": [
       "erastotenes (generic function with 1 method)"
      ]
     },
     "execution_count": 2,
     "metadata": {},
     "output_type": "execute_result"
    }
   ],
   "source": [
    "function eras_aux(lista, iter)\n",
    "    len = size(lista)[1]\n",
    "    if  iter >= len\n",
    "        return lista\n",
    "    elseif lista[iter] == 0\n",
    "        return eras_aux(lista,iter+2)\n",
    "    else\n",
    "        step = iter\n",
    "        iter += step\n",
    "        while iter <= len\n",
    "            lista[iter] = 0\n",
    "            iter += step\n",
    "        end\n",
    "        return eras_aux(lista,step+2)\n",
    "    end\n",
    "end\n",
    "\n",
    "function erastotenes(n)\n",
    "    lista = [if i%2==0 0 else 1 end for i=1:n]\n",
    "    lista[1] = 0\n",
    "    return [x[1] for x in enumerate(eras_aux(lista,3)) if x[2] == 1 || x[1] == 2]\n",
    "end    "
   ]
  },
  {
   "cell_type": "code",
   "execution_count": 3,
   "metadata": {},
   "outputs": [
    {
     "data": {
      "text/plain": [
       "25-element Array{Int64,1}:\n",
       "  2\n",
       "  3\n",
       "  5\n",
       "  7\n",
       " 11\n",
       " 13\n",
       " 17\n",
       " 19\n",
       " 23\n",
       " 29\n",
       " 31\n",
       " 37\n",
       " 41\n",
       " 43\n",
       " 47\n",
       " 53\n",
       " 59\n",
       " 61\n",
       " 67\n",
       " 71\n",
       " 73\n",
       " 79\n",
       " 83\n",
       " 89\n",
       " 97"
      ]
     },
     "execution_count": 3,
     "metadata": {},
     "output_type": "execute_result"
    }
   ],
   "source": [
    "erastotenes(100)"
   ]
  },
  {
   "cell_type": "code",
   "execution_count": null,
   "metadata": {},
   "outputs": [],
   "source": [
    "function exercicio10(a,b,c)\n",
    "    f(n) = a * n^2 + b * n + c\n",
    "    primos = erastotenes(max(abs(f(0)),abs(f(100))))\n",
    "    return [(n, f(n),if f(n) in primos \"é primo\" else \"não primo\" end) for n=1:100]\n",
    "end"
   ]
  },
  {
   "cell_type": "code",
   "execution_count": null,
   "metadata": {},
   "outputs": [],
   "source": [
    "@time exercicio10(1,0,1)"
   ]
  },
  {
   "cell_type": "code",
   "execution_count": null,
   "metadata": {},
   "outputs": [],
   "source": [
    "@time exercicio10(1,-69,1231)"
   ]
  },
  {
   "cell_type": "code",
   "execution_count": null,
   "metadata": {},
   "outputs": [],
   "source": [
    "@time exercicio10(2,0,-199)"
   ]
  },
  {
   "cell_type": "code",
   "execution_count": null,
   "metadata": {},
   "outputs": [],
   "source": [
    "@time exercicio10(8,-530,7681)"
   ]
  },
  {
   "cell_type": "markdown",
   "metadata": {},
   "source": [
    " ## Exercício 11\n",
    " \n",
    " Vimos na seção 5 que existem várias formas que dão aproximações para $\\pi(x)$, o número de primos positivos menores ou iguais a $x$. A fórmula decorrente do teorema dos números primos é $\\frac{x}{\\log x}$ que não fornece uma boa aproximação a não ser que o valor de $x$ seja enorme. Neste exercício desejamos fazer o estudo experimental de uma outra forma que serve de aproximação para $\\pi(x)$. A fórmula é $$ S(x)=\\frac{x}{\\log x} \\left(1+\\left[\\sum_{k=0}^{12} a_k\\left(\\log \\log x\\right)^k\\right]^{-\\frac{1}{4}}\\right) $$\n",
    " onde $\\log$ denota o *logaritmo natural* e $$a_0 = 229168.50747390,\\ a_1 = -429449.7206839,\\ a_2=199330.41355048,\\ a_3=28226.22049280,\\\\ a_4 = 0,\\ a_5=0,\\ a_6 = -34712.81875914,\\ a_7=0,\\ a_8 = 33820.10886195,\\\\ a_9=-25379.82656589,\\ a_{10}=8386.14942934,\\ a_{11} = -1360.44512548,\\ a_{12}=89.14545378. $$\n",
    " \n",
    "Escreva um programa, baseado no *Crivo de Erastótenes* que, tendo como entrada o inteiro $x$, calcula $\\pi(x)$. Use este algoritmo para gerar uma tabela com os valores de $\\pi(x) - S(x)$ quando $x$ é igual a $11$, $100$, $1000$, $2000$, $3000$, $\\dots$, $9000$ e $10000$. Comare com os valores correspondentes de $\\pi(X) - \\frac{x}{\\log x}$. O que você conclui da análise destas tabelas?"
   ]
  },
  {
   "cell_type": "code",
   "execution_count": null,
   "metadata": {},
   "outputs": [],
   "source": [
    "function S(x) \n",
    "    a = [229168.50747390,\n",
    "        -429449.7206839,\n",
    "        199330.41355048,\n",
    "        28226.22049280,\n",
    "        0,\n",
    "        0,\n",
    "        -34712.81875914,\n",
    "        0,\n",
    "        33820.10886195,\n",
    "        -25379.82656589,\n",
    "        8386.14942934,\n",
    "        -1360.44512548,\n",
    "        89.14545378]\n",
    "    return (x/log(x)) * (1 + sum([a[k+1] * (log(log(x)))^k for k=0:12])^(-1/4))\n",
    "end"
   ]
  },
  {
   "cell_type": "code",
   "execution_count": null,
   "metadata": {},
   "outputs": [],
   "source": [
    "Π(x) = size(erastotenes(x))[1]"
   ]
  },
  {
   "cell_type": "code",
   "execution_count": null,
   "metadata": {},
   "outputs": [],
   "source": [
    "defaultaprox(x) = x\\log(x)"
   ]
  },
  {
   "cell_type": "code",
   "execution_count": null,
   "metadata": {},
   "outputs": [],
   "source": [
    "function exercicio11()\n",
    "    values = [11, 100, 1000, 2000, 3000, 4000, 5000, 6000, 7000, 8000, 9000, 10000]\n",
    "    pilist = [Π(x) for x in values]\n",
    "    slist = [S(x) for x in values]\n",
    "    deflist = [defaultaprox(x) for x in values]\n",
    "    PiSMinus = [pilist[i[1]]-slist[i[1]] for i in enumerate(values)]\n",
    "    PiDefMinus = [pilist[i[1]]-deflist[i[1]] for i in enumerate(values)]\n",
    "    DataFrame(value=values, pi_minus_s=PiSMinus, pi_minus_default = PiDefMinus)\n",
    "end\n",
    "@time exercicio11()"
   ]
  },
  {
   "cell_type": "markdown",
   "metadata": {},
   "source": [
    "Eu concluo que a formula Default aumenta o erro conforme o valor aumenta, enquanto a fórmula $S$ mágica, mantem o erro estável."
   ]
  },
  {
   "cell_type": "markdown",
   "metadata": {},
   "source": [
    "## Exercício 12\n",
    "\n",
    "Já vimos que um primo ímpar ou é da forma $4n+1$ ou da forma $4n+3$. Além disso, sabemos pelo exercício 7 que há infinitos primos da forma $4n+3$. Também há infinitos primos da forma $4n+1$, mas a demonstração é mais difícil. O objetivo deste exercício é estudar experimentalmente a frequência relativa de cada um destes dois tipos de primos. Seja $x$ um número real positivo. Denotaremos por $\\pi_1(x)$ o número de primos positivos que são da forma $4n+1$; e por $\\pi_3(x)$ o número correspondente de primos da forma $4n+3$. Escreva um programa, baseado no *Crivo de Erastótenes*, que, tendo como entrada um inteiro positivo $x$, determina $\\pi_1(x)$ e $\\pi_3(x)$. Tabele $\\pi_1(x)$, $\\pi_3(x)$ e $\\frac{\\pi_1(x)}{\\pi_3(x)}$ para os valores de $100$ em $100$ entre $100$ e $10^5$. Sabe-se que $\\lim_{x\\rightarrow \\infty} \\frac{\\pi_1(x)}{\\pi_3(x)} = 1$. Os valores da sua tabela condizem com este resultado?"
   ]
  },
  {
   "cell_type": "code",
   "execution_count": null,
   "metadata": {},
   "outputs": [],
   "source": [
    "function is_4n_mais_1(x)\n",
    "    return (x-1)%4 == 0\n",
    "end\n",
    "\n",
    "function exercicio12(x) \n",
    "    primos = erastotenes(x)[2:end]  #queremos descartar o 2, o primeiro primo\n",
    "    pi1 = [x for x in primos if is_4n_mais_1(x)]\n",
    "    return (size(pi1)[1], size(primos)[1] - size(pi1)[1]) #retorna o pi1 e total de primos menos o pi1, que é o pi3\n",
    "end"
   ]
  },
  {
   "cell_type": "code",
   "execution_count": null,
   "metadata": {},
   "outputs": [],
   "source": [
    "exercicio12(100)"
   ]
  },
  {
   "cell_type": "code",
   "execution_count": null,
   "metadata": {
    "scrolled": true
   },
   "outputs": [],
   "source": [
    "function exercicio12()\n",
    "    Π1 = []\n",
    "    Π3 = []\n",
    "    ΠDiv = []\n",
    "    values = []\n",
    "    for num = 100:100:10^5\n",
    "        π1, π3 = exercicio12(num)\n",
    "        push!(values,num)\n",
    "        push!(Π1,π1)\n",
    "        push!(Π3,π3)\n",
    "        push!(ΠDiv,π1/π3)\n",
    "    end\n",
    "    showall(DataFrame(value = values, Π1 = Π1, Π3 = Π3, ΠDiv = ΠDiv))\n",
    "end\n",
    "@time exercicio12()"
   ]
  },
  {
   "cell_type": "markdown",
   "metadata": {},
   "source": [
    "**Sim**, os valores condizem."
   ]
  },
  {
   "cell_type": "markdown",
   "metadata": {},
   "source": [
    "## Exercício 13\n",
    "\n",
    "Adapte o programa elaborado no exercício anterior para determinar o menor valor inteiro de $x$ para o qual $\\pi_1(x) > \\pi_3(x)$. \n",
    "\n",
    "O exame da evidência experimental entõ disponível leou alguns matemáticos do começo do século \\[sic: passado\\] à conclusão de que, exceto para alguns valores relativamente pequenos de $x$, a desigualdade $\\pi_1(x) < \\pi_3(x)$ seria sempre verdadeira. A verdade emergiu em 1914, quando o matemático J. E. Littlewood mostrou que existem sequências infinitas $$x_1,x_2,\\dots \\ \\mbox{e}\\ y_1,y_2,\\dots$$ de números reais positivos, tais que $$\\lim_{i\\rightarrow \\infty} (\\pi_1(x_i) -\\pi_3(x_i)) = \\infty \\ \\mbox{e}\\ \\lim_{i\\rightarrow \\infty} (\\pi_1(y_i) -\\pi_3(y_i)) = -\\infty.$$\n",
    "\n",
    "A moral é óbvia: é sempre muito perigoso generalizar a partir de dados numéricos, mesmo quando a quantidade de dados disponíveis é muito grande."
   ]
  },
  {
   "cell_type": "code",
   "execution_count": null,
   "metadata": {},
   "outputs": [],
   "source": [
    "function exercicio13()\n",
    "    x = 1\n",
    "    π1, π3 = exercicio12(x) #\n",
    "    while π1 <= π3\n",
    "        x += 1\n",
    "        π1, π3 = exercicio12(x)\n",
    "    end\n",
    "    return x\n",
    "end"
   ]
  },
  {
   "cell_type": "code",
   "execution_count": null,
   "metadata": {},
   "outputs": [],
   "source": [
    "@time exercicio13()"
   ]
  },
  {
   "cell_type": "markdown",
   "metadata": {},
   "source": [
    "# Capítulo 4\n",
    "\n",
    "## Exercício 11\n",
    "\n",
    "Escreva um programa que implemente o algoritmo para calcular potências módulo $n$ que é descrito na seção 2 do apêndice. O algoritmo deverá ter como entrada $a$, $k$ e $n$, onde $a$ é um inteiro qualquer $k$ e $n$ são inteiros positivos. A saída deverá ser a forma reduzida de $a^k$ módulo $n$. Este algoritmo é uma parte fundamental de quase todos os algoritmos que estudaremos a partir do capítulo 6.\n",
    "\n",
    "### Algoritmo de exponenciação:\n",
    "\n",
    "**Entrada:** *Inteiros $a$, $e$ e $n$, $n>0$ e $e\\geq 0$*\n",
    "**Saída:**  *a forma reduzida de $a^e$ módulo $n$.*\n",
    "\n",
    "**Etapa 1:** *Comece com $A=a$, $P=1$ e $E=e$.* \n",
    "\n",
    "**Etapa 2:** *Se $E=0$ imprime '$a^e\\equiv P\\ (\\mbox{mod}\\ n)$'; se não vai para Etapa 3;*\n",
    "\n",
    "**Etapa 3:** *Se $E$ for ímpar então atribua a $P$ o valor do resto da divisão de $A\\cdot P$ por $n$ e a $E$ o valor $\\frac{E-1}{2}$ e vá para a Etapa 5, se não vá para a Etapa 4;*\n",
    "\n",
    "**Etapa 4:** *Se $E$ for par então atribua a $E$ o valor $\\frac{E}{2}$ e vá para a Etapa 5.*\n",
    "\n",
    "**Etapa 5:** *Substitua o valor atual de $A$ pelo resto da divisão de $A^2$ por $n$ e vá para a Etapa 2.*\n"
   ]
  },
  {
   "cell_type": "code",
   "execution_count": null,
   "metadata": {},
   "outputs": [],
   "source": [
    "function exercicio11(a,e,n) ##feito puramente funcional :P\n",
    "    return verifica_pos(etapa2(a,1,e,n),n)\n",
    "end\n",
    "\n",
    "function etapa2(A,P,E,n)\n",
    "    if E==0\n",
    "        return P\n",
    "    else\n",
    "        return etapa3(A,P,E,n)\n",
    "    end\n",
    "end   \n",
    "\n",
    "function etapa3(A,P,E,n)\n",
    "    if E%2 == 1\n",
    "        return etapa5(A,(A * P) % n,(E-1)/2,n)\n",
    "    else\n",
    "        return etapa4(A,P,E,n)\n",
    "    end\n",
    "end\n",
    "\n",
    "function etapa4(A,P,E,n)\n",
    "    if E%2 == 0  ##eu acho este passo muito estranho, mas o pseudo-código do livro pediu pra fazer assim e assim o fiz\n",
    "        return etapa5(A,P,E/2,n)\n",
    "    end\n",
    "end\n",
    "\n",
    "function etapa5(A,P,E,n)\n",
    "    return etapa2(A^2 % n, P, E, n)\n",
    "end\n",
    "\n",
    "function verifica_pos(a,n) #função que garante que apenas iremos retornar resultados positivos\n",
    "    if a>=0\n",
    "        return a % n\n",
    "    else #se for negativo\n",
    "        return (n+a) % n #retorna o correspondente positivo\n",
    "    end\n",
    "end"
   ]
  },
  {
   "cell_type": "code",
   "execution_count": null,
   "metadata": {},
   "outputs": [],
   "source": [
    "exercicio11(10,135,7) ##na pagina 79 do livro temos que esse valor é 6"
   ]
  },
  {
   "cell_type": "code",
   "execution_count": null,
   "metadata": {},
   "outputs": [],
   "source": [
    "exercicio11(5,3,13) ##retirado da Wikipedia, espera-se 8"
   ]
  },
  {
   "cell_type": "code",
   "execution_count": null,
   "metadata": {},
   "outputs": [],
   "source": [
    "@time exercicio11(4,13,497) ##tambem retirado da Wikipedia, espera-se 445"
   ]
  },
  {
   "cell_type": "markdown",
   "metadata": {},
   "source": [
    "# Capítulo 5\n",
    "\n",
    "## Exercício 16\n",
    "\n",
    "Use o exercício 14 para escrever um programa que, tendo como entrada $a$ e $p$, calcula o inverso de $a$ módulo $p$. Por segurança faça seu programa verificar primeiro que $p$ *realmente* não divide $a$. Use isto para escrever um outro programa que determine a solução de $ax\\equiv b\\ (\\mbox{mod}\\ p)$, dada as entradas $a$, $b$ e $p$.\n",
    "\n",
    "#### Exercício 14\n",
    "\n",
    "Seja $p$ um número primo e $a$ um inteiro que não é divisível por $p$. Mostre que o invero de $\\bar{a}$ em $\\mathbb{Z}_p$ é $\\bar{a}^{p-2}$."
   ]
  },
  {
   "cell_type": "code",
   "execution_count": null,
   "metadata": {},
   "outputs": [],
   "source": [
    "function inverso(a,p)\n",
    "    if p in erastotenes(p) && a % p != 0  ##verifica se p é primo e se p não divide a\n",
    "        return ((a % p)^(p-2) % p)\n",
    "    else\n",
    "        throw(ArgumentError)\n",
    "    end\n",
    "end"
   ]
  },
  {
   "cell_type": "code",
   "execution_count": null,
   "metadata": {},
   "outputs": [],
   "source": [
    "inverso(2,5) #esperamos que seja 3"
   ]
  },
  {
   "cell_type": "markdown",
   "metadata": {},
   "source": [
    "Note que $x\\equiv ba^{-1}\\ (\\mbox{mod}\\ p)$. Isso é tudo que precisamos"
   ]
  },
  {
   "cell_type": "code",
   "execution_count": null,
   "metadata": {},
   "outputs": [],
   "source": [
    "exercicio16(a,b,p) = (b * inverso(a,p)) % p"
   ]
  },
  {
   "cell_type": "markdown",
   "metadata": {},
   "source": [
    "Vamos testar nosso programa para $8x \\equiv 3\\ (\\mbox{mod}\\ 7)$. Esperamos que $x = 3$, porque $8\\equiv 1\\ (\\mbox{mod}\\ 7)$."
   ]
  },
  {
   "cell_type": "code",
   "execution_count": null,
   "metadata": {},
   "outputs": [],
   "source": [
    "@time exercicio16(8,3,7)"
   ]
  },
  {
   "cell_type": "markdown",
   "metadata": {},
   "source": [
    "# Exercício 17\n",
    "\n",
    "Seja $p = 4k+3$ um primo positivo. Escreva um programa que, tendo por entrada $p$ e um inteiro positivo $a$, calcula as duas soluções de $x^2\\equiv a\\ (\\mbox{mod}\\ p)$. Observe que sabemos do exercício 15 que *se esta equação tem solução* $b$ então $b \\equiv a^{k+1}\\ (\\mbox{mod}\\ p)$. Assim o programa deve calcular a forma reduzida de $a^{k+1}$ módulo $p$ e, em seguida, verificar se, de fato, esta é uma solução da equação dada. A saída será constituída pelas soluções da equação, ou por uma mensagem indicando que a equação dada não tem solução. Este exercício é o segundo de uma sequência que termna com o exercício 8 do capítulo 11."
   ]
  },
  {
   "cell_type": "code",
   "execution_count": null,
   "metadata": {},
   "outputs": [],
   "source": [
    "function extrai_k(p)\n",
    "    if p in erastotenes(p) && p % 4 == 3 #se é primo e de fato da forma 4k+3\n",
    "        return (p-3)/4\n",
    "    else\n",
    "        throw(ArgumentError)\n",
    "    end\n",
    "end\n",
    "\n",
    "function exercicio17(a,p)\n",
    "    b = a^(extrai_k(p)+1) % p\n",
    "    if b^2 % p == a\n",
    "        return (b,-b)\n",
    "    else\n",
    "        return \"Não tem solução\"\n",
    "    end\n",
    "end"
   ]
  },
  {
   "cell_type": "markdown",
   "metadata": {},
   "source": [
    "Vamos testar com $x^2 \\equiv 9\\ (\\mbox{mod}\\ 11)$ que sabemos que tem que ser igual a $\\pm 3$."
   ]
  },
  {
   "cell_type": "code",
   "execution_count": null,
   "metadata": {},
   "outputs": [],
   "source": [
    "@time exercicio17(9,11)"
   ]
  },
  {
   "cell_type": "markdown",
   "metadata": {},
   "source": [
    "## Exercício 18\n",
    "\n",
    "Vários problemas da Teoria dos Números (como o Último Teorema de Fermat) requerem primos $p$ que satisfaçam a congruência $$a^{p-1} \\equiv 1\\ (\\mbox{mod}\\ p^2)$$ para algum inteiro $a$. Escreva um programa que, tendo por entrada dois inteiros positivos $a>1$ e $r$, determina os primos $p$ que satisfaçam a congruência acima e tais que $a+1\\leq p \\leq r$. Observe que o programa terá que aplicar o crivo de Eratóstenes para achar os primos menos ou iguais a $r$. Estes primos serão então testados na congruência acima. Se $r=10^5$ então o número de primos satisfazendo a congruência é dois quando $a=2,\\ 5,\\ 10$ e $14$; e cinco quando $a=19$, por exemplo."
   ]
  },
  {
   "cell_type": "code",
   "execution_count": null,
   "metadata": {},
   "outputs": [],
   "source": [
    "## também feito puramente funcional :P\n",
    "## a gente filta o erastotenes com uma expressão lambda (x) -> a+1 <= x\n",
    "## também usamos a função exercício11 que serve para realizar a exponenciação de a^e (mod n).\n",
    "exercicio18(a,r) = [p for p in filter((x) -> a+1 <= x , erastotenes(r)) if exercicio11(a,p-1,p^2) == 1] "
   ]
  },
  {
   "cell_type": "code",
   "execution_count": null,
   "metadata": {},
   "outputs": [],
   "source": [
    "@time exercicio18(5,10^5)"
   ]
  },
  {
   "cell_type": "code",
   "execution_count": null,
   "metadata": {},
   "outputs": [],
   "source": [
    "@time exercicio18(10, 10^5) #TODO nao sei porque não funciona"
   ]
  },
  {
   "cell_type": "code",
   "execution_count": null,
   "metadata": {},
   "outputs": [],
   "source": [
    "@time exercicio18(14, 10^5)"
   ]
  },
  {
   "cell_type": "code",
   "execution_count": null,
   "metadata": {},
   "outputs": [],
   "source": [
    "@time exercicio18(19,10^5) ##TODO não sei porque não funciona"
   ]
  },
  {
   "cell_type": "markdown",
   "metadata": {},
   "source": [
    "Eu implementei em Python também, usando um Crivo de Eratóstenes que peguei no Rosetta Code (tentei adaptar o que escrevi aqui, mas o Python tilta na recursão) e usando a função pow do Python. Deu os mesmos resultados. Então não sei o que está pegando."
   ]
  },
  {
   "cell_type": "markdown",
   "metadata": {},
   "source": [
    "# Capitulo 6\n",
    "\n",
    "## Exercício 8\n",
    "\n",
    "Escreva um programa que, tendo como entrada um inteiro positivo $r$, determina todos os números entre $1$ e $r$ que sao pseudoprimos para as bases $2$ e $3$. Lembre-se que tal pseudoprimo $n$ é um número *ímpar* e *composto* que satisfaz as equações $$2^{n-1}\\equiv 1\\ (\\mbox{mod}\\ n)\\ \\mbox{e}\\ 3^{n-1}\\equiv 1\\ (\\mbox{mod}\\ n).$$\n",
    "\n",
    "Portanto o programa só precisa testar os números ímpares e além destas congruências, tem que verificar se os números obtidos são primos ou não. Uma maneira de fazer isso é programar o Crivo de Eratóstenes de modo a conservar a lista dos ímpares compostos, em vez dos primos e depois testar as congruências. Aplique o programa  com $r=10^5$. Quantos e quais foram os pseudoprimos obtidos? Quantos destes são números de Carmichael?"
   ]
  },
  {
   "cell_type": "code",
   "execution_count": null,
   "metadata": {},
   "outputs": [],
   "source": [
    "function e_pseudoprimo(num,base, primos)\n",
    "    if !(num in primos && num % 2 == 1)\n",
    "        return exercicio11(base,num-1,num)==1\n",
    "    else\n",
    "        return false\n",
    "    end\n",
    "end"
   ]
  },
  {
   "cell_type": "code",
   "execution_count": null,
   "metadata": {},
   "outputs": [],
   "source": [
    "function e_carmichael(n)\n",
    "    if n in [1,2,3]\n",
    "        return false\n",
    "    end\n",
    "    if n%2 == 1 && !(n in erastotenes(n))\n",
    "        return reduce((x,y)-> x && y, [exercicio11(b,n,n) == b for b=2:(n-2)])\n",
    "    else\n",
    "        return false\n",
    "    end\n",
    "end"
   ]
  },
  {
   "cell_type": "code",
   "execution_count": null,
   "metadata": {},
   "outputs": [],
   "source": [
    "e_carmichael(559)"
   ]
  },
  {
   "cell_type": "code",
   "execution_count": null,
   "metadata": {},
   "outputs": [],
   "source": [
    "[num for num=1:600 if e_carmichael(num)] ##todos números carmichael até 600"
   ]
  },
  {
   "cell_type": "code",
   "execution_count": null,
   "metadata": {},
   "outputs": [],
   "source": [
    "function exercicio8(r) \n",
    "    primos = erastotenes(r)\n",
    "    return [n for n=1:2:r if e_pseudoprimo(n,2,primos) && e_pseudoprimo(n,3,primos)]\n",
    "end"
   ]
  },
  {
   "cell_type": "code",
   "execution_count": null,
   "metadata": {},
   "outputs": [],
   "source": [
    "@time lista = exercicio8(10^5)"
   ]
  },
  {
   "cell_type": "code",
   "execution_count": null,
   "metadata": {},
   "outputs": [],
   "source": [
    "print(\"Foram \" * string(size(lista)[1]) * \" pseudoprimos obtidos\")"
   ]
  },
  {
   "cell_type": "code",
   "execution_count": null,
   "metadata": {},
   "outputs": [],
   "source": [
    "print(\"Temos \" * string(size(filter((x)->e_carmichael(x),lista))[1]) * \" números de Carmichael\")"
   ]
  },
  {
   "cell_type": "markdown",
   "metadata": {},
   "source": [
    "## Exercício 9\n",
    "\n",
    "O objetivo deste exercício é a elaboração de um programa para determinar todos os números de Carmichael que são produtos de $d$ primos, todos menores que $10^3$. O principal problema é que, mesmo para valores relativamente pequenos de de $d$, alguns dos números de Carmichael obtidos podem ser bem grandes. Isto torna difícil verificar que $p-1$ divide $n-1$, quando $p$ é um fator primo de $n$. Mas é fácil contornar este problema usando congruências. Digamos que o programa gerou o número $n = p_1p_2\\dots p_d$. Precisamos verificar se $n-1$ é ou não divisível por $p_1-1$, por exemplo. Como $n$ aparece fatorado, você pode multiplicar os fatores um de cada vez e ir reduzindo módulo $p_1-1$ a cada produto, de modo a manter o resultado pequeno. Como os fatores são menores que $10^3$ isto vai ser muito rápido de executar. Aplique o seu programa para $d=1,\\dots,8$. Quais números de Carmichael obtidos em cada caso? Não é necessário multiplicar os fatores para obter o número, basta que o programa liste os fatores."
   ]
  },
  {
   "cell_type": "code",
   "execution_count": 34,
   "metadata": {},
   "outputs": [
    {
     "data": {
      "text/plain": [
       "carmichael_d_primos (generic function with 1 method)"
      ]
     },
     "execution_count": 34,
     "metadata": {},
     "output_type": "execute_result"
    }
   ],
   "source": [
    "function is_carmichael(primefaclist, counter = 1)\n",
    "    if counter == size(primefaclist)[1] + 1\n",
    "        return true\n",
    "    else\n",
    "        if ((reduce((x,y)->(x*y) % (primefaclist[counter]-1),primefaclist) - 1) % (primefaclist[counter]-1)) != 0\n",
    "            return false\n",
    "        else\n",
    "            return is_carmichael(primefaclist,counter+1)\n",
    "        end\n",
    "    end\n",
    "end\n",
    "\n",
    ",\n",
    "function carmichael_d_primos(d, primos)\n",
    "    if d == 1 || d == 2\n",
    "        return []\n",
    "    else\n",
    "        return [n for n in Combinatorics.Combinations(primos[2:end],d) if is_carmichael(n)]\n",
    "    end\n",
    "end"
   ]
  },
  {
   "cell_type": "code",
   "execution_count": 10,
   "metadata": {},
   "outputs": [
    {
     "data": {
      "text/plain": [
       "cap6exercicio9 (generic function with 1 method)"
      ]
     },
     "execution_count": 10,
     "metadata": {},
     "output_type": "execute_result"
    }
   ],
   "source": [
    "function cap6exercicio9()\n",
    "    prims = erastotenes(10^3)\n",
    "    ANS = [carmichael_d_primos(d,prims[2:end]) for d in 1:8]\n",
    "    for x in enumerate(ANS)\n",
    "        print(\"Números d\")\n",
    "        print(x)\n",
    "    end\n",
    "end\n",
    "#@time cap6exercicio9()"
   ]
  },
  {
   "cell_type": "code",
   "execution_count": 35,
   "metadata": {},
   "outputs": [
    {
     "data": {
      "text/plain": [
       "true"
      ]
     },
     "execution_count": 35,
     "metadata": {},
     "output_type": "execute_result"
    }
   ],
   "source": [
    "function list_carmichael(primos, prev=[], prev_p1=[])\n",
    "    if size(prev)[1] >= 8\n",
    "        return prev\n",
    "    else\n",
    "        if is_carmichael(prev)\n",
    "            ANS = []\n",
    "            for primo in primos\n",
    "                #part1 verificar se para todo prev_p1 ele é igual a 0\n",
    "                ((reduce((x,y)->(x*y) % (primefaclist[counter]-1),primefaclist) - 1) % (primefaclist[counter]-1)) != 0\n",
    "                for p_1 in prev_p1\n",
    "                    if p_1*primo % (prev)\n",
    "        else\n",
    "            return aux()\n",
    "    end\n",
    "end"
   ]
  },
  {
   "cell_type": "code",
   "execution_count": 46,
   "metadata": {},
   "outputs": [
    {
     "data": {
      "text/plain": [
       "4-element Array{Array{Int64,1},1}:\n",
       " [1, 2]   \n",
       " [2, 3]   \n",
       " [4, 5, 6]\n",
       " [7, 8]   "
      ]
     },
     "execution_count": 46,
     "metadata": {},
     "output_type": "execute_result"
    }
   ],
   "source": [
    "A = [1,2,3]\n",
    "B = [[[1,2],[2,3]],[[4,5,6],[7,8]]]\n",
    "reduce((a,b)->vcat(a,b),B)"
   ]
  },
  {
   "cell_type": "code",
   "execution_count": 45,
   "metadata": {},
   "outputs": [
    {
     "data": {
      "text/plain": [
       "168-element Array{Int64,1}:\n",
       "   2\n",
       "   3\n",
       "   5\n",
       "   7\n",
       "  11\n",
       "  13\n",
       "  17\n",
       "  19\n",
       "  23\n",
       "  29\n",
       "  31\n",
       "  37\n",
       "  41\n",
       "   ⋮\n",
       " 919\n",
       " 929\n",
       " 937\n",
       " 941\n",
       " 947\n",
       " 953\n",
       " 967\n",
       " 971\n",
       " 977\n",
       " 983\n",
       " 991\n",
       " 997"
      ]
     },
     "execution_count": 45,
     "metadata": {},
     "output_type": "execute_result"
    }
   ],
   "source": [
    "prims = erastotenes(10^3)"
   ]
  },
  {
   "cell_type": "code",
   "execution_count": 27,
   "metadata": {},
   "outputs": [
    {
     "data": {
      "text/plain": [
       "Combinatorics.Combinations{Array{Int64,1}}([3, 5, 7, 11, 13, 17, 19, 23, 29, 31  …  937, 941, 947, 953, 967, 971, 977, 983, 991, 997], 7)"
      ]
     },
     "execution_count": 27,
     "metadata": {},
     "output_type": "execute_result"
    }
   ],
   "source": [
    "primos8 = Combinatorics.Combinations(prims[2:end],7)"
   ]
  },
  {
   "cell_type": "code",
   "execution_count": 32,
   "metadata": {},
   "outputs": [
    {
     "data": {
      "text/plain": [
       "teste (generic function with 1 method)"
      ]
     },
     "execution_count": 32,
     "metadata": {},
     "output_type": "execute_result"
    }
   ],
   "source": [
    "function teste(primos8)\n",
    "    counter = 0\n",
    "    ANS = []\n",
    "    for primos in primos8\n",
    "        push!(ANS,is_carmichael(primos))\n",
    "        counter += 1\n",
    "        if counter == 40000000\n",
    "            break\n",
    "        end\n",
    "    end\n",
    "    return ANS\n",
    "end"
   ]
  },
  {
   "cell_type": "code",
   "execution_count": 33,
   "metadata": {},
   "outputs": [
    {
     "name": "stdout",
     "output_type": "stream",
     "text": [
      " 16.972550 seconds (300.01 M allocations: 16.693 GiB, 15.67% gc time)\n"
     ]
    },
    {
     "data": {
      "text/plain": [
       "40000000-element Array{Any,1}:\n",
       " false\n",
       " false\n",
       " false\n",
       " false\n",
       " false\n",
       " false\n",
       " false\n",
       " false\n",
       " false\n",
       " false\n",
       " false\n",
       " false\n",
       " false\n",
       "     ⋮\n",
       " false\n",
       " false\n",
       " false\n",
       " false\n",
       " false\n",
       " false\n",
       " false\n",
       " false\n",
       " false\n",
       " false\n",
       " false\n",
       " false"
      ]
     },
     "execution_count": 33,
     "metadata": {},
     "output_type": "execute_result"
    }
   ],
   "source": [
    "@time teste(primos8)"
   ]
  },
  {
   "cell_type": "code",
   "execution_count": null,
   "metadata": {},
   "outputs": [],
   "source": [
    "#IDEIA PARA RESOLVER\n",
    "#Passo uma árvore de números primos\n",
    "\n",
    "#Se descobrimos que algum nó da árvore não é de Carmichael, não testamos os nós abaixo dali\n"
   ]
  },
  {
   "cell_type": "code",
   "execution_count": 11,
   "metadata": {},
   "outputs": [
    {
     "ename": "InterruptException",
     "evalue": "InterruptException:",
     "output_type": "error",
     "traceback": [
      "InterruptException:",
      "",
      "Stacktrace:",
      " [1] copy at ./array.jl:299 [inlined]",
      " [2] iterate(::Combinatorics.Combinations{Array{Int64,1}}, ::Array{Int64,1}) at /home/matheus/.julia/packages/Combinatorics/Utkwu/src/combinations.jl:22",
      " [3] iterate(::Base.Iterators.Filter{typeof(is_carmichael),Combinatorics.Combinations{Array{Int64,1}}}, ::Array{Int64,1}) at ./iterators.jl:437",
      " [4] iterate at ./generator.jl:44 [inlined]",
      " [5] grow_to!(::Array{Array{Int64,1},1}, ::Base.Generator{Base.Iterators.Filter{typeof(is_carmichael),Combinatorics.Combinations{Array{Int64,1}}},getfield(Main, Symbol(\"##11#12\"))}, ::Array{Int64,1}) at ./array.jl:700",
      " [6] grow_to!(::Array{Array{Int64,1},1}, ::Base.Generator{Base.Iterators.Filter{typeof(is_carmichael),Combinatorics.Combinations{Array{Int64,1}}},getfield(Main, Symbol(\"##11#12\"))}) at ./array.jl:678",
      " [7] collect at ./array.jl:617 [inlined]",
      " [8] carmichael_d_primos(::Int64, ::Array{Int64,1}) at ./In[4]:18",
      " [9] (::getfield(Main, Symbol(\"##15#16\")){Array{Int64,1}})(::Int64) at ./array.jl:0",
      " [10] iterate at ./generator.jl:47 [inlined]",
      " [11] collect_to!(::Array{Array{T,1} where T,1}, ::Base.Generator{UnitRange{Int64},getfield(Main, Symbol(\"##15#16\")){Array{Int64,1}}}, ::Int64, ::Int64) at ./array.jl:656",
      " [12] collect_to!(::Array{Array{Any,1},1}, ::Base.Generator{UnitRange{Int64},getfield(Main, Symbol(\"##15#16\")){Array{Int64,1}}}, ::Int64, ::Int64) at ./array.jl:667",
      " [13] collect_to_with_first! at ./array.jl:643 [inlined]",
      " [14] collect(::Base.Generator{UnitRange{Int64},getfield(Main, Symbol(\"##15#16\")){Array{Int64,1}}}) at ./array.jl:624",
      " [15] cap6exercicio9() at ./In[10]:3",
      " [16] top-level scope at util.jl:156",
      " [17] top-level scope at In[11]:1"
     ]
    }
   ],
   "source": [
    "@time cap6exercicio9()"
   ]
  },
  {
   "cell_type": "code",
   "execution_count": null,
   "metadata": {},
   "outputs": [],
   "source": [
    "comb = [[x for x in Combinatorics.Combinations(erastotenes(10^3),parts)] for parts=2:8]"
   ]
  },
  {
   "cell_type": "code",
   "execution_count": null,
   "metadata": {},
   "outputs": [],
   "source": [
    "reduce(+,map((x)->size(x)[1],comb))"
   ]
  },
  {
   "cell_type": "markdown",
   "metadata": {},
   "source": [
    "## Exercício 10\n",
    "\n",
    "Escreva um programa para determinar o menor pseudoprimo forte para uma dada base. Vai ser necessário implementar o teste de Miller, de modo que a entrada seja um inteiro positivo $b>1$. O programa deve aplicar o teste de Miller na base $b$ aos ímpares compostos, até achar o primeiro número para qual o teste é inconclusivo. Uma maneira de se fazer isso, é programar o Crivo de Eratóstenes de maneira a conservar a lista dos ímpares compostos, em vez dos primos e depois testar as congruências. Aplique o teste para as bases $2$, $3$, $5$ e $7$. Quais os resultados obtidos?"
   ]
  },
  {
   "cell_type": "code",
   "execution_count": null,
   "metadata": {},
   "outputs": [],
   "source": [
    "using Distributed\n",
    "@parallel for N in 1:5:20\n",
    "    println(\"The N of this iteration in $N\")\n",
    "end"
   ]
  },
  {
   "cell_type": "code",
   "execution_count": null,
   "metadata": {},
   "outputs": [],
   "source": [
    "1+1"
   ]
  },
  {
   "cell_type": "code",
   "execution_count": null,
   "metadata": {},
   "outputs": [],
   "source": []
  }
 ],
 "metadata": {
  "kernelspec": {
   "display_name": "Julia 1.0.3",
   "language": "julia",
   "name": "julia-1.0"
  },
  "language_info": {
   "file_extension": ".jl",
   "mimetype": "application/julia",
   "name": "julia",
   "version": "1.0.3"
  }
 },
 "nbformat": 4,
 "nbformat_minor": 2
}
