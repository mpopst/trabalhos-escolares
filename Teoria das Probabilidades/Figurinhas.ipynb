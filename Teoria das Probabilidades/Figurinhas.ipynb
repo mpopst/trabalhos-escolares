{
 "cells": [
  {
   "cell_type": "code",
   "execution_count": 5,
   "metadata": {
    "collapsed": true
   },
   "outputs": [],
   "source": [
    "import numpy as np\n",
    "import random as r"
   ]
  },
  {
   "cell_type": "code",
   "execution_count": 97,
   "metadata": {
    "collapsed": true
   },
   "outputs": [],
   "source": [
    "N = 570\n",
    "M = 4500\n",
    "album = set()"
   ]
  },
  {
   "cell_type": "markdown",
   "metadata": {},
   "source": [
    "# Exercicio 1\n",
    "## Letra a"
   ]
  },
  {
   "cell_type": "code",
   "execution_count": 41,
   "metadata": {
    "collapsed": true
   },
   "outputs": [],
   "source": [
    "def comprar_figurinha(N,album):\n",
    "    fig = r.randint(1, N)\n",
    "    if fig not in album:\n",
    "        album.add(fig)\n",
    "    return album    "
   ]
  },
  {
   "cell_type": "code",
   "execution_count": 94,
   "metadata": {},
   "outputs": [],
   "source": [
    "def executar_album(N):\n",
    "    n = 0\n",
    "    album = set()\n",
    "    while len(album) != N:\n",
    "        album = comprar_figurinha(N, album)\n",
    "        n = n + 1\n",
    "    return n"
   ]
  },
  {
   "cell_type": "code",
   "execution_count": 95,
   "metadata": {},
   "outputs": [],
   "source": [
    "def experimento(N):\n",
    "    indice = []\n",
    "    for i in range(1000):\n",
    "        indice.append(executar_album(N))\n",
    "    return (np.average(indice), np.std(indice))"
   ]
  },
  {
   "cell_type": "code",
   "execution_count": 96,
   "metadata": {},
   "outputs": [
    {
     "data": {
      "text/plain": [
       "(3381.674, 457.23793556965501)"
      ]
     },
     "execution_count": 96,
     "metadata": {},
     "output_type": "execute_result"
    }
   ],
   "source": [
    "experimento(N)"
   ]
  },
  {
   "cell_type": "markdown",
   "metadata": {},
   "source": [
    "## Letra b"
   ]
  },
  {
   "cell_type": "code",
   "execution_count": 99,
   "metadata": {},
   "outputs": [],
   "source": [
    "def experimento2(N, M):\n",
    "    indice = []\n",
    "    m = 0\n",
    "    for i in range(1000):\n",
    "        indice.append(executar_album(N))\n",
    "        if indice[-1] > M:\n",
    "            m = m + 1    \n",
    "    return (np.average(indice), np.std(indice), (m/len(indice)))"
   ]
  },
  {
   "cell_type": "code",
   "execution_count": 100,
   "metadata": {},
   "outputs": [
    {
     "data": {
      "text/plain": [
       "(3365.665, 436.56678615648258, 0.021)"
      ]
     },
     "execution_count": 100,
     "metadata": {},
     "output_type": "execute_result"
    }
   ],
   "source": [
    "experimento2(N, M)"
   ]
  },
  {
   "cell_type": "markdown",
   "metadata": {},
   "source": [
    "## Letra C"
   ]
  },
  {
   "cell_type": "code",
   "execution_count": 101,
   "metadata": {
    "collapsed": true
   },
   "outputs": [],
   "source": [
    "def comprar_figurinha_dif(N,album):\n",
    "    fig = r.randint(1, N)\n",
    "    if fig > (N - 20):\n",
    "        if r.random() > 0.2:\n",
    "            return album\n",
    "    if fig not in album:\n",
    "        album.add(fig)\n",
    "    return album    \n",
    "\n",
    "def executar_album_dif(N):\n",
    "    n = 0\n",
    "    album = set()\n",
    "    while len(album) != N:\n",
    "        album = comprar_figurinha_dif(N, album)\n",
    "        n = n + 1\n",
    "    \n",
    "    return n"
   ]
  },
  {
   "cell_type": "code",
   "execution_count": 102,
   "metadata": {
    "collapsed": true
   },
   "outputs": [],
   "source": [
    "def experimento_dif(N):\n",
    "    indice = []\n",
    "    for i in range(1000):\n",
    "        indice.append(executar_album_dif(N))\n",
    "    return (np.average(indice), np.std(indice))"
   ]
  },
  {
   "cell_type": "code",
   "execution_count": 103,
   "metadata": {},
   "outputs": [
    {
     "data": {
      "text/plain": [
       "(10000.634, 3497.1578154329836)"
      ]
     },
     "execution_count": 103,
     "metadata": {},
     "output_type": "execute_result"
    }
   ],
   "source": [
    "experimento_dif(N)"
   ]
  },
  {
   "cell_type": "code",
   "execution_count": null,
   "metadata": {
    "collapsed": true
   },
   "outputs": [],
   "source": []
  }
 ],
 "metadata": {
  "kernelspec": {
   "display_name": "Python 3",
   "language": "python",
   "name": "python3"
  },
  "language_info": {
   "codemirror_mode": {
    "name": "ipython",
    "version": 3
   },
   "file_extension": ".py",
   "mimetype": "text/x-python",
   "name": "python",
   "nbconvert_exporter": "python",
   "pygments_lexer": "ipython3",
   "version": "3.6.3"
  }
 },
 "nbformat": 4,
 "nbformat_minor": 2
}
