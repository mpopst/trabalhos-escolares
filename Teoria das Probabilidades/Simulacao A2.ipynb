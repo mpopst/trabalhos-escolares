{
 "cells": [
  {
   "cell_type": "code",
   "execution_count": 6,
   "metadata": {
    "collapsed": true
   },
   "outputs": [],
   "source": [
    "import random\n",
    "import numpy as np"
   ]
  },
  {
   "cell_type": "code",
   "execution_count": 630,
   "metadata": {},
   "outputs": [],
   "source": [
    "f = 0.5\n",
    "c = -0.05\n",
    "m = 7.5\n",
    "lamb = 10 #minutos"
   ]
  },
  {
   "cell_type": "code",
   "execution_count": 611,
   "metadata": {},
   "outputs": [],
   "source": [
    "def cliente_atendimento(f, c, m):\n",
    "    rand = random.random()\n",
    "    if rand < f:\n",
    "        x1 = random.random()\n",
    "        return (-(0.25 -4*c) + ((0.25-4*c)**2 -2*c*(6*c -0.5 - x1))**0.5)/c\n",
    "    else:\n",
    "        return np.random.exponential(m)"
   ]
  },
  {
   "cell_type": "code",
   "execution_count": 612,
   "metadata": {},
   "outputs": [
    {
     "data": {
      "text/plain": [
       "4.175999864"
      ]
     },
     "execution_count": 612,
     "metadata": {},
     "output_type": "execute_result"
    }
   ],
   "source": [
    "#EX teórico\n",
    "f*(5.333333*(c+0.75)) + (1-f)*m"
   ]
  },
  {
   "cell_type": "code",
   "execution_count": 613,
   "metadata": {},
   "outputs": [
    {
     "data": {
      "text/plain": [
       "4.1644931814905677"
      ]
     },
     "execution_count": 613,
     "metadata": {},
     "output_type": "execute_result"
    }
   ],
   "source": [
    "np.average([cliente_atendimento(f,c,m) for i in range(100000)])"
   ]
  },
  {
   "cell_type": "code",
   "execution_count": 614,
   "metadata": {},
   "outputs": [
    {
     "data": {
      "text/plain": [
       "3.3278502817976672"
      ]
     },
     "execution_count": 614,
     "metadata": {},
     "output_type": "execute_result"
    }
   ],
   "source": [
    "np.std([cliente_atendimento(f,c,m) for i in range(100000)])"
   ]
  },
  {
   "cell_type": "markdown",
   "metadata": {},
   "source": [
    "## Letra b"
   ]
  },
  {
   "cell_type": "code",
   "execution_count": 615,
   "metadata": {},
   "outputs": [],
   "source": [
    "def nova_simulacao(f,c,m,lamb):\n",
    "    CHEGADA = [np.random.exponential(lamb)]\n",
    "    while CHEGADA[-1] < 720:\n",
    "        CHEGADA.append(CHEGADA[-1] + np.random.exponential(lamb))\n",
    "    DEMORA = [] #tempo de atendimento\n",
    "    for i in CHEGADA:\n",
    "        DEMORA.append(cliente_atendimento(f,c,m))\n",
    "    EMBORA = [CHEGADA[0]+DEMORA[0]]\n",
    "    DEMOROU = [0] #tempo de espera\n",
    "    for i in range(1, len(CHEGADA)):\n",
    "        EMBORA.append(max(EMBORA[-1], CHEGADA[i]) + DEMORA[i])\n",
    "        DEMOROU.append(EMBORA[i] - CHEGADA[i] - DEMORA[i])\n",
    "        if DEMOROU[-1] < 10**-10:\n",
    "            DEMOROU[-1] = 0\n",
    "    return DEMOROU"
   ]
  },
  {
   "cell_type": "code",
   "execution_count": 616,
   "metadata": {},
   "outputs": [
    {
     "data": {
      "text/plain": [
       "[0,\n",
       " 0,\n",
       " 7.160758106247932,\n",
       " 4.341827048043887,\n",
       " 3.9773813094414106,\n",
       " 4.903489902412968,\n",
       " 11.671230578784504,\n",
       " 12.635560807472313,\n",
       " 15.596101794105026,\n",
       " 0,\n",
       " 2.044432895878467,\n",
       " 0,\n",
       " 0,\n",
       " 0,\n",
       " 0,\n",
       " 1.7207198149824254,\n",
       " 0,\n",
       " 0,\n",
       " 0,\n",
       " 0,\n",
       " 0,\n",
       " 2.5591109647011128,\n",
       " 2.006847051201478,\n",
       " 0,\n",
       " 0,\n",
       " 0.2580717509136594,\n",
       " 1.4618320898228245,\n",
       " 0,\n",
       " 0,\n",
       " 0,\n",
       " 8.09035823521019,\n",
       " 10.36946622572703,\n",
       " 4.576159864211019,\n",
       " 5.31056928323177,\n",
       " 0,\n",
       " 0,\n",
       " 0.5577706915323151,\n",
       " 0,\n",
       " 0,\n",
       " 0,\n",
       " 0,\n",
       " 0,\n",
       " 0,\n",
       " 0.7017145128461753,\n",
       " 0,\n",
       " 0,\n",
       " 0,\n",
       " 0,\n",
       " 0,\n",
       " 0,\n",
       " 0,\n",
       " 2.5691254920193014,\n",
       " 0,\n",
       " 0,\n",
       " 0.9008757317067819,\n",
       " 4.377448011900643,\n",
       " 0,\n",
       " 0,\n",
       " 0,\n",
       " 0.030677887000132298,\n",
       " 0,\n",
       " 0,\n",
       " 0.4446930987944109,\n",
       " 0,\n",
       " 0,\n",
       " 1.7824962132282507,\n",
       " 0,\n",
       " 0,\n",
       " 0,\n",
       " 0,\n",
       " 0,\n",
       " 8.775509100624257,\n",
       " 8.984010937201955,\n",
       " 12.622871895162643,\n",
       " 1.0778366976897624,\n",
       " 5.758125092021027,\n",
       " 0,\n",
       " 0,\n",
       " 0,\n",
       " 0,\n",
       " 0,\n",
       " 0]"
      ]
     },
     "execution_count": 616,
     "metadata": {},
     "output_type": "execute_result"
    }
   ],
   "source": [
    "nova_simulacao(f,c,m,lamb)"
   ]
  },
  {
   "cell_type": "code",
   "execution_count": 617,
   "metadata": {},
   "outputs": [
    {
     "data": {
      "text/plain": [
       "0.2247965964808078"
      ]
     },
     "execution_count": 617,
     "metadata": {},
     "output_type": "execute_result"
    }
   ],
   "source": [
    "X = []\n",
    "for i in range(1000):\n",
    "    A = nova_simulacao(f,c,m,lamb)\n",
    "    LEN = len(A)\n",
    "    x = 0\n",
    "    for j in A:\n",
    "        if j>3: x += 1\n",
    "    X.append(x/LEN)\n",
    "np.average(X)"
   ]
  },
  {
   "cell_type": "markdown",
   "metadata": {},
   "source": [
    "## Letra C"
   ]
  },
  {
   "cell_type": "code",
   "execution_count": 618,
   "metadata": {},
   "outputs": [
    {
     "data": {
      "text/plain": [
       "2.3537100912391997"
      ]
     },
     "execution_count": 618,
     "metadata": {},
     "output_type": "execute_result"
    }
   ],
   "source": [
    "mi = np.average([np.average(nova_simulacao(f,c,m,lamb)) for i in range(1000)])\n",
    "mi"
   ]
  },
  {
   "cell_type": "code",
   "execution_count": 619,
   "metadata": {},
   "outputs": [
    {
     "data": {
      "text/plain": [
       "4.2948171386363363"
      ]
     },
     "execution_count": 619,
     "metadata": {},
     "output_type": "execute_result"
    }
   ],
   "source": [
    "S = np.average([np.var(nova_simulacao(f,c,m,lamb))**0.5 for i in range(1000)])\n",
    "S"
   ]
  },
  {
   "cell_type": "markdown",
   "metadata": {},
   "source": [
    "## Letra D"
   ]
  },
  {
   "cell_type": "code",
   "execution_count": 620,
   "metadata": {
    "scrolled": true
   },
   "outputs": [
    {
     "data": {
      "text/plain": [
       "0.26646715220939254"
      ]
     },
     "execution_count": 620,
     "metadata": {},
     "output_type": "execute_result"
    }
   ],
   "source": [
    "delta = 1.962*S/np.sqrt(1000)\n",
    "delta"
   ]
  },
  {
   "cell_type": "markdown",
   "metadata": {},
   "source": [
    "## Letra E"
   ]
  },
  {
   "cell_type": "code",
   "execution_count": 621,
   "metadata": {
    "collapsed": true
   },
   "outputs": [],
   "source": [
    "def nova_simulacao_1(f,c,m,lamb):\n",
    "    CHEGADA = [np.random.exponential(lamb)]\n",
    "    while CHEGADA[-1] < 720:\n",
    "        CHEGADA.append(CHEGADA[-1] + np.random.exponential(lamb))\n",
    "    DEMORA = []\n",
    "    for i in CHEGADA:\n",
    "        DEMORA.append(cliente_atendimento(f,c,m))\n",
    "    EMBORA = [CHEGADA[0]+DEMORA[0]]\n",
    "    DEMOROU = [0]\n",
    "    for i in range(1, len(CHEGADA)):\n",
    "        EMBORA.append(max(EMBORA[-1], CHEGADA[i]) + DEMORA[i])\n",
    "        DEMOROU.append(EMBORA[i] - CHEGADA[i] - DEMORA[i])\n",
    "        if DEMOROU[-1] < 10**-10:\n",
    "            DEMOROU[-1] = 0\n",
    "    return DEMORA"
   ]
  },
  {
   "cell_type": "code",
   "execution_count": 631,
   "metadata": {},
   "outputs": [
    {
     "data": {
      "text/plain": [
       "311.25186318515739"
      ]
     },
     "execution_count": 631,
     "metadata": {},
     "output_type": "execute_result"
    }
   ],
   "source": [
    "np.average([720 - np.sum(nova_simulacao_1(f,c,m,lamb)) for i in range(1000)])"
   ]
  },
  {
   "cell_type": "markdown",
   "metadata": {},
   "source": [
    "## Letra F"
   ]
  },
  {
   "cell_type": "code",
   "execution_count": 623,
   "metadata": {
    "collapsed": true
   },
   "outputs": [],
   "source": [
    "def nova_simulacao_2(f,c,m,lamb):\n",
    "    CHEGADA = [np.random.exponential(lamb)]\n",
    "    while CHEGADA[-1] < 720:\n",
    "        CHEGADA.append(CHEGADA[-1] + np.random.exponential(lamb))\n",
    "    DEMORA = [] #tempo de atendimento\n",
    "    for i in CHEGADA:\n",
    "        DEMORA.append(cliente_atendimento(f,c,m))\n",
    "    EMBORA = [CHEGADA[0]+DEMORA[0], CHEGADA[1]+DEMORA[1]]\n",
    "    DEMOROU = [0, 0]\n",
    "    for i in range(2, len(CHEGADA)):\n",
    "        EMBORA.append(min(max(EMBORA[-1], CHEGADA[i]), max(EMBORA[-2], CHEGADA[i])) + DEMORA[i])\n",
    "        DEMOROU.append(EMBORA[i] - CHEGADA[i] - DEMORA[i])\n",
    "        if DEMOROU[-1] < 10**-10:\n",
    "            DEMOROU[-1] = 0\n",
    "    return DEMOROU"
   ]
  },
  {
   "cell_type": "code",
   "execution_count": 624,
   "metadata": {},
   "outputs": [
    {
     "data": {
      "text/plain": [
       "0.010143913429552277"
      ]
     },
     "execution_count": 624,
     "metadata": {},
     "output_type": "execute_result"
    }
   ],
   "source": [
    "X = []\n",
    "for i in range(1000):\n",
    "    A = nova_simulacao_2(f,c,m,lamb)\n",
    "    LEN = len(A)\n",
    "    x = 0\n",
    "    for j in A:\n",
    "        if j>3: x += 1\n",
    "    X.append(x/LEN)\n",
    "np.average(X)"
   ]
  },
  {
   "cell_type": "code",
   "execution_count": 625,
   "metadata": {},
   "outputs": [
    {
     "data": {
      "text/plain": [
       "0.11087359960889846"
      ]
     },
     "execution_count": 625,
     "metadata": {},
     "output_type": "execute_result"
    }
   ],
   "source": [
    "mi = np.average([np.average(nova_simulacao_2(f,c,m,lamb)) for i in range(1000)])\n",
    "mi"
   ]
  },
  {
   "cell_type": "code",
   "execution_count": 626,
   "metadata": {},
   "outputs": [
    {
     "data": {
      "text/plain": [
       "0.4849811379917871"
      ]
     },
     "execution_count": 626,
     "metadata": {},
     "output_type": "execute_result"
    }
   ],
   "source": [
    "S = np.average([np.var(nova_simulacao_2(f,c,m,lamb))**0.5 for i in range(1000)])\n",
    "S"
   ]
  },
  {
   "cell_type": "code",
   "execution_count": 627,
   "metadata": {},
   "outputs": [
    {
     "data": {
      "text/plain": [
       "0.03009011525854503"
      ]
     },
     "execution_count": 627,
     "metadata": {},
     "output_type": "execute_result"
    }
   ],
   "source": [
    "delta = 1.962*S/np.sqrt(1000)\n",
    "delta"
   ]
  },
  {
   "cell_type": "code",
   "execution_count": null,
   "metadata": {
    "collapsed": true
   },
   "outputs": [],
   "source": []
  },
  {
   "cell_type": "code",
   "execution_count": null,
   "metadata": {
    "collapsed": true
   },
   "outputs": [],
   "source": []
  }
 ],
 "metadata": {
  "kernelspec": {
   "display_name": "Python 3",
   "language": "python",
   "name": "python3"
  },
  "language_info": {
   "codemirror_mode": {
    "name": "ipython",
    "version": 3
   },
   "file_extension": ".py",
   "mimetype": "text/x-python",
   "name": "python",
   "nbconvert_exporter": "python",
   "pygments_lexer": "ipython3",
   "version": "3.6.3"
  }
 },
 "nbformat": 4,
 "nbformat_minor": 2
}
