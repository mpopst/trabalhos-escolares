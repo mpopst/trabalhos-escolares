{
 "cells": [
  {
   "cell_type": "markdown",
   "metadata": {},
   "source": [
    "A2 de Linguagens de Programação – 30/11/2017\n",
    "--\n",
    "Professor: Renato Rocha Souza  \n",
    "--"
   ]
  },
  {
   "cell_type": "markdown",
   "metadata": {},
   "source": [
    "Nome do Aluno(a):"
   ]
  },
  {
   "cell_type": "code",
   "execution_count": 1,
   "metadata": {},
   "outputs": [
    {
     "name": "stdout",
     "output_type": "stream",
     "text": [
      "Entre com o seu nome completo: Matheus Popst\n",
      "Olá, Matheus Popst!\n",
      "Bom trabalho!\n"
     ]
    }
   ],
   "source": [
    "meu_nome = input('Entre com o seu nome completo: ')\n",
    "print('Olá, {}!'.format(meu_nome))\n",
    "print('Bom trabalho!')"
   ]
  },
  {
   "cell_type": "code",
   "execution_count": 3,
   "metadata": {},
   "outputs": [],
   "source": [
    "import numpy as np\n",
    "import pandas as pd\n",
    "import matplotlib.pyplot as plt\n",
    "import requests\n",
    "import random\n",
    "import re\n",
    "import string\n",
    "import time\n",
    "import pymysql\n",
    "import sqlite3\n",
    "import getpass\n",
    "import pandas.io.sql as psql\n",
    "import networkx as nx\n",
    "from IPython.display import clear_output\n",
    "%matplotlib inline"
   ]
  },
  {
   "cell_type": "markdown",
   "metadata": {},
   "source": [
    "Questão 1 (1,5 pontos)  \n",
    "\n",
    "\n",
    "Utilizando Python, crie um banco de dados no sqlite que guarde a seguinte estrutura, demonstrada no dataframe do Pandas:\n",
    "Use os tipos de dados mais adequados.  \n",
    "\n",
    "Veja:  \n",
    "https://sqlite.org/datatype3.html    \n",
    "https://sqlite.org/autoinc.html  \n",
    "https://www.tutorialspoint.com/sqlite/sqlite_update_query.htm  "
   ]
  },
  {
   "cell_type": "code",
   "execution_count": 4,
   "metadata": {},
   "outputs": [
    {
     "data": {
      "text/html": [
       "<div>\n",
       "<style scoped>\n",
       "    .dataframe tbody tr th:only-of-type {\n",
       "        vertical-align: middle;\n",
       "    }\n",
       "\n",
       "    .dataframe tbody tr th {\n",
       "        vertical-align: top;\n",
       "    }\n",
       "\n",
       "    .dataframe thead th {\n",
       "        text-align: right;\n",
       "    }\n",
       "</style>\n",
       "<table border=\"1\" class=\"dataframe\">\n",
       "  <thead>\n",
       "    <tr style=\"text-align: right;\">\n",
       "      <th></th>\n",
       "      <th>Gender</th>\n",
       "      <th>Age</th>\n",
       "      <th>Salary before Stern</th>\n",
       "      <th>Expected salary</th>\n",
       "      <th>Candidate</th>\n",
       "    </tr>\n",
       "    <tr>\n",
       "      <th>id</th>\n",
       "      <th></th>\n",
       "      <th></th>\n",
       "      <th></th>\n",
       "      <th></th>\n",
       "      <th></th>\n",
       "    </tr>\n",
       "  </thead>\n",
       "  <tbody>\n",
       "    <tr>\n",
       "      <th>0</th>\n",
       "      <td>Male</td>\n",
       "      <td>27</td>\n",
       "      <td>60000</td>\n",
       "      <td>110000</td>\n",
       "      <td>Bush</td>\n",
       "    </tr>\n",
       "    <tr>\n",
       "      <th>1</th>\n",
       "      <td>Male</td>\n",
       "      <td>30</td>\n",
       "      <td>125000</td>\n",
       "      <td>125000</td>\n",
       "      <td>Bush</td>\n",
       "    </tr>\n",
       "    <tr>\n",
       "      <th>2</th>\n",
       "      <td>Male</td>\n",
       "      <td>27</td>\n",
       "      <td>50000</td>\n",
       "      <td>120000</td>\n",
       "      <td>Bush</td>\n",
       "    </tr>\n",
       "    <tr>\n",
       "      <th>3</th>\n",
       "      <td>Male</td>\n",
       "      <td>26</td>\n",
       "      <td>56000</td>\n",
       "      <td>100000</td>\n",
       "      <td>Bush</td>\n",
       "    </tr>\n",
       "    <tr>\n",
       "      <th>4</th>\n",
       "      <td>Male</td>\n",
       "      <td>27</td>\n",
       "      <td>82000</td>\n",
       "      <td>100000</td>\n",
       "      <td>Bush</td>\n",
       "    </tr>\n",
       "    <tr>\n",
       "      <th>5</th>\n",
       "      <td>Male</td>\n",
       "      <td>32</td>\n",
       "      <td>150000</td>\n",
       "      <td>150000</td>\n",
       "      <td>Bush</td>\n",
       "    </tr>\n",
       "    <tr>\n",
       "      <th>6</th>\n",
       "      <td>Female</td>\n",
       "      <td>24</td>\n",
       "      <td>55000</td>\n",
       "      <td>100000</td>\n",
       "      <td>Bush</td>\n",
       "    </tr>\n",
       "    <tr>\n",
       "      <th>7</th>\n",
       "      <td>Male</td>\n",
       "      <td>30</td>\n",
       "      <td>110000</td>\n",
       "      <td>150000</td>\n",
       "      <td>Bush</td>\n",
       "    </tr>\n",
       "    <tr>\n",
       "      <th>8</th>\n",
       "      <td>Male</td>\n",
       "      <td>26</td>\n",
       "      <td>48000</td>\n",
       "      <td>80000</td>\n",
       "      <td>Bush</td>\n",
       "    </tr>\n",
       "    <tr>\n",
       "      <th>9</th>\n",
       "      <td>Male</td>\n",
       "      <td>26</td>\n",
       "      <td>120000</td>\n",
       "      <td>80000</td>\n",
       "      <td>Bush</td>\n",
       "    </tr>\n",
       "  </tbody>\n",
       "</table>\n",
       "</div>"
      ],
      "text/plain": [
       "    Gender  Age  Salary before Stern  Expected salary Candidate\n",
       "id                                                             \n",
       "0     Male   27                60000           110000      Bush\n",
       "1     Male   30               125000           125000      Bush\n",
       "2     Male   27                50000           120000      Bush\n",
       "3     Male   26                56000           100000      Bush\n",
       "4     Male   27                82000           100000      Bush\n",
       "5     Male   32               150000           150000      Bush\n",
       "6   Female   24                55000           100000      Bush\n",
       "7     Male   30               110000           150000      Bush\n",
       "8     Male   26                48000            80000      Bush\n",
       "9     Male   26               120000            80000      Bush"
      ]
     },
     "execution_count": 4,
     "metadata": {},
     "output_type": "execute_result"
    }
   ],
   "source": [
    "df_tf = pd.read_excel('votesurvey.xls')\n",
    "df_tf.index.name = 'id'\n",
    "df_tf.head(10)"
   ]
  },
  {
   "cell_type": "code",
   "execution_count": 65,
   "metadata": {},
   "outputs": [],
   "source": [
    "conn = sqlite3.connect('votesurvey.sqlite')\n",
    "cur = conn.cursor()"
   ]
  },
  {
   "cell_type": "code",
   "execution_count": 7,
   "metadata": {},
   "outputs": [
    {
     "data": {
      "text/plain": [
       "<sqlite3.Cursor at 0x7f2150760570>"
      ]
     },
     "execution_count": 7,
     "metadata": {},
     "output_type": "execute_result"
    }
   ],
   "source": [
    "q='''\n",
    "CREATE TABLE comovotadeputado(\n",
    "id SMALLINT UNSIGNED AUTO_INCREMENT,\n",
    "gender varchar(6),\n",
    "age integer,\n",
    "salary_before_stern integer,\n",
    "expected_salary integer,\n",
    "candidate varchar(10),\n",
    "CONSTRAINT pk_person PRIMARY KEY (id));\n",
    "'''\n",
    "cur.execute(q)"
   ]
  },
  {
   "cell_type": "code",
   "execution_count": 19,
   "metadata": {},
   "outputs": [
    {
     "data": {
      "text/plain": [
       "<sqlite3.Cursor at 0x7f2150760570>"
      ]
     },
     "execution_count": 19,
     "metadata": {},
     "output_type": "execute_result"
    }
   ],
   "source": [
    "p='''\n",
    "INSERT INTO comovotadeputado VALUES(\n",
    "9, 'Male', 26, 120000, 80000,'Bush');\n",
    "'''\n",
    "cur.execute(p)"
   ]
  },
  {
   "cell_type": "code",
   "execution_count": 18,
   "metadata": {},
   "outputs": [
    {
     "data": {
      "text/plain": [
       "<sqlite3.Cursor at 0x7f2150760570>"
      ]
     },
     "execution_count": 18,
     "metadata": {},
     "output_type": "execute_result"
    }
   ],
   "source": [
    "p='''\n",
    "INSERT INTO comovotadeputado VALUES(\n",
    "8, 'Male', 26, 48000, 8000,'Bush');\n",
    "'''\n",
    "cur.execute(p)"
   ]
  },
  {
   "cell_type": "code",
   "execution_count": 17,
   "metadata": {},
   "outputs": [
    {
     "data": {
      "text/plain": [
       "<sqlite3.Cursor at 0x7f2150760570>"
      ]
     },
     "execution_count": 17,
     "metadata": {},
     "output_type": "execute_result"
    }
   ],
   "source": [
    "p='''\n",
    "INSERT INTO comovotadeputado VALUES(\n",
    "7, 'Male', 30, 110000, 150000,'Bush');\n",
    "'''\n",
    "cur.execute(p)"
   ]
  },
  {
   "cell_type": "code",
   "execution_count": 16,
   "metadata": {},
   "outputs": [
    {
     "data": {
      "text/plain": [
       "<sqlite3.Cursor at 0x7f2150760570>"
      ]
     },
     "execution_count": 16,
     "metadata": {},
     "output_type": "execute_result"
    }
   ],
   "source": [
    "p='''\n",
    "INSERT INTO comovotadeputado VALUES(\n",
    "6, 'Female', 24, 55000, 100000,'Bush');\n",
    "'''\n",
    "cur.execute(p)"
   ]
  },
  {
   "cell_type": "code",
   "execution_count": 15,
   "metadata": {},
   "outputs": [
    {
     "data": {
      "text/plain": [
       "<sqlite3.Cursor at 0x7f2150760570>"
      ]
     },
     "execution_count": 15,
     "metadata": {},
     "output_type": "execute_result"
    }
   ],
   "source": [
    "p='''\n",
    "INSERT INTO comovotadeputado VALUES(\n",
    "5, 'Male', 32, 150000, 150000,'Bush');\n",
    "'''\n",
    "cur.execute(p)"
   ]
  },
  {
   "cell_type": "code",
   "execution_count": 12,
   "metadata": {},
   "outputs": [
    {
     "data": {
      "text/plain": [
       "<sqlite3.Cursor at 0x7f2150760570>"
      ]
     },
     "execution_count": 12,
     "metadata": {},
     "output_type": "execute_result"
    }
   ],
   "source": [
    "p='''\n",
    "INSERT INTO comovotadeputado VALUES(\n",
    "4, 'Male', 27, 82000, 100000,'Bush');\n",
    "'''\n",
    "cur.execute(p)"
   ]
  },
  {
   "cell_type": "code",
   "execution_count": 11,
   "metadata": {},
   "outputs": [
    {
     "data": {
      "text/plain": [
       "<sqlite3.Cursor at 0x7f2150760570>"
      ]
     },
     "execution_count": 11,
     "metadata": {},
     "output_type": "execute_result"
    }
   ],
   "source": [
    "p='''\n",
    "INSERT INTO comovotadeputado VALUES(\n",
    "3, 'Male', 26, 56000, 100000,'Bush');\n",
    "'''\n",
    "cur.execute(p)"
   ]
  },
  {
   "cell_type": "code",
   "execution_count": 10,
   "metadata": {},
   "outputs": [
    {
     "data": {
      "text/plain": [
       "<sqlite3.Cursor at 0x7f2150760570>"
      ]
     },
     "execution_count": 10,
     "metadata": {},
     "output_type": "execute_result"
    }
   ],
   "source": [
    "p='''\n",
    "INSERT INTO comovotadeputado VALUES(\n",
    "2, 'Male', 27, 50000, 120000,'Bush');\n",
    "'''\n",
    "cur.execute(p)"
   ]
  },
  {
   "cell_type": "code",
   "execution_count": 9,
   "metadata": {},
   "outputs": [
    {
     "data": {
      "text/plain": [
       "<sqlite3.Cursor at 0x7f2150760570>"
      ]
     },
     "execution_count": 9,
     "metadata": {},
     "output_type": "execute_result"
    }
   ],
   "source": [
    "p='''\n",
    "INSERT INTO comovotadeputado VALUES(\n",
    "1, 'Male', 30, 125000, 125000,'Bush');\n",
    "'''\n",
    "cur.execute(p)"
   ]
  },
  {
   "cell_type": "code",
   "execution_count": 8,
   "metadata": {},
   "outputs": [
    {
     "data": {
      "text/plain": [
       "<sqlite3.Cursor at 0x7f2150760570>"
      ]
     },
     "execution_count": 8,
     "metadata": {},
     "output_type": "execute_result"
    }
   ],
   "source": [
    "p='''\n",
    "INSERT INTO comovotadeputado VALUES(\n",
    "0, 'Male', 27, 60000, 110000,'Bush');\n",
    "'''\n",
    "cur.execute(p)"
   ]
  },
  {
   "cell_type": "code",
   "execution_count": 20,
   "metadata": {},
   "outputs": [
    {
     "name": "stdout",
     "output_type": "stream",
     "text": [
      "(0, 'Male', 27, 60000, 110000, 'Bush')\n",
      "(1, 'Male', 30, 125000, 125000, 'Bush')\n",
      "(2, 'Male', 27, 50000, 120000, 'Bush')\n",
      "(3, 'Male', 26, 56000, 100000, 'Bush')\n",
      "(4, 'Male', 27, 82000, 100000, 'Bush')\n",
      "(5, 'Male', 32, 150000, 150000, 'Bush')\n",
      "(6, 'Female', 24, 55000, 100000, 'Bush')\n",
      "(7, 'Male', 30, 110000, 150000, 'Bush')\n",
      "(8, 'Male', 26, 48000, 8000, 'Bush')\n",
      "(9, 'Male', 26, 120000, 80000, 'Bush')\n"
     ]
    }
   ],
   "source": [
    "p='''\n",
    "SELECT * FROM\n",
    "comovotadeputado;\n",
    "'''\n",
    "for row in cur.execute(p):\n",
    "    print(row)"
   ]
  },
  {
   "cell_type": "markdown",
   "metadata": {},
   "source": [
    "Questão 2 (1.5 ponto)  \n",
    "\n",
    "Conecte ao banco SQLite \"iris_database.sqlite\"e responda, demonstrando os comandos SQL apropriados:  \n",
    "\n",
    "a) Há quantas \"Species\" diferentes na tabela \"iris\"?  \n",
    "b) Quantos registros totais há na tabela \"iris\"?  \n",
    "c) Qual espécie (\"Species\") contém, em média, a maior área de pétalas?  \n",
    "d) Qual espécie (\"Species\") contém, em média, a maior área total (pétalas e sépalas)?  \n"
   ]
  },
  {
   "cell_type": "code",
   "execution_count": 279,
   "metadata": {},
   "outputs": [],
   "source": [
    "conn = sqlite3.connect('../Dados/iris_database.sqlite')\n",
    "cur = conn.cursor()"
   ]
  },
  {
   "cell_type": "code",
   "execution_count": 42,
   "metadata": {},
   "outputs": [
    {
     "name": "stdout",
     "output_type": "stream",
     "text": [
      "('Iris',)\n"
     ]
    }
   ],
   "source": [
    "q='''\n",
    "SELECT name FROM sqlite_master WHERE type='table';\n",
    "'''\n",
    "for i in cur.execute(q):\n",
    "    print(i)"
   ]
  },
  {
   "cell_type": "code",
   "execution_count": 284,
   "metadata": {},
   "outputs": [
    {
     "name": "stdout",
     "output_type": "stream",
     "text": [
      "('Iris-setosa',)\n",
      "('Iris-versicolor',)\n",
      "('Iris-virginica',)\n"
     ]
    }
   ],
   "source": [
    "q='''\n",
    "SELECT DISTINCT species FROM iris ;\n",
    "'''\n",
    "for i in cur.execute(q):\n",
    "    print(i)"
   ]
  },
  {
   "cell_type": "code",
   "execution_count": 45,
   "metadata": {},
   "outputs": [
    {
     "name": "stdout",
     "output_type": "stream",
     "text": [
      "(0, 'Id', 'INTEGER', 0, None, 1)\n",
      "(1, 'SepalLengthCm', 'NUMERIC', 0, None, 0)\n",
      "(2, 'SepalWidthCm', 'NUMERIC', 0, None, 0)\n",
      "(3, 'PetalLengthCm', 'NUMERIC', 0, None, 0)\n",
      "(4, 'PetalWidthCm', 'NUMERIC', 0, None, 0)\n",
      "(5, 'Species', 'TEXT', 0, None, 0)\n"
     ]
    }
   ],
   "source": [
    "for i in cur.execute('PRAGMA table_info([Iris]);'):\n",
    "    print(i)"
   ]
  },
  {
   "cell_type": "code",
   "execution_count": 52,
   "metadata": {},
   "outputs": [
    {
     "name": "stdout",
     "output_type": "stream",
     "text": [
      "(3,)\n"
     ]
    }
   ],
   "source": [
    "for i in cur.execute('SELECT COUNT(sp) FROM (SELECT DISTINCT Species as sp FROM Iris);'):\n",
    "    print(i)"
   ]
  },
  {
   "cell_type": "code",
   "execution_count": 53,
   "metadata": {},
   "outputs": [
    {
     "name": "stdout",
     "output_type": "stream",
     "text": [
      "(150,)\n"
     ]
    }
   ],
   "source": [
    "for i in cur.execute('SELECT COUNT(sp) FROM (SELECT DISTINCT Id as sp FROM Iris);'):\n",
    "    print(i)"
   ]
  },
  {
   "cell_type": "code",
   "execution_count": 282,
   "metadata": {},
   "outputs": [
    {
     "data": {
      "text/plain": [
       "0.36280000000000023"
      ]
     },
     "execution_count": 282,
     "metadata": {},
     "output_type": "execute_result"
    }
   ],
   "source": [
    "q='''\n",
    "SELECT Species, PetalLengthCm as l, PetalWidthCm as h\n",
    "FROM Iris\n",
    "WHERE Species='Iris-setosa'\n",
    "'''\n",
    "setosa=[]\n",
    "for i in cur.execute(q):\n",
    "    setosa.append(i)\n",
    "n=0\n",
    "area=0\n",
    "for petala in setosa:\n",
    "    n=n+1\n",
    "    area=area+petala[1]*petala[2]\n",
    "media_setosa = area/n\n",
    "media_setosa"
   ]
  },
  {
   "cell_type": "code",
   "execution_count": 285,
   "metadata": {},
   "outputs": [
    {
     "data": {
      "text/plain": [
       "5.7204"
      ]
     },
     "execution_count": 285,
     "metadata": {},
     "output_type": "execute_result"
    }
   ],
   "source": [
    "q='''\n",
    "SELECT Species, PetalLengthCm as l, PetalWidthCm as h\n",
    "FROM Iris\n",
    "WHERE Species='Iris-versicolor'\n",
    "'''\n",
    "versicolor=[]\n",
    "for i in cur.execute(q):\n",
    "    versicolor.append(i)\n",
    "n=0\n",
    "area=0\n",
    "for petala in versicolor:\n",
    "    n=n+1\n",
    "    area=area+petala[1]*petala[2]\n",
    "media_versicolor = area/n\n",
    "media_versicolor"
   ]
  },
  {
   "cell_type": "code",
   "execution_count": 286,
   "metadata": {},
   "outputs": [
    {
     "data": {
      "text/plain": [
       "11.296199999999994"
      ]
     },
     "execution_count": 286,
     "metadata": {},
     "output_type": "execute_result"
    }
   ],
   "source": [
    "q='''\n",
    "SELECT Species, PetalLengthCm as l, PetalWidthCm as h\n",
    "FROM Iris\n",
    "WHERE Species='Iris-virginica'\n",
    "'''\n",
    "virginancia=[]\n",
    "for i in cur.execute(q):\n",
    "    virginancia.append(i)\n",
    "n=0\n",
    "area=0\n",
    "for petala in virginancia:\n",
    "    n=n+1\n",
    "    area=area+petala[1]*petala[2]\n",
    "media_virginancia = area/n\n",
    "media_virginancia"
   ]
  },
  {
   "cell_type": "markdown",
   "metadata": {},
   "source": [
    "MAIOR ÁREA MÉDIA DE PÉTALAS: Iris-virginica"
   ]
  },
  {
   "cell_type": "markdown",
   "metadata": {},
   "source": [
    "O Método de fazer é análogo para a maior área total entre pétalas e sépalas. Mas o tempo é escasso."
   ]
  },
  {
   "cell_type": "markdown",
   "metadata": {},
   "source": [
    "Questão 3 (3.0 pontos)\n",
    "\n",
    "Conecte ao banco Python/Dados/chinook.sqlite e responda:\n",
    "\n",
    "a) Utilizando um comando SQL e as tabelas \"invoices\", \"invoice_items\", \"customers\" e \"tracks\", mostre quais as faixas compradas por clientes que têm o primeiro nome começando com a letra \"M\".  \n",
    "b) Quais clientes contêm a letra \"o\" tanto no nome como no sobrenome?  \n",
    "c) Crie um histograma de faixas (\"tracks\") mais compradas, usando o matplotlib.  \n",
    "d) Quais o cliente (customers) que gastou em compras (invoices) o valor mais próximo do valor médio de compras?  \n",
    "e) Escreva um script em Python + SQL para construir um dicionário tendo os nomes dos artistas como chaves e uma lista dos álbuns respectivos como valores.\n",
    " "
   ]
  },
  {
   "cell_type": "code",
   "execution_count": 214,
   "metadata": {},
   "outputs": [],
   "source": [
    "conn = sqlite3.connect('chinook.sqlite')\n",
    "cur = conn.cursor()"
   ]
  },
  {
   "cell_type": "markdown",
   "metadata": {},
   "source": [
    "LETRA A)"
   ]
  },
  {
   "cell_type": "code",
   "execution_count": 104,
   "metadata": {},
   "outputs": [
    {
     "name": "stdout",
     "output_type": "stream",
     "text": [
      "('Luís', 'Experiment In Terra')\n",
      "('Luís', 'Take the Celestra')\n",
      "('Luís', 'Shout It Out Loud')\n",
      "('Luís', 'Calling Dr. Love')\n",
      "('Luís', 'Strutter')\n",
      "('Luís', 'Cold Gin')\n",
      "('Luís', 'Think About You')\n",
      "('Luís', 'Rocket Queen')\n",
      "('Luís', \"Don't Cry (Original)\")\n",
      "('Luís', 'Back off Bitch')\n",
      "('Luís', 'Garden of Eden')\n",
      "('Luís', 'Coma')\n",
      "('Luís', 'All Along The Watchtower')\n",
      "('Luís', 'Karelia Suite, Op.11: 2. Ballade (Tempo Di Menuetto)')\n",
      "('Luís', 'Fantasia On Greensleeves')\n",
      "('Luís', 'Interlude Zumbi')\n",
      "('Luís', 'Rios Pontes & Overdrives')\n",
      "('Luís', 'Lixo Do Mangue')\n",
      "('Luís', 'Podes Crer')\n",
      "('Luís', 'A Cor Do Sol')\n",
      "('Luís', 'Doutor')\n",
      "('Luís', 'Linha Do Equador')\n",
      "('Luís', 'TriboTchan')\n",
      "('Luís', 'Reggae Tchan')\n",
      "('Luís', 'Communication Breakdown(2)')\n",
      "('Luís', 'Carolina Hard-Core Ecstasy')\n",
      "('Luís', 'X-9 2001')\n",
      "('Luís', 'Ipiranga 2001')\n",
      "('Luís', 'Água de Beber')\n",
      "('Luís', 'Vamo Batê Lata')\n",
      "('Luís', 'Mensagen De Amor (2000)')\n",
      "('Luís', 'Saber Amar')\n",
      "('Luís', 'Cinema Mudo')\n",
      "('Luís', 'Meu Erro')\n",
      "('Luís', 'Será Que Vai Chover?')\n",
      "('Luís', \"Mama, I'm Coming Home\")\n",
      "('Luís', 'Flying High Again')\n",
      "('Luís', 'Paranoid')\n",
      "('Leonie', 'Balls to the Wall')\n",
      "('Leonie', 'Restless and Wild')\n",
      "('Leonie', 'Lavadeira')\n",
      "('Leonie', 'Dazed and Confused')\n",
      "('Leonie', 'You Shook Me(2)')\n",
      "('Leonie', 'Man With The Woman Head')\n",
      "('Leonie', 'Leandro De Itaquera 2001')\n",
      "('Leonie', 'Vôo Sobre o Horizonte')\n",
      "('Leonie', 'All Star')\n",
      "('Leonie', 'Tanto Tempo')\n",
      "('Leonie', 'Bumbo Da Mangueira')\n",
      "('Leonie', 'Die Die My Darling')\n",
      "('Leonie', 'Radio GA GA')\n",
      "('Leonie', \"I'm Going Slightly Mad\")\n",
      "('Leonie', 'Sure Know Something')\n",
      "('Leonie', 'God Of Thunder')\n",
      "('Leonie', 'Beach Sequence')\n",
      "('Leonie', 'Plot 180')\n",
      "('Leonie', 'Murders In The Rue Morgue')\n",
      "('Leonie', 'Iron Maiden')\n",
      "('Leonie', 'Untitled')\n",
      "('Leonie', 'Nothingman')\n",
      "('Leonie', 'World Wide Suicide')\n",
      "('Leonie', 'Big Wave')\n",
      "('Leonie', \"Can't Keep\")\n",
      "('Leonie', \"I Still Haven't Found What I'm Looking for\")\n",
      "('Leonie', 'Freedom For My People')\n",
      "('Leonie', 'The Alchemist')\n",
      "('Leonie', 'First Time I Met The Blues')\n",
      "('Leonie', 'Stone Crazy')\n",
      "('Leonie', 'When My Left Eye Jumps')\n",
      "('Leonie', 'Bell Bottom Blues')\n",
      "('Leonie', 'Swing Low Sweet Chariot')\n",
      "('Leonie', 'Let It Grow')\n",
      "('Leonie', 'Before You Accuse Me')\n",
      "('Leonie', \"Nobody Knows You When You're Down & Out\")\n",
      "('Leonie', 'Alberta')\n",
      "('Leonie', 'Boris The Spider')\n",
      "('Ladislav', 'O Pulso')\n",
      "('Ladislav', 'Nem 5 Minutos Guardados')\n",
      "('Ladislav', 'Dirty Little Thing')\n",
      "('Ladislav', 'So Por Amor')\n",
      "('Ladislav', 'Here I Go Again')\n",
      "('Ladislav', 'The Deeper The Love')\n",
      "('Ladislav', 'Seu Balancê')\n",
      "('Ladislav', 'Sapopemba e Maxambomba')\n",
      "('Ladislav', 'The Man Behind the Curtain')\n",
      "('Ladislav', 'The Dundies')\n",
      "('Ladislav', 'Christmas Party')\n",
      "('Ladislav', \"Michael's Birthday\")\n",
      "('Ladislav', 'Diwali')\n",
      "('Ladislav', \"Phyllis's Wedding\")\n",
      "('Ladislav', 'How to Stop an Exploding Man')\n",
      "('Ladislav', 'The Long Patrol')\n",
      "('Ladislav', 'The Educated Fool')\n",
      "('Ladislav', 'Out Of Sight')\n",
      "('Ladislav', 'Get Up (I Feel Like Being A) Sex Machine')\n",
      "('Ladislav', \"It's Too Funky In Here\")\n",
      "('Ladislav', 'Too Young To Die')\n",
      "('Ladislav', 'Blow Your Mind')\n",
      "('Ladislav', 'Soul Education')\n",
      "('Ladislav', 'King For A Day')\n",
      "('Ladislav', 'Manifest Destiny')\n",
      "('Ladislav', 'Sheer Heart Attack')\n",
      "('Ladislav', 'All Dead, All Dead')\n",
      "('Ladislav', 'Do You Feel Loved')\n",
      "('Ladislav', 'If God Will Send His Angels')\n",
      "('Ladislav', 'Last Night On Earth')\n",
      "('Ladislav', 'Miami')\n",
      "('Ladislav', 'Evil Dick')\n",
      "('Ladislav', 'King In Crimson')\n",
      "('Ladislav', 'Book Of Thel')\n",
      "('Ladislav', 'Machine Men')\n",
      "('Ladislav', 'Let Me Love You Baby')\n",
      "('Ladislav', 'Leave My Girl Alone')\n",
      "('Ladislav', 'Sangue Latino')\n",
      "('Lucas', 'Me Liga')\n",
      "('Lucas', 'Quase Um Segundo')\n",
      "('Lucas', 'Palavras')\n",
      "('Lucas', 'A Melhor Forma')\n",
      "('Lucas', '32 Dentes')\n",
      "('Lucas', 'Não Vou Lutar')\n",
      "('Lucas', 'Étude 1, In C Major - Preludio (Presto) - Liszt')\n",
      "('Lucas', 'String Quartet No. 12 in C Minor, D. 703 \"Quartettsatz\": II. Andante - Allegro assai')\n",
      "('Lucas', 'For Those About To Rock (We Salute You)')\n",
      "('Lucas', 'Princess of the Dawn')\n",
      "('Lucas', 'Snowballed')\n",
      "('Lucas', 'Night Of The Long Knives')\n",
      "('Lucas', 'Motorbreath')\n",
      "('Lucas', 'Fight From The Inside')\n",
      "('Lucas', 'Sleep On The Sidewalk')\n",
      "('Lucas', 'This Is Radio Clash')\n",
      "('Lucas', 'Nico')\n",
      "('Lucas', \"Lil' Evil\")\n",
      "('Lucas', 'Love')\n",
      "('Lucas', 'The Crystal Ship')\n",
      "('Lucas', 'Roxanne')\n",
      "('Lucas', 'Every Breath You Take')\n",
      "('Lucas', 'As Tears Go By')\n",
      "('Lucas', 'You Got Me Rocking')\n",
      "('Lucas', 'Respectable')\n",
      "('Lucas', 'Moon Is Up')\n",
      "('Lucas', 'Mean Disposition')\n",
      "('Lucas', 'Release')\n",
      "('Lucas', 'Psychopomp')\n",
      "('Lucas', 'After Midnight')\n",
      "('Lucas', 'Promises')\n",
      "('Lucas', 'Lonely Stranger')\n",
      "('Lucas', 'San Francisco Bay Blues')\n",
      "('Lucas', 'Last Cup Of Sorrow')\n",
      "('Lucas', 'Got That Feeling')\n",
      "('Lucas', 'Midlife Crisis')\n",
      "('Lucas', 'Be Aggressive')\n",
      "('Lucas', 'Get Out')\n",
      "('Luis', 'Good Golly Miss Molly')\n",
      "('Luis', 'Wrote A Song For Everyone')\n",
      "('Luis', 'See You')\n",
      "('Luis', 'I Get A Kick Out Of You')\n",
      "('Luis', 'Fly Me To The Moon')\n",
      "('Luis', 'Mack The Knife')\n",
      "('Luis', 'Funk Hum')\n",
      "('Luis', 'Forty Days Instrumental')\n",
      "('Luis', 'Pau-De-Arara')\n",
      "('Luis', 'Stir It Up (Live)')\n",
      "('Luis', 'A Novidade (Live)')\n",
      "('Luis', 'Realce')\n",
      "('Luis', 'Aquele Abraço')\n",
      "('Luis', 'Re-Align')\n",
      "('Luis', 'Holiday')\n",
      "('Luis', \"Homecoming / The Death Of St. Jimmy / East 12th St. / Nobody Likes You / Rock And Roll Girlfriend / We're Coming Home Again\")\n",
      "('Luis', 'Hero')\n",
      "('Luis', 'The Woman King')\n",
      "('Luis', 'Crossroads, Pt. 2')\n",
      "('Luis', 'Better Halves')\n",
      "('Luis', 'The Fix')\n",
      "('Luis', 'Parasite')\n",
      "('Luis', 'The Glass Ballerina')\n",
      "('Luis', 'Walkabout')\n",
      "('Luis', 'I Do')\n",
      "('Luis', 'The Tower')\n",
      "('Luis', 'Killing Floor')\n",
      "('Luis', 'Madalena')\n",
      "('Luis', 'Aprendendo A Jogar')\n",
      "('Luis', 'Badge')\n",
      "('Luis', 'Sunshine Of Your Love')\n",
      "('Luis', 'Wearing And Tearing')\n",
      "('Luis', 'The Crunge')\n",
      "('Luis', 'The Ocean')\n",
      "('Luis', 'Hot Dog')\n",
      "('Luis', 'Black Dog')\n",
      "('Luis', 'Misty Mountain Hop')\n",
      "('Luis', \"Scheherazade, Op. 35: I. The Sea and Sindbad's Ship\")\n"
     ]
    }
   ],
   "source": [
    "q = '''\n",
    "SELECT dois.nome as nome, tracks.name\n",
    "FROM\n",
    "tracks\n",
    "INNER JOIN\n",
    "(SELECT um.nome as nome , invoice_items.TrackId as trackId\n",
    "FROM\n",
    "invoice_items\n",
    "INNER JOIN\n",
    "(SELECT customers.Firstname as nome, invoices.invoiceId as invoiceid\n",
    "FROM\n",
    "customers\n",
    "INNER JOIN\n",
    "invoices\n",
    "WHERE\n",
    "customers.CustomerId = invoices.CustomerId and customers.Firstname like 'L%') AS UM\n",
    "WHERE\n",
    "invoice_items.invoiceId = um.invoiceid) as dois\n",
    "WHERE\n",
    "tracks.trackid = dois.trackid\n",
    ";\n",
    "'''\n",
    "for row in cur.execute(q):\n",
    "    print(row)"
   ]
  },
  {
   "cell_type": "markdown",
   "metadata": {},
   "source": [
    "LETRA B)"
   ]
  },
  {
   "cell_type": "code",
   "execution_count": 110,
   "metadata": {},
   "outputs": [
    {
     "name": "stdout",
     "output_type": "stream",
     "text": [
      "('John', 'Gordon')\n",
      "('Robert', 'Brown')\n",
      "('Joakim', 'Johansson')\n"
     ]
    }
   ],
   "source": [
    "q='''\n",
    "SELECT customers.FirstName, customers.lastname\n",
    "FROM\n",
    "customers\n",
    "WHERE\n",
    "customers.firstname like '%o%' and customers.lastname like '%o%';\n",
    "'''\n",
    "for row in cur.execute(q):\n",
    "    print(row)"
   ]
  },
  {
   "cell_type": "markdown",
   "metadata": {},
   "source": [
    "LETRA C)"
   ]
  },
  {
   "cell_type": "code",
   "execution_count": 228,
   "metadata": {},
   "outputs": [],
   "source": [
    "q = '''\n",
    "select uma.a, uma.soma\n",
    "from\n",
    "(select tracks.name as a, sum(invoice_items.quantity) as soma, tracks.AlbumID as b\n",
    "from invoice_items\n",
    "inner join\n",
    "tracks\n",
    "ON tracks.TrackID = invoice_items.TrackID\n",
    "group by tracks.TrackID\n",
    "order by soma\n",
    "desc) as uma\n",
    "inner join\n",
    "albums\n",
    "ON uma.b = albums.AlbumID;\n",
    "'''"
   ]
  },
  {
   "cell_type": "code",
   "execution_count": 229,
   "metadata": {},
   "outputs": [
    {
     "data": {
      "text/plain": [
       "[('Balls to the Wall', 2),\n",
       " ('Inject The Venom', 2),\n",
       " ('Snowballed', 2),\n",
       " ('Overdose', 2),\n",
       " ('Deuces Are Wild', 2),\n",
       " ('Not The Doctor', 2),\n",
       " ('Por Causa De Você', 2),\n",
       " ('Welcome Home (Sanitarium)', 2),\n",
       " ('Snowblind', 2),\n",
       " ('Cornucopia', 2)]"
      ]
     },
     "execution_count": 229,
     "metadata": {},
     "output_type": "execute_result"
    }
   ],
   "source": [
    "A=[]\n",
    "for i in cur.execute(q):\n",
    "    A.append(i)\n",
    "B=A\n",
    "A=[]\n",
    "for i in range(10):\n",
    "    A.append(B[i])\n",
    "A"
   ]
  },
  {
   "cell_type": "code",
   "execution_count": 230,
   "metadata": {},
   "outputs": [
    {
     "data": {
      "image/png": "[encoded data removed]",
      "text/plain": [
       "<matplotlib.figure.Figure at 0x7f214d754240>"
      ]
     },
     "metadata": {},
     "output_type": "display_data"
    }
   ],
   "source": [
    "import numpy as np\n",
    "import matplotlib.pyplot as plt\n",
    "\n",
    "word = []\n",
    "frequency = []\n",
    "\n",
    "for i in range(len(A)):\n",
    "    word.append(A[i][0])\n",
    "    frequency.append(A[i][1])\n",
    "\n",
    "\n",
    "plt.bar(word, frequency, color='r')\n",
    "plt.show()"
   ]
  },
  {
   "cell_type": "markdown",
   "metadata": {},
   "source": [
    "LETRA E)"
   ]
  },
  {
   "cell_type": "code",
   "execution_count": 224,
   "metadata": {},
   "outputs": [],
   "source": [
    "q='''\n",
    "select artists.name, albums.title\n",
    "from albums\n",
    "inner join artists\n",
    "on albums.ArtistId = artists.ArtistId\n",
    "'''\n",
    "A=[]\n",
    "for i in cur.execute(q):\n",
    "    A.append(i)"
   ]
  },
  {
   "cell_type": "code",
   "execution_count": 209,
   "metadata": {},
   "outputs": [],
   "source": [
    "B=dict()"
   ]
  },
  {
   "cell_type": "code",
   "execution_count": 210,
   "metadata": {},
   "outputs": [],
   "source": [
    "for item in A:\n",
    "    if item[0] not in B:\n",
    "        B[item[0]]=[item[1]]\n",
    "    else:\n",
    "        B[item[0]].append(item[1])"
   ]
  },
  {
   "cell_type": "code",
   "execution_count": 211,
   "metadata": {},
   "outputs": [
    {
     "data": {
      "text/plain": [
       "{'AC/DC': ['For Those About To Rock We Salute You', 'Let There Be Rock'],\n",
       " 'Aaron Copland & London Symphony Orchestra': ['A Copland Celebration, Vol. I'],\n",
       " 'Aaron Goldberg': ['Worlds'],\n",
       " 'Academy of St. Martin in the Fields & Sir Neville Marriner': ['The World of Classical Favourites'],\n",
       " 'Academy of St. Martin in the Fields Chamber Ensemble & Sir Neville Marriner': ['Sir Neville Marriner: A Celebration'],\n",
       " 'Academy of St. Martin in the Fields, John Birch, Sir Neville Marriner & Sylvia McNair': ['Fauré: Requiem, Ravel: Pavane & Others'],\n",
       " 'Academy of St. Martin in the Fields, Sir Neville Marriner & Thurston Dart': ['Bach: Orchestral Suites Nos. 1 - 4'],\n",
       " 'Accept': ['Balls to the Wall', 'Restless and Wild'],\n",
       " 'Adrian Leaper & Doreen de Feis': ['Górecki: Symphony No. 3'],\n",
       " 'Aerosmith': ['Big Ones'],\n",
       " 'Aisha Duo': ['Quiet Songs'],\n",
       " 'Alanis Morissette': ['Jagged Little Pill'],\n",
       " 'Alberto Turco & Nova Schola Gregoriana': ['Adorate Deum: Gregorian Chant from the Proper of the Mass'],\n",
       " 'Alice In Chains': ['Facelift'],\n",
       " 'Amy Winehouse': ['Back to Black', 'Frank'],\n",
       " 'Anne-Sophie Mutter, Herbert Von Karajan & Wiener Philharmoniker': ['Vivaldi: The Four Seasons'],\n",
       " 'Antal Doráti & London Symphony Orchestra': [\"Tchaikovsky: 1812 Festival Overture, Op.49, Capriccio Italien & Beethoven: Wellington's Victory\"],\n",
       " 'Antônio Carlos Jobim': ['Warner 25 Anos', 'Chill: Brazil (Disc 2)'],\n",
       " 'Apocalyptica': ['Plays Metallica By Four Cellos'],\n",
       " 'Aquaman': ['Aquaman'],\n",
       " 'Audioslave': ['Audioslave', 'Out Of Exile', 'Revelations'],\n",
       " 'BackBeat': ['BackBeat Soundtrack'],\n",
       " 'Barry Wordsworth & BBC Concert Orchestra': ['The Last Night of the Proms'],\n",
       " 'Battlestar Galactica': ['Battlestar Galactica: The Story So Far',\n",
       "  'Battlestar Galactica, Season 3'],\n",
       " 'Battlestar Galactica (Classic)': ['Battlestar Galactica (Classic), Season 1'],\n",
       " 'Berliner Philharmoniker & Hans Rosbaud': ['Sibelius: Finlandia'],\n",
       " 'Berliner Philharmoniker & Herbert Von Karajan': ['Grieg: Peer Gynt Suites & Sibelius: Pelléas et Mélisande',\n",
       "  'Mozart: Symphonies Nos. 40 & 41',\n",
       "  'Prokofiev: Symphony No.5 & Stravinksy: Le Sacre Du Printemps'],\n",
       " 'Berliner Philharmoniker, Claudio Abbado & Sabine Meyer': ['Mozart: Wind Concertos'],\n",
       " 'Billy Cobham': ['The Best Of Billy Cobham'],\n",
       " 'Black Label Society': ['Alcohol Fueled Brewtality Live! [Disc 1]',\n",
       "  'Alcohol Fueled Brewtality Live! [Disc 2]'],\n",
       " 'Black Sabbath': ['Black Sabbath', 'Black Sabbath Vol. 4 (Remaster)'],\n",
       " 'Body Count': ['Body Count'],\n",
       " 'Boston Symphony Orchestra & Seiji Ozawa': ['Carmina Burana'],\n",
       " 'Britten Sinfonia, Ivor Bolton & Lesley Garrett': ['A Soprano Inspired'],\n",
       " 'Bruce Dickinson': ['Chemical Wedding'],\n",
       " 'Buddy Guy': ['The Best Of Buddy Guy - The Millenium Collection'],\n",
       " 'C. Monteverdi, Nigel Rogers - Chiaroscuro; London Baroque; London Cornett & Sackbu': [\"Monteverdi: L'Orfeo\"],\n",
       " 'Caetano Veloso': ['Prenda Minha', 'Sozinho Remix Ao Vivo'],\n",
       " 'Cake': ['Cake: B-Sides and Rarities'],\n",
       " 'Calexico': ['Carried to Dust (Bonus Track Version)'],\n",
       " \"Charles Dutoit & L'Orchestre Symphonique de Montréal\": ['The Ultimate Relexation Album'],\n",
       " 'Chicago Symphony Chorus, Chicago Symphony Orchestra & Sir Georg Solti': ['Great Opera Choruses'],\n",
       " 'Chicago Symphony Orchestra & Fritz Reiner': ['Scheherazade'],\n",
       " 'Chico Buarque': ['Minha Historia'],\n",
       " 'Chico Science & Nação Zumbi': ['Afrociberdelia', 'Da Lama Ao Caos'],\n",
       " 'Choir Of Westminster Abbey & Simon Preston': ['Palestrina: Missa Papae Marcelli & Allegri: Miserere'],\n",
       " 'Chor der Wiener Staatsoper, Herbert Von Karajan & Wiener Philharmoniker': ['Bizet: Carmen Highlights'],\n",
       " 'Chris Cornell': ['Carry On'],\n",
       " \"Christopher O'Riley\": ['SCRIABIN: Vers la flamme'],\n",
       " 'Cidade Negra': ['Acústico MTV [Live]', 'Cidade Negra - Hits'],\n",
       " 'Cláudio Zoli': ['Na Pista'],\n",
       " 'Creedence Clearwater Revival': ['Chronicle, Vol. 1', 'Chronicle, Vol. 2'],\n",
       " 'Cássia Eller': ['Cássia Eller - Coleção Sem Limite [Disc 2]',\n",
       "  'Cássia Eller - Sem Limite [Disc 1]'],\n",
       " 'David Coverdale': ['Into The Light'],\n",
       " 'Deep Purple': ['MK III The Final Concerts [Disc 1]',\n",
       "  'The Final Concerts (Disc 2)',\n",
       "  'Come Taste The Band',\n",
       "  'Deep Purple In Rock',\n",
       "  'Fireball',\n",
       "  \"Knocking at Your Back Door: The Best Of Deep Purple in the 80's\",\n",
       "  'Machine Head',\n",
       "  'Purpendicular',\n",
       "  'Slaves And Masters',\n",
       "  'Stormbringer',\n",
       "  'The Battle Rages On'],\n",
       " 'Def Leppard': [\"Vault: Def Leppard's Greatest Hits\"],\n",
       " 'Dennis Chambers': ['Outbreak'],\n",
       " 'Djavan': ['Djavan Ao Vivo - Vol. 02', 'Djavan Ao Vivo - Vol. 1'],\n",
       " 'Dread Zeppelin': ['Un-Led-Ed'],\n",
       " 'Ed Motta': ['The Best of Ed Motta'],\n",
       " 'Edo de Waart & San Francisco Symphony': ['Adams, John: The Chairman Dances'],\n",
       " 'Elis Regina': ['Elis Regina-Minha História'],\n",
       " 'Emanuel Ax, Eugene Ormandy & Philadelphia Orchestra': ['Chopin: Piano Concertos Nos. 1 & 2'],\n",
       " 'Emerson String Quartet': [\"Schubert: The Late String Quartets & String Quintet (3 CD's)\"],\n",
       " 'English Concert & Trevor Pinnock': ['Pachelbel: Canon & Gigue',\n",
       "  'Handel: Music for the Royal Fireworks (Original Version 1749)'],\n",
       " 'Equale Brass Ensemble, John Eliot Gardiner & Munich Monteverdi Orchestra and Choir': ['Purcell: Music for the Queen Mary'],\n",
       " 'Eric Clapton': ['The Cream Of Clapton', 'Unplugged'],\n",
       " 'Eugene Ormandy': ['Holst: The Planets, Op. 32 & Vaughan Williams: Fantasies',\n",
       "  'Strauss: Waltzes',\n",
       "  'Respighi:Pines of Rome'],\n",
       " 'Faith No More': ['Album Of The Year',\n",
       "  'Angel Dust',\n",
       "  'King For A Day Fool For A Lifetime',\n",
       "  'The Real Thing'],\n",
       " 'Falamansa': ['Deixa Entrar'],\n",
       " 'Felix Schmidt, London Symphony Orchestra & Rafael Frühbeck de Burgos': ['Elgar: Cello Concerto & Vaughan Williams: Fantasias'],\n",
       " 'Foo Fighters': ['In Your Honor [Disc 1]',\n",
       "  'In Your Honor [Disc 2]',\n",
       "  'One By One',\n",
       "  'The Colour And The Shape'],\n",
       " 'Frank Sinatra': ['My Way: The Best Of Frank Sinatra [Disc 1]'],\n",
       " 'Frank Zappa & Captain Beefheart': ['Bongo Fury'],\n",
       " 'Fretwork': ['Armada: Music from the Courts of England and Spain'],\n",
       " 'Funk Como Le Gusta': ['Roda De Funk'],\n",
       " 'Gene Krupa': [\"Up An' Atom\"],\n",
       " 'Gerald Moore': ['Great Recordings of the Century - Shubert: Schwanengesang, 4 Lieder'],\n",
       " 'Gilberto Gil': ['As Canções de Eu Tu Eles',\n",
       "  'Quanta Gente Veio Ver (Live)',\n",
       "  'Quanta Gente Veio ver--Bônus De Carnaval'],\n",
       " 'Godsmack': ['Faceless'],\n",
       " 'Gonzaguinha': ['Meus Momentos'],\n",
       " 'Green Day': ['International Superhits', 'American Idiot'],\n",
       " \"Guns N' Roses\": ['Appetite for Destruction',\n",
       "  'Use Your Illusion I',\n",
       "  'Use Your Illusion II'],\n",
       " 'Gustav Mahler': ['Great Recordings of the Century - Mahler: Das Lied von der Erde'],\n",
       " 'Göteborgs Symfoniker & Neeme Järvi': ['Nielsen: The Six Symphonies'],\n",
       " 'Habib Koité and Bamada': ['Muso Ko'],\n",
       " 'Herbert Von Karajan, Mirella Freni & Wiener Philharmoniker': ['Puccini: Madama Butterfly - Highlights'],\n",
       " 'Heroes': ['Heroes, Season 1'],\n",
       " 'Hilary Hahn, Jeffrey Kahane, Los Angeles Chamber Orchestra & Margaret Batjer': ['Bach: Violin Concertos'],\n",
       " 'House Of Pain': ['House of Pain'],\n",
       " 'Incognito': ['Blue Moods'],\n",
       " 'Iron Maiden': ['A Matter of Life and Death',\n",
       "  'A Real Dead One',\n",
       "  'A Real Live One',\n",
       "  'Brave New World',\n",
       "  'Dance Of Death',\n",
       "  'Fear Of The Dark',\n",
       "  'Iron Maiden',\n",
       "  'Killers',\n",
       "  'Live After Death',\n",
       "  'Live At Donington 1992 (Disc 1)',\n",
       "  'Live At Donington 1992 (Disc 2)',\n",
       "  'No Prayer For The Dying',\n",
       "  'Piece Of Mind',\n",
       "  'Powerslave',\n",
       "  'Rock In Rio [CD1]',\n",
       "  'Rock In Rio [CD2]',\n",
       "  'Seventh Son of a Seventh Son',\n",
       "  'Somewhere in Time',\n",
       "  'The Number of The Beast',\n",
       "  'The X Factor',\n",
       "  'Virtual XI'],\n",
       " 'Itzhak Perlman': [\"Great Recordings of the Century: Paganini's 24 Caprices\"],\n",
       " 'JET': ['Get Born'],\n",
       " 'James Brown': ['Sex Machine'],\n",
       " 'James Levine': ['Mascagni: Cavalleria Rusticana'],\n",
       " 'Jamiroquai': ['Emergency On Planet Earth',\n",
       "  'Synkronized',\n",
       "  'The Return Of The Space Cowboy'],\n",
       " 'Jimi Hendrix': ['Are You Experienced?'],\n",
       " 'Joe Satriani': ['Surfing with the Alien (Remastered)'],\n",
       " 'Jorge Ben': ['Jorge Ben Jor 25 Anos'],\n",
       " 'Jota Quest': ['Jota Quest-1995'],\n",
       " 'João Suplicy': ['Cafezinho'],\n",
       " 'Judas Priest': ['Living After Midnight'],\n",
       " 'Julian Bream': ['J.S. Bach: Chaconne, Suite in E Minor, Partita in E Major & Prelude, Fugue and Allegro'],\n",
       " 'Karsh Kale': ['Realize'],\n",
       " \"Kent Nagano and Orchestre de l'Opéra de Lyon\": ['Weill: The Seven Deadly Sins'],\n",
       " 'Kiss': ['Greatest Kiss', 'Unplugged [Live]'],\n",
       " 'Led Zeppelin': ['BBC Sessions [Disc 1] [Live]',\n",
       "  'Physical Graffiti [Disc 1]',\n",
       "  'BBC Sessions [Disc 2] [Live]',\n",
       "  'Coda',\n",
       "  'Houses Of The Holy',\n",
       "  'In Through The Out Door',\n",
       "  'IV',\n",
       "  'Led Zeppelin I',\n",
       "  'Led Zeppelin II',\n",
       "  'Led Zeppelin III',\n",
       "  'Physical Graffiti [Disc 2]',\n",
       "  'Presence',\n",
       "  'The Song Remains The Same (Disc 1)',\n",
       "  'The Song Remains The Same (Disc 2)'],\n",
       " 'Legião Urbana': ['A TempestadeTempestade Ou O Livro Dos Dias',\n",
       "  'Mais Do Mesmo'],\n",
       " 'Lenny Kravitz': ['Greatest Hits'],\n",
       " 'Leonard Bernstein & New York Philharmonic': [\"Great Performances - Barber's Adagio and Other Romantic Favorites for Strings\"],\n",
       " 'Les Arts Florissants & William Christie': ['Charpentier: Divertissements, Airs & Concerts'],\n",
       " 'London Symphony Orchestra & Sir Charles Mackerras': ['Tchaikovsky: The Nutcracker'],\n",
       " 'Lost': ['Lost, Season 3',\n",
       "  'Lost, Season 1',\n",
       "  'Lost, Season 2',\n",
       "  'LOST, Season 4'],\n",
       " 'Luciana Souza/Romero Lubambo': ['Duos II'],\n",
       " 'Luciano Pavarotti': [\"Pavarotti's Opera Made Easy\"],\n",
       " 'Lulu Santos': ['Lulu Santos - RCA 100 Anos De Música - Álbum 01',\n",
       "  'Lulu Santos - RCA 100 Anos De Música - Álbum 02'],\n",
       " 'Marcos Valle': ['Chill: Brazil (Disc 1)'],\n",
       " 'Marillion': ['Misplaced Childhood'],\n",
       " 'Marisa Monte': ['Barulhinho Bom'],\n",
       " 'Martin Roscoe': ['Szymanowski: Piano Works, Vol. 1'],\n",
       " 'Marvin Gaye': ['Seek And Shall Find: More Of The Best (1963-1981)'],\n",
       " 'Maurizio Pollini': ['Beethoven Piano Sonatas: Moonlight & Pastorale'],\n",
       " 'Mela Tenenbaum, Pro Musica Prague & Richard Kapp': ['Locatelli: Concertos for Violin, Strings and Continuo, Vol. 3'],\n",
       " 'Men At Work': ['The Best Of Men At Work'],\n",
       " 'Metallica': ['Garage Inc. (Disc 1)',\n",
       "  'Black Album',\n",
       "  'Garage Inc. (Disc 2)',\n",
       "  \"Kill 'Em All\",\n",
       "  'Load',\n",
       "  'Master Of Puppets',\n",
       "  'ReLoad',\n",
       "  'Ride The Lightning',\n",
       "  'St. Anger',\n",
       "  '...And Justice For All'],\n",
       " 'Michael Tilson Thomas & San Francisco Symphony': ['Prokofiev: Romeo & Juliet',\n",
       "  'Berlioz: Symphonie Fantastique'],\n",
       " 'Michele Campanella': [\"Liszt - 12 Études D'Execution Transcendante\"],\n",
       " 'Miles Davis': ['The Essential Miles Davis [Disc 1]',\n",
       "  'The Essential Miles Davis [Disc 2]',\n",
       "  'Miles Ahead'],\n",
       " 'Milton Nascimento': ['Milton Nascimento Ao Vivo', 'Minas'],\n",
       " 'Motörhead': ['Ace Of Spades'],\n",
       " 'Mônica Marianno': ['Demorou...'],\n",
       " 'Mötley Crüe': ['Motley Crue Greatest Hits'],\n",
       " 'Nash Ensemble': ['Mozart: Chamber Music'],\n",
       " 'Nicolaus Esterhazy Sinfonia': ['The Best of Beethoven'],\n",
       " 'Nirvana': ['From The Muddy Banks Of The Wishkah [Live]', 'Nevermind'],\n",
       " 'O Rappa': ['Radio Brasil (O Som da Jovem Vanguarda) - Seleccao de Henrique Amaro'],\n",
       " 'O Terço': ['Compositores'],\n",
       " 'Olodum': ['Olodum'],\n",
       " 'Orchestra of The Age of Enlightenment': ['Bach: The Brandenburg Concertos'],\n",
       " 'Orchestre Révolutionnaire et Romantique & John Eliot Gardiner': ['Beethoven: Symhonies Nos. 5 & 6'],\n",
       " 'Os Mutantes': ['Minha História'],\n",
       " 'Os Paralamas Do Sucesso': ['Acústico MTV',\n",
       "  'Arquivo II',\n",
       "  'Arquivo Os Paralamas Do Sucesso'],\n",
       " 'Otto Klemperer & Philharmonia Orchestra': [\"Beethoven: Symphony No. 6 'Pastoral' Etc.\"],\n",
       " 'Ozzy Osbourne': ['Bark at the Moon (Remastered)',\n",
       "  'Blizzard of Ozz',\n",
       "  'Diary of a Madman (Remastered)',\n",
       "  'No More Tears (Remastered)',\n",
       "  'Tribute',\n",
       "  'Speak of the Devil'],\n",
       " 'Page & Plant': ['Walking Into Clarksdale'],\n",
       " 'Passengers': ['Original Soundtracks 1'],\n",
       " \"Paul D'Ianno\": ['The Beast Live'],\n",
       " 'Pearl Jam': ['Live On Two Legs [Live]',\n",
       "  'Pearl Jam',\n",
       "  'Riot Act',\n",
       "  'Ten',\n",
       "  'Vs.'],\n",
       " 'Philharmonia Orchestra & Sir Neville Marriner': [\"Mendelssohn: A Midsummer Night's Dream\"],\n",
       " 'Philip Glass Ensemble': ['Koyaanisqatsi (Soundtrack from the Motion Picture)'],\n",
       " 'Pink Floyd': ['Dark Side Of The Moon'],\n",
       " 'Planet Hemp': ['Os Cães Ladram Mas A Caravana Não Pára'],\n",
       " 'Queen': ['Greatest Hits II', 'Greatest Hits I', 'News Of The World'],\n",
       " 'R.E.M.': ['Green',\n",
       "  'New Adventures In Hi-Fi',\n",
       "  'The Best Of R.E.M.: The IRS Years'],\n",
       " 'R.E.M. Feat. Kate Pearson': ['Out Of Time'],\n",
       " 'Raimundos': ['Cesta Básica'],\n",
       " 'Raul Seixas': ['Raul Seixas'],\n",
       " 'Red Hot Chili Peppers': ['Blood Sugar Sex Magik',\n",
       "  'By The Way',\n",
       "  'Californication'],\n",
       " 'Richard Marlow & The Choir of Trinity College, Cambridge': ['Allegri: Miserere'],\n",
       " 'Roger Norrington, London Classical Players': ['Purcell: The Fairy Queen'],\n",
       " 'Royal Philharmonic Orchestra & Sir Thomas Beecham': ['Haydn: Symphonies 99 - 104'],\n",
       " 'Rush': ['Retrospective I (1974-1980)'],\n",
       " 'Santana': ['Supernatural', 'Santana - As Years Go By', 'Santana Live'],\n",
       " 'Scholars Baroque Ensemble': ['Handel: The Messiah (Highlights)'],\n",
       " 'Scorpions': ['20th Century Masters - The Millennium Collection: The Best of Scorpions'],\n",
       " 'Sergei Prokofiev & Yuri Temirkanov': ['Prokofiev: Symphony No.1'],\n",
       " 'Sir Georg Solti & Wiener Philharmoniker': ['Wagner: Favourite Overtures'],\n",
       " 'Sir Georg Solti, Sumi Jo & Wiener Philharmoniker': ['Mozart Gala: Famous Arias'],\n",
       " 'Skank': ['Maquinarama', 'O Samba Poconé'],\n",
       " 'Smashing Pumpkins': ['Judas 0: B-Sides and Rarities',\n",
       "  'Rotten Apples: Greatest Hits'],\n",
       " 'Soundgarden': ['A-Sides'],\n",
       " 'Spyro Gyra': ['Heart of the Night', 'Morning Dance'],\n",
       " 'Stevie Ray Vaughan & Double Trouble': ['In Step'],\n",
       " 'Stone Temple Pilots': ['Core'],\n",
       " 'System Of A Down': ['Mezmerize'],\n",
       " 'Temple of the Dog': ['Temple of the Dog'],\n",
       " 'Terry Bozzio, Tony Levin & Steve Stevens': ['[1997] Black Light Syndrome'],\n",
       " 'The 12 Cellists of The Berlin Philharmonic': ['South American Getaway'],\n",
       " 'The Black Crowes': ['Live [Disc 1]', 'Live [Disc 2]'],\n",
       " 'The Clash': ['The Singles'],\n",
       " 'The Cult': ['Beyond Good And Evil',\n",
       "  'Pure Cult: The Best Of The Cult (For Rockers, Ravers, Lovers & Sinners) [UK]'],\n",
       " 'The Doors': ['The Doors'],\n",
       " \"The King's Singers\": ['English Renaissance'],\n",
       " 'The Office': ['The Office, Season 1',\n",
       "  'The Office, Season 2',\n",
       "  'The Office, Season 3'],\n",
       " 'The Police': ['The Police Greatest Hits'],\n",
       " 'The Posies': ['Every Kind of Light'],\n",
       " 'The Rolling Stones': ['Hot Rocks, 1964-1971 (Disc 1)',\n",
       "  'No Security',\n",
       "  'Voodoo Lounge'],\n",
       " 'The Tea Party': ['Tangents', 'Transmission'],\n",
       " 'The Who': ['My Generation - The Very Best Of The Who'],\n",
       " 'Tim Maia': ['Serie Sem Limite (Disc 1)', 'Serie Sem Limite (Disc 2)'],\n",
       " 'Titãs': ['Acústico', 'Volume Dois'],\n",
       " 'Ton Koopman': ['Bach: Toccata & Fugue in D Minor'],\n",
       " 'Toquinho & Vinícius': ['Vinícius De Moraes - Sem Limite'],\n",
       " 'U2': ['Achtung Baby',\n",
       "  \"All That You Can't Leave Behind\",\n",
       "  'B-Sides 1980-1990',\n",
       "  'How To Dismantle An Atomic Bomb',\n",
       "  'Pop',\n",
       "  'Rattle And Hum',\n",
       "  'The Best Of 1980-1990',\n",
       "  'War',\n",
       "  'Zooropa',\n",
       "  'Instant Karma: The Amnesty International Campaign to Save Darfur'],\n",
       " 'UB40': ['UB40 The Best Of - Volume Two [UK]'],\n",
       " 'Van Halen': ['Diver Down',\n",
       "  'The Best Of Van Halen, Vol. I',\n",
       "  'Van Halen',\n",
       "  'Van Halen III'],\n",
       " 'Various Artists': ['Axé Bahia 2001',\n",
       "  'Carnaval 2001',\n",
       "  'Sambas De Enredo 2001',\n",
       "  'Vozes do MPB'],\n",
       " 'Velvet Revolver': ['Contraband'],\n",
       " 'Vinícius De Moraes': ['Vinicius De Moraes'],\n",
       " 'Wilhelm Kempff': ['Bach: Goldberg Variations'],\n",
       " 'Yehudi Menuhin': ['Bartok: Violin & Viola Concertos'],\n",
       " 'Yo-Yo Ma': ['Bach: The Cello Suites'],\n",
       " 'Zeca Pagodinho': ['Ao Vivo [IMPORT]']}"
      ]
     },
     "execution_count": 211,
     "metadata": {},
     "output_type": "execute_result"
    }
   ],
   "source": [
    "B"
   ]
  },
  {
   "cell_type": "markdown",
   "metadata": {
    "collapsed": true
   },
   "source": [
    "Questão 4 (1.5 pontos) \n",
    "\n",
    "Ajude as funções abaixo (escrita em R) se tornarem mais eficientes (convertendo-as para Python):  \n",
    "(faça o programa o mais próximo possível do original, sem procurar por programas semelhantes na web)"
   ]
  },
  {
   "cell_type": "raw",
   "metadata": {
    "collapsed": true
   },
   "source": [
    "cpf_gerar <- function(x){\n",
    "    g <- function(y, v){\n",
    "        z <- strsplit(as.character(y), \"\")[[1]]\n",
    "        z <- as.integer(c(z, v))\n",
    "        res <- sprintf(fmt = \"%d%d%d.%d%d%d.%d%d%d-%02d\",\n",
    "                             z[1], z[2], z[3], z[4], z[5],\n",
    "                             z[6], z[7], z[8], z[9], z[10])\n",
    "        res\n",
    "    }\n",
    "    v <- lapply(x, cpf_dig_controle)\n",
    "    result <- sapply(seq_along(x), function(i) g(x[i], v[[i]]))\n",
    "    result\n",
    "}\n",
    "\n",
    "cpf_validar <- function(x){\n",
    "    f <- function(y){\n",
    "        z <- unlist(strsplit(y, \"\\\\.\"))\n",
    "        v <- substr(z[3], 3, 6)\n",
    "        v <- as.integer(unlist(strsplit(v, \"-\")))\n",
    "        z[3] <- substr(z[3], 1, 2)\n",
    "        z <- as.integer(paste(z, collapse = \"\"))\n",
    "        list(x = z, v = v)\n",
    "    }\n",
    "    result <- lapply(x, f)\n",
    "    valido <- lapply(result, function(r) unlist(lapply(r$x, cpf_dig_controle)))\n",
    "    valido <- sapply(seq_along(valido), function(i)\n",
    "                    result[[i]]$v[1] == valido[[i]][1] & result[[i]]$v[2] == valido[[i]][2]\n",
    "                )\n",
    "    valido\n",
    "}\n",
    "\n",
    "cpf <- cpf_gerar(c(12345678, 87654321))\n",
    "cpf\n",
    "#[1] \"123.456.786-02\" \"876.543.210-07\"\n",
    "\n",
    "cpf_validar(cpf)\n",
    "#[1] TRUE TRUE"
   ]
  },
  {
   "cell_type": "code",
   "execution_count": 176,
   "metadata": {},
   "outputs": [],
   "source": [
    "def cpf_gerar(x):\n",
    "    def digitoverificador(x):\n",
    "        x = str(x)\n",
    "        dez = 10*int(str(x[0]))+9*int(str(x[1]))+8*int(str(x[2]))+7*int(str(x[3]))+6*int(str(x[4]))+5*int(str(x[5]))+4*int(str(x[6]))+3*int(str(x[7]))+2*int(str(x[8]))\n",
    "        dez = 11 - (dez%11)\n",
    "        if dez>=10:\n",
    "            dez=0\n",
    "        x = x + str(dez)\n",
    "        onze = 11*int(str(x[0]))+10*int(str(x[1]))+9*int(str(x[2]))+8*int(str(x[3]))+7*int(str(x[4]))+6*int(str(x[5]))+5*int(str(x[6]))+4*int(str(x[7]))+3*int(str(x[8]))+2*int(str(x[9]))\n",
    "        onze = 11 - (onze%11)\n",
    "        if onze>=10:\n",
    "            onze=0\n",
    "        x = str(dez) + str(onze)\n",
    "        return x\n",
    "    x = str(x) + digitoverificador(x)\n",
    "    x = x[0]+x[1]+x[2]+'.'+x[3]+x[4]+x[5]+'.'+x[6]+x[7]+x[8]+'-'+x[9]+x[10]\n",
    "    return x\n",
    "\n",
    "def verificarcpf(x):\n",
    "    def digitoverificador(x):\n",
    "        x = str(x)\n",
    "        dez = 10*int(str(x[0]))+9*int(str(x[1]))+8*int(str(x[2]))+7*int(str(x[3]))+6*int(str(x[4]))+5*int(str(x[5]))+4*int(str(x[6]))+3*int(str(x[7]))+2*int(str(x[8]))\n",
    "        dez = 11 - (dez%11)\n",
    "        if dez>=10:\n",
    "            dez=0\n",
    "        x = x + str(dez)\n",
    "        onze = 11*int(str(x[0]))+10*int(str(x[1]))+9*int(str(x[2]))+8*int(str(x[3]))+7*int(str(x[4]))+6*int(str(x[5]))+5*int(str(x[6]))+4*int(str(x[7]))+3*int(str(x[8]))+2*int(str(x[9]))\n",
    "        onze = 11 - (onze%11)\n",
    "        if onze>=10:\n",
    "            onze=0\n",
    "        x = str(dez) + str(onze)\n",
    "        return x\n",
    "    x = str(x)\n",
    "    y = digitoverificador(x)\n",
    "    if x[9]==y[0] and x[10]==y[1]:\n",
    "        return True\n",
    "    else:\n",
    "        return False"
   ]
  },
  {
   "cell_type": "code",
   "execution_count": 179,
   "metadata": {},
   "outputs": [
    {
     "data": {
      "text/plain": [
       "'452.249.798-97'"
      ]
     },
     "execution_count": 179,
     "metadata": {},
     "output_type": "execute_result"
    }
   ],
   "source": [
    "cpf_gerar(452249798)"
   ]
  },
  {
   "cell_type": "code",
   "execution_count": 181,
   "metadata": {},
   "outputs": [
    {
     "data": {
      "text/plain": [
       "True"
      ]
     },
     "execution_count": 181,
     "metadata": {},
     "output_type": "execute_result"
    }
   ],
   "source": [
    "verificarcpf(45224979897)"
   ]
  },
  {
   "cell_type": "markdown",
   "metadata": {},
   "source": [
    "Questão 5 (1.5 pontos) \n",
    "\n",
    "Por vezes precisamos passar mensagens secretas aos nossos colegas de classe. Converta o código abaixo para Python:    "
   ]
  },
  {
   "cell_type": "raw",
   "metadata": {
    "collapsed": true
   },
   "source": [
    "#include <stdio.h>\n",
    "#include <stdlib.h>\n",
    "#include <string.h>\n",
    " \n",
    "#define caesar(x) rot(13, x)\n",
    "#define decaesar(x) rot(13, x)\n",
    "#define decrypt_rot(x, y) rot((26-x), y)\n",
    " \n",
    "void rot(int c, char *str)\n",
    "{\n",
    "    int l = strlen(str);\n",
    "    const char *alpha[2] = { \"abcdefghijklmnopqrstuvwxyz\", \"ABCDEFGHIJKLMNOPQRSTUVWXYZ\"};\n",
    " \n",
    "    int i;\n",
    "    for (i = 0; i < l; i++)\n",
    "    {\n",
    "        if (!isalpha(str[i]))\n",
    "            continue;\n",
    " \n",
    "        str[i] = alpha[isupper(str[i])][((int)(tolower(str[i])-'a')+c)%26];\n",
    "    }\n",
    "}\n",
    " \n",
    " \n",
    "int main()\n",
    "{\n",
    "    char str[] = \"This is a top secret text message!\";\n",
    " \n",
    "    printf(\"Original: %s\\n\", str);\n",
    "    caesar(str);\n",
    "    printf(\"Encrypted: %s\\n\", str);\n",
    "    decaesar(str);\n",
    "    printf(\"Decrypted: %s\\n\", str);\n",
    " \n",
    "    return 0;\n",
    "}"
   ]
  },
  {
   "cell_type": "code",
   "execution_count": 182,
   "metadata": {},
   "outputs": [],
   "source": [
    "def CAESAR(c, x):\n",
    "    A=\"abcdefghijklmnopqrstuvwxyz\"\n",
    "    a = '' \n",
    "    l = len(x)\n",
    "    for i in x:\n",
    "        a = a + A[(A.index(i)+c) %26]\n",
    "    return a    "
   ]
  },
  {
   "cell_type": "code",
   "execution_count": null,
   "metadata": {},
   "outputs": [],
   "source": [
    "CAESAR(-5, 'utzhtyjrutuwfuwtaf')"
   ]
  },
  {
   "cell_type": "markdown",
   "metadata": {},
   "source": [
    "Questão *\"bônus\"* (0,5 pontos)  \n",
    "\n",
    "Converta o código abaixo para Python:  "
   ]
  },
  {
   "cell_type": "raw",
   "metadata": {
    "collapsed": true
   },
   "source": [
    "(defun divisible-by (number list)\n",
    "  \"return true if divisible by an element in the list\"\n",
    "  (loop for i in list\n",
    "       thereis (= (mod number i) 0)))\n",
    "\n",
    "(defun prime-list-generator (current max-value prime-list)\n",
    "  \"business end of p10\"\n",
    "  (if (= current max-value)\n",
    "      prime-list\n",
    "      (if (divisible-by current prime-list)\n",
    "      (prime-list-generator (+ current 1) max-value prime-list)\n",
    "      (prime-list-generator (+ current 1) max-value (nconc prime-list (list current))))))\n",
    "\n",
    "(defun p10 (n)\n",
    "  \"Find the sum of all the primes below n\"\n",
    "  (time (reduce #'+ (prime-list-generator 2 n '()))))"
   ]
  },
  {
   "cell_type": "code",
   "execution_count": 116,
   "metadata": {},
   "outputs": [],
   "source": [
    "def divisibleby (number, lista): #LISP RULES\n",
    "    for i in lista:\n",
    "        if number%i == 0:\n",
    "            return True\n",
    "    else:\n",
    "        return False\n",
    "def geradordeprimos(atual, maximovalor, listadeprimos):\n",
    "    if atual==maximovalor:\n",
    "        return listadeprimos\n",
    "    else:\n",
    "        if divisibleby(atual, listadeprimos):\n",
    "            return geradordeprimos(atual+1, maximovalor, listadeprimos)\n",
    "        else:\n",
    "            listadeprimos.append(atual)\n",
    "            return geradordeprimos(atual+1, maximovalor, listadeprimos)"
   ]
  },
  {
   "cell_type": "code",
   "execution_count": 117,
   "metadata": {},
   "outputs": [
    {
     "data": {
      "text/plain": [
       "[2, 3, 5, 7, 11, 13, 17, 19]"
      ]
     },
     "execution_count": 117,
     "metadata": {},
     "output_type": "execute_result"
    }
   ],
   "source": [
    "geradordeprimos(3, 20, [2])"
   ]
  },
  {
   "cell_type": "markdown",
   "metadata": {},
   "source": [
    "Auto-avaliação (1 ponto)  \n",
    "Escreva sua auto-avaliação (mínimo de 3 linhas) e atribua a esta um valor entre 0 e 1, levando em consideração o aproveitamento na disciplina.  "
   ]
  },
  {
   "cell_type": "markdown",
   "metadata": {},
   "source": [
    "### Autoavaliação\n",
    "\n",
    "Aprendi muito nesta disciplina, em particular a linguagem Python. No entanto, após a A1, admito que dei uma relaxada na disciplina, por conta de outros afazeres e coisas fundamentais, como o SQL, não dominei direito. Eu aprendi IntComp e LP com problemas os quais eu mesmo me desafiava e nesta último bimestre, apenas me desafiei com o LISP, o que é uma pena."
   ]
  },
  {
   "cell_type": "code",
   "execution_count": 277,
   "metadata": {},
   "outputs": [
    {
     "data": {
      "text/plain": [
       "0.7505978963684597"
      ]
     },
     "execution_count": 277,
     "metadata": {},
     "output_type": "execute_result"
    }
   ],
   "source": [
    "NOTA = random.random()\n",
    "NOTA"
   ]
  }
 ],
 "metadata": {
  "kernelspec": {
   "display_name": "Python 3",
   "language": "python",
   "name": "python3"
  },
  "language_info": {
   "codemirror_mode": {
    "name": "ipython",
    "version": 3
   },
   "file_extension": ".py",
   "mimetype": "text/x-python",
   "name": "python",
   "nbconvert_exporter": "python",
   "pygments_lexer": "ipython3",
   "version": "3.5.2"
  }
 },
 "nbformat": 4,
 "nbformat_minor": 1
}
